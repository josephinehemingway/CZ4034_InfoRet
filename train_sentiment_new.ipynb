{
 "cells": [
  {
   "cell_type": "code",
   "execution_count": 1,
   "id": "7088842c",
   "metadata": {},
   "outputs": [],
   "source": [
    "import numpy as np\n",
    "import pandas as pd\n",
    "from keras.utils import to_categorical\n",
    "from keras import models\n",
    "from keras import layers"
   ]
  },
  {
   "cell_type": "code",
   "execution_count": 4,
   "id": "185ee455",
   "metadata": {},
   "outputs": [],
   "source": [
    "from tensorflow.keras.optimizers import Adam\n",
    "from keras.models import Sequential\n",
    "from keras.layers import Dense\n",
    "from keras.layers import Dropout\n",
    "import tensorflow as tf\n",
    "from sklearn.metrics import accuracy_score, confusion_matrix\n"
   ]
  },
  {
   "cell_type": "code",
   "execution_count": 2,
   "id": "10527aaa",
   "metadata": {
    "scrolled": true
   },
   "outputs": [
    {
     "data": {
      "text/html": [
       "<div>\n",
       "<style scoped>\n",
       "    .dataframe tbody tr th:only-of-type {\n",
       "        vertical-align: middle;\n",
       "    }\n",
       "\n",
       "    .dataframe tbody tr th {\n",
       "        vertical-align: top;\n",
       "    }\n",
       "\n",
       "    .dataframe thead th {\n",
       "        text-align: right;\n",
       "    }\n",
       "</style>\n",
       "<table border=\"1\" class=\"dataframe\">\n",
       "  <thead>\n",
       "    <tr style=\"text-align: right;\">\n",
       "      <th></th>\n",
       "      <th>label</th>\n",
       "      <th>text</th>\n",
       "    </tr>\n",
       "  </thead>\n",
       "  <tbody>\n",
       "    <tr>\n",
       "      <th>2</th>\n",
       "      <td>negative</td>\n",
       "      <td>The international electronic industry company ...</td>\n",
       "    </tr>\n",
       "    <tr>\n",
       "      <th>3</th>\n",
       "      <td>positive</td>\n",
       "      <td>With the new production plant the company woul...</td>\n",
       "    </tr>\n",
       "    <tr>\n",
       "      <th>4</th>\n",
       "      <td>positive</td>\n",
       "      <td>According to the company 's updated strategy f...</td>\n",
       "    </tr>\n",
       "    <tr>\n",
       "      <th>5</th>\n",
       "      <td>positive</td>\n",
       "      <td>FINANCING OF ASPOCOMP 'S GROWTH Aspocomp is ag...</td>\n",
       "    </tr>\n",
       "    <tr>\n",
       "      <th>6</th>\n",
       "      <td>positive</td>\n",
       "      <td>For the last quarter of 2010 , Componenta 's n...</td>\n",
       "    </tr>\n",
       "    <tr>\n",
       "      <th>...</th>\n",
       "      <td>...</td>\n",
       "      <td>...</td>\n",
       "    </tr>\n",
       "    <tr>\n",
       "      <th>4840</th>\n",
       "      <td>negative</td>\n",
       "      <td>HELSINKI Thomson Financial - Shares in Cargote...</td>\n",
       "    </tr>\n",
       "    <tr>\n",
       "      <th>4841</th>\n",
       "      <td>negative</td>\n",
       "      <td>LONDON MarketWatch -- Share prices ended lower...</td>\n",
       "    </tr>\n",
       "    <tr>\n",
       "      <th>4843</th>\n",
       "      <td>negative</td>\n",
       "      <td>Operating profit fell to EUR 35.4 mn from EUR ...</td>\n",
       "    </tr>\n",
       "    <tr>\n",
       "      <th>4844</th>\n",
       "      <td>negative</td>\n",
       "      <td>Net sales of the Paper segment decreased to EU...</td>\n",
       "    </tr>\n",
       "    <tr>\n",
       "      <th>4845</th>\n",
       "      <td>negative</td>\n",
       "      <td>Sales in Finland decreased by 10.5 % in Januar...</td>\n",
       "    </tr>\n",
       "  </tbody>\n",
       "</table>\n",
       "<p>1967 rows × 2 columns</p>\n",
       "</div>"
      ],
      "text/plain": [
       "         label                                               text\n",
       "2     negative  The international electronic industry company ...\n",
       "3     positive  With the new production plant the company woul...\n",
       "4     positive  According to the company 's updated strategy f...\n",
       "5     positive  FINANCING OF ASPOCOMP 'S GROWTH Aspocomp is ag...\n",
       "6     positive  For the last quarter of 2010 , Componenta 's n...\n",
       "...        ...                                                ...\n",
       "4840  negative  HELSINKI Thomson Financial - Shares in Cargote...\n",
       "4841  negative  LONDON MarketWatch -- Share prices ended lower...\n",
       "4843  negative  Operating profit fell to EUR 35.4 mn from EUR ...\n",
       "4844  negative  Net sales of the Paper segment decreased to EU...\n",
       "4845  negative  Sales in Finland decreased by 10.5 % in Januar...\n",
       "\n",
       "[1967 rows x 2 columns]"
      ]
     },
     "execution_count": 2,
     "metadata": {},
     "output_type": "execute_result"
    }
   ],
   "source": [
    "df1 = pd.read_csv('train/all-data.csv', header=None, encoding= 'unicode_escape')\n",
    "df1 = df1.dropna()\n",
    "df1.columns = ['label', 'text']\n",
    "#df1\n",
    "df_neutral = df1.loc[df1['label'] == 'neutral']\n",
    "#df_neutral\n",
    "df_opi = df1.loc[df1['label'] != 'neutral']\n",
    "df_opi"
   ]
  },
  {
   "cell_type": "code",
   "execution_count": 3,
   "id": "c4250c70",
   "metadata": {
    "scrolled": true
   },
   "outputs": [
    {
     "name": "stderr",
     "output_type": "stream",
     "text": [
      "C:\\Users\\Trevor\\AppData\\Local\\Temp\\ipykernel_24480\\2171812143.py:6: FutureWarning: The frame.append method is deprecated and will be removed from pandas in a future version. Use pandas.concat instead.\n",
      "  df_neutral = df_neutral.append(temp_neu)\n",
      "C:\\Users\\Trevor\\AppData\\Local\\Temp\\ipykernel_24480\\2171812143.py:7: FutureWarning: The frame.append method is deprecated and will be removed from pandas in a future version. Use pandas.concat instead.\n",
      "  df_opi = df_opi.append(temp_opi)\n"
     ]
    }
   ],
   "source": [
    "df1 = pd.read_csv('train/apple-twitter-sentiment-texts.csv', header=0,)\n",
    "df1 = df1.dropna()\n",
    "df1 = df1.rename({'sentiment': 'label'}, axis='columns')\n",
    "temp_neu = df1.loc[df1['label'] == 'neutral']\n",
    "temp_opi = df1.loc[df1['label'] != 'neutral']\n",
    "df_neutral = df_neutral.append(temp_neu)\n",
    "df_opi = df_opi.append(temp_opi)\n",
    "df_neutral = df_neutral.reset_index(drop=True)\n",
    "df_opi = df_opi.reset_index(drop=True)"
   ]
  },
  {
   "cell_type": "code",
   "execution_count": 4,
   "id": "794c9d15",
   "metadata": {},
   "outputs": [
    {
     "name": "stderr",
     "output_type": "stream",
     "text": [
      "C:\\Users\\Trevor\\AppData\\Local\\Temp\\ipykernel_24480\\4193169756.py:5: FutureWarning: The frame.append method is deprecated and will be removed from pandas in a future version. Use pandas.concat instead.\n",
      "  df_neutral = df_neutral.append(temp_neu)\n",
      "C:\\Users\\Trevor\\AppData\\Local\\Temp\\ipykernel_24480\\4193169756.py:6: FutureWarning: The frame.append method is deprecated and will be removed from pandas in a future version. Use pandas.concat instead.\n",
      "  df_opi = df_opi.append(temp_opi)\n"
     ]
    }
   ],
   "source": [
    "df1 = pd.read_csv('train/finalSentimentdata2.csv', header=0,)\n",
    "df1 = df1.dropna()\n",
    "temp_neu = df1.loc[df1['label'] == 'neutral']\n",
    "temp_opi = df1.loc[df1['label'] != 'neutral']\n",
    "df_neutral = df_neutral.append(temp_neu)\n",
    "df_opi = df_opi.append(temp_opi)\n",
    "df_neutral = df_neutral.reset_index(drop=True)\n",
    "df_opi = df_opi.reset_index(drop=True)"
   ]
  },
  {
   "cell_type": "code",
   "execution_count": 5,
   "id": "823fefe9",
   "metadata": {},
   "outputs": [
    {
     "name": "stderr",
     "output_type": "stream",
     "text": [
      "C:\\Users\\Trevor\\AppData\\Local\\Temp\\ipykernel_24480\\817469992.py:5: FutureWarning: The frame.append method is deprecated and will be removed from pandas in a future version. Use pandas.concat instead.\n",
      "  df_neutral = df_neutral.append(temp_neu)\n",
      "C:\\Users\\Trevor\\AppData\\Local\\Temp\\ipykernel_24480\\817469992.py:6: FutureWarning: The frame.append method is deprecated and will be removed from pandas in a future version. Use pandas.concat instead.\n",
      "  df_opi = df_opi.append(temp_opi)\n"
     ]
    }
   ],
   "source": [
    "df1 = pd.read_csv('train/Twitter_Data.csv', header=0,)\n",
    "df1 = df1.dropna()\n",
    "temp_neu = df1.loc[df1['label'] == 'neutral']\n",
    "temp_opi = df1.loc[df1['label'] != 'neutral']\n",
    "df_neutral = df_neutral.append(temp_neu)\n",
    "df_opi = df_opi.append(temp_opi)\n",
    "df_neutral = df_neutral.reset_index(drop=True)\n",
    "df_opi = df_opi.reset_index(drop=True)"
   ]
  },
  {
   "cell_type": "code",
   "execution_count": 6,
   "id": "9aa220f2",
   "metadata": {},
   "outputs": [
    {
     "data": {
      "text/html": [
       "<div>\n",
       "<style scoped>\n",
       "    .dataframe tbody tr th:only-of-type {\n",
       "        vertical-align: middle;\n",
       "    }\n",
       "\n",
       "    .dataframe tbody tr th {\n",
       "        vertical-align: top;\n",
       "    }\n",
       "\n",
       "    .dataframe thead th {\n",
       "        text-align: right;\n",
       "    }\n",
       "</style>\n",
       "<table border=\"1\" class=\"dataframe\">\n",
       "  <thead>\n",
       "    <tr style=\"text-align: right;\">\n",
       "      <th></th>\n",
       "      <th>label</th>\n",
       "      <th>text</th>\n",
       "    </tr>\n",
       "  </thead>\n",
       "  <tbody>\n",
       "    <tr>\n",
       "      <th>0</th>\n",
       "      <td>negative</td>\n",
       "      <td>The international electronic industry company ...</td>\n",
       "    </tr>\n",
       "    <tr>\n",
       "      <th>1</th>\n",
       "      <td>positive</td>\n",
       "      <td>With the new production plant the company woul...</td>\n",
       "    </tr>\n",
       "    <tr>\n",
       "      <th>2</th>\n",
       "      <td>positive</td>\n",
       "      <td>According to the company 's updated strategy f...</td>\n",
       "    </tr>\n",
       "    <tr>\n",
       "      <th>3</th>\n",
       "      <td>positive</td>\n",
       "      <td>FINANCING OF ASPOCOMP 'S GROWTH Aspocomp is ag...</td>\n",
       "    </tr>\n",
       "    <tr>\n",
       "      <th>4</th>\n",
       "      <td>positive</td>\n",
       "      <td>For the last quarter of 2010 , Componenta 's n...</td>\n",
       "    </tr>\n",
       "    <tr>\n",
       "      <th>...</th>\n",
       "      <td>...</td>\n",
       "      <td>...</td>\n",
       "    </tr>\n",
       "    <tr>\n",
       "      <th>113639</th>\n",
       "      <td>positive</td>\n",
       "      <td>engine growth modi unveils indias first 12000 ...</td>\n",
       "    </tr>\n",
       "    <tr>\n",
       "      <th>113640</th>\n",
       "      <td>positive</td>\n",
       "      <td>modi promised 2014 lok sabha elections that be...</td>\n",
       "    </tr>\n",
       "    <tr>\n",
       "      <th>113641</th>\n",
       "      <td>negative</td>\n",
       "      <td>why these 456 crores paid neerav modi not reco...</td>\n",
       "    </tr>\n",
       "    <tr>\n",
       "      <th>113642</th>\n",
       "      <td>negative</td>\n",
       "      <td>dear rss terrorist payal gawar what about modi...</td>\n",
       "    </tr>\n",
       "    <tr>\n",
       "      <th>113643</th>\n",
       "      <td>positive</td>\n",
       "      <td>have you ever listen about like gurukul where ...</td>\n",
       "    </tr>\n",
       "  </tbody>\n",
       "</table>\n",
       "<p>113644 rows × 2 columns</p>\n",
       "</div>"
      ],
      "text/plain": [
       "           label                                               text\n",
       "0       negative  The international electronic industry company ...\n",
       "1       positive  With the new production plant the company woul...\n",
       "2       positive  According to the company 's updated strategy f...\n",
       "3       positive  FINANCING OF ASPOCOMP 'S GROWTH Aspocomp is ag...\n",
       "4       positive  For the last quarter of 2010 , Componenta 's n...\n",
       "...          ...                                                ...\n",
       "113639  positive  engine growth modi unveils indias first 12000 ...\n",
       "113640  positive  modi promised 2014 lok sabha elections that be...\n",
       "113641  negative  why these 456 crores paid neerav modi not reco...\n",
       "113642  negative  dear rss terrorist payal gawar what about modi...\n",
       "113643  positive  have you ever listen about like gurukul where ...\n",
       "\n",
       "[113644 rows x 2 columns]"
      ]
     },
     "execution_count": 6,
     "metadata": {},
     "output_type": "execute_result"
    }
   ],
   "source": [
    "df_opi"
   ]
  },
  {
   "cell_type": "code",
   "execution_count": 8,
   "id": "88bfb8f1",
   "metadata": {},
   "outputs": [
    {
     "data": {
      "text/html": [
       "<div>\n",
       "<style scoped>\n",
       "    .dataframe tbody tr th:only-of-type {\n",
       "        vertical-align: middle;\n",
       "    }\n",
       "\n",
       "    .dataframe tbody tr th {\n",
       "        vertical-align: top;\n",
       "    }\n",
       "\n",
       "    .dataframe thead th {\n",
       "        text-align: right;\n",
       "    }\n",
       "</style>\n",
       "<table border=\"1\" class=\"dataframe\">\n",
       "  <thead>\n",
       "    <tr style=\"text-align: right;\">\n",
       "      <th></th>\n",
       "      <th>label</th>\n",
       "      <th>text</th>\n",
       "    </tr>\n",
       "  </thead>\n",
       "  <tbody>\n",
       "    <tr>\n",
       "      <th>1</th>\n",
       "      <td>positive</td>\n",
       "      <td>With the new production plant the company woul...</td>\n",
       "    </tr>\n",
       "    <tr>\n",
       "      <th>2</th>\n",
       "      <td>positive</td>\n",
       "      <td>According to the company 's updated strategy f...</td>\n",
       "    </tr>\n",
       "    <tr>\n",
       "      <th>3</th>\n",
       "      <td>positive</td>\n",
       "      <td>FINANCING OF ASPOCOMP 'S GROWTH Aspocomp is ag...</td>\n",
       "    </tr>\n",
       "    <tr>\n",
       "      <th>4</th>\n",
       "      <td>positive</td>\n",
       "      <td>For the last quarter of 2010 , Componenta 's n...</td>\n",
       "    </tr>\n",
       "    <tr>\n",
       "      <th>5</th>\n",
       "      <td>positive</td>\n",
       "      <td>In the third quarter of 2010 , net sales incre...</td>\n",
       "    </tr>\n",
       "    <tr>\n",
       "      <th>...</th>\n",
       "      <td>...</td>\n",
       "      <td>...</td>\n",
       "    </tr>\n",
       "    <tr>\n",
       "      <th>113637</th>\n",
       "      <td>positive</td>\n",
       "      <td>objective cover everything from akhlaq ramalin...</td>\n",
       "    </tr>\n",
       "    <tr>\n",
       "      <th>113638</th>\n",
       "      <td>positive</td>\n",
       "      <td>raga knows dat wont spared modi courts for his...</td>\n",
       "    </tr>\n",
       "    <tr>\n",
       "      <th>113639</th>\n",
       "      <td>positive</td>\n",
       "      <td>engine growth modi unveils indias first 12000 ...</td>\n",
       "    </tr>\n",
       "    <tr>\n",
       "      <th>113640</th>\n",
       "      <td>positive</td>\n",
       "      <td>modi promised 2014 lok sabha elections that be...</td>\n",
       "    </tr>\n",
       "    <tr>\n",
       "      <th>113643</th>\n",
       "      <td>positive</td>\n",
       "      <td>have you ever listen about like gurukul where ...</td>\n",
       "    </tr>\n",
       "  </tbody>\n",
       "</table>\n",
       "<p>74482 rows × 2 columns</p>\n",
       "</div>"
      ],
      "text/plain": [
       "           label                                               text\n",
       "1       positive  With the new production plant the company woul...\n",
       "2       positive  According to the company 's updated strategy f...\n",
       "3       positive  FINANCING OF ASPOCOMP 'S GROWTH Aspocomp is ag...\n",
       "4       positive  For the last quarter of 2010 , Componenta 's n...\n",
       "5       positive  In the third quarter of 2010 , net sales incre...\n",
       "...          ...                                                ...\n",
       "113637  positive  objective cover everything from akhlaq ramalin...\n",
       "113638  positive  raga knows dat wont spared modi courts for his...\n",
       "113639  positive  engine growth modi unveils indias first 12000 ...\n",
       "113640  positive  modi promised 2014 lok sabha elections that be...\n",
       "113643  positive  have you ever listen about like gurukul where ...\n",
       "\n",
       "[74482 rows x 2 columns]"
      ]
     },
     "execution_count": 8,
     "metadata": {},
     "output_type": "execute_result"
    }
   ],
   "source": [
    "df_pos = df_opi.loc[df_opi['label'] == 'positive']\n",
    "df_pos"
   ]
  },
  {
   "cell_type": "code",
   "execution_count": 9,
   "id": "671b3f19",
   "metadata": {},
   "outputs": [
    {
     "data": {
      "text/html": [
       "<div>\n",
       "<style scoped>\n",
       "    .dataframe tbody tr th:only-of-type {\n",
       "        vertical-align: middle;\n",
       "    }\n",
       "\n",
       "    .dataframe tbody tr th {\n",
       "        vertical-align: top;\n",
       "    }\n",
       "\n",
       "    .dataframe thead th {\n",
       "        text-align: right;\n",
       "    }\n",
       "</style>\n",
       "<table border=\"1\" class=\"dataframe\">\n",
       "  <thead>\n",
       "    <tr style=\"text-align: right;\">\n",
       "      <th></th>\n",
       "      <th>label</th>\n",
       "      <th>text</th>\n",
       "    </tr>\n",
       "  </thead>\n",
       "  <tbody>\n",
       "    <tr>\n",
       "      <th>0</th>\n",
       "      <td>negative</td>\n",
       "      <td>The international electronic industry company ...</td>\n",
       "    </tr>\n",
       "    <tr>\n",
       "      <th>364</th>\n",
       "      <td>negative</td>\n",
       "      <td>A tinyurl link takes users to a scamming site ...</td>\n",
       "    </tr>\n",
       "    <tr>\n",
       "      <th>365</th>\n",
       "      <td>negative</td>\n",
       "      <td>Compared with the FTSE 100 index , which rose ...</td>\n",
       "    </tr>\n",
       "    <tr>\n",
       "      <th>366</th>\n",
       "      <td>negative</td>\n",
       "      <td>Compared with the FTSE 100 index , which rose ...</td>\n",
       "    </tr>\n",
       "    <tr>\n",
       "      <th>398</th>\n",
       "      <td>negative</td>\n",
       "      <td>One of the challenges in the oil production in...</td>\n",
       "    </tr>\n",
       "    <tr>\n",
       "      <th>...</th>\n",
       "      <td>...</td>\n",
       "      <td>...</td>\n",
       "    </tr>\n",
       "    <tr>\n",
       "      <th>113630</th>\n",
       "      <td>negative</td>\n",
       "      <td>when narender modi contested two seats was not...</td>\n",
       "    </tr>\n",
       "    <tr>\n",
       "      <th>113634</th>\n",
       "      <td>negative</td>\n",
       "      <td>modi decimates congress front crores congress ...</td>\n",
       "    </tr>\n",
       "    <tr>\n",
       "      <th>113636</th>\n",
       "      <td>negative</td>\n",
       "      <td>azamgarh please poor working requirement jogia...</td>\n",
       "    </tr>\n",
       "    <tr>\n",
       "      <th>113641</th>\n",
       "      <td>negative</td>\n",
       "      <td>why these 456 crores paid neerav modi not reco...</td>\n",
       "    </tr>\n",
       "    <tr>\n",
       "      <th>113642</th>\n",
       "      <td>negative</td>\n",
       "      <td>dear rss terrorist payal gawar what about modi...</td>\n",
       "    </tr>\n",
       "  </tbody>\n",
       "</table>\n",
       "<p>39162 rows × 2 columns</p>\n",
       "</div>"
      ],
      "text/plain": [
       "           label                                               text\n",
       "0       negative  The international electronic industry company ...\n",
       "364     negative  A tinyurl link takes users to a scamming site ...\n",
       "365     negative  Compared with the FTSE 100 index , which rose ...\n",
       "366     negative  Compared with the FTSE 100 index , which rose ...\n",
       "398     negative  One of the challenges in the oil production in...\n",
       "...          ...                                                ...\n",
       "113630  negative  when narender modi contested two seats was not...\n",
       "113634  negative  modi decimates congress front crores congress ...\n",
       "113636  negative  azamgarh please poor working requirement jogia...\n",
       "113641  negative  why these 456 crores paid neerav modi not reco...\n",
       "113642  negative  dear rss terrorist payal gawar what about modi...\n",
       "\n",
       "[39162 rows x 2 columns]"
      ]
     },
     "execution_count": 9,
     "metadata": {},
     "output_type": "execute_result"
    }
   ],
   "source": [
    "df_neg = df_opi.loc[df_opi['label'] == 'negative']\n",
    "df_neg"
   ]
  },
  {
   "cell_type": "code",
   "execution_count": 7,
   "id": "170c1d70",
   "metadata": {},
   "outputs": [
    {
     "data": {
      "text/html": [
       "<div>\n",
       "<style scoped>\n",
       "    .dataframe tbody tr th:only-of-type {\n",
       "        vertical-align: middle;\n",
       "    }\n",
       "\n",
       "    .dataframe tbody tr th {\n",
       "        vertical-align: top;\n",
       "    }\n",
       "\n",
       "    .dataframe thead th {\n",
       "        text-align: right;\n",
       "    }\n",
       "</style>\n",
       "<table border=\"1\" class=\"dataframe\">\n",
       "  <thead>\n",
       "    <tr style=\"text-align: right;\">\n",
       "      <th></th>\n",
       "      <th>label</th>\n",
       "      <th>text</th>\n",
       "    </tr>\n",
       "  </thead>\n",
       "  <tbody>\n",
       "    <tr>\n",
       "      <th>0</th>\n",
       "      <td>neutral</td>\n",
       "      <td>According to Gran , the company has no plans t...</td>\n",
       "    </tr>\n",
       "    <tr>\n",
       "      <th>1</th>\n",
       "      <td>neutral</td>\n",
       "      <td>Technopolis plans to develop in stages an area...</td>\n",
       "    </tr>\n",
       "    <tr>\n",
       "      <th>2</th>\n",
       "      <td>neutral</td>\n",
       "      <td>At the request of Finnish media company Alma M...</td>\n",
       "    </tr>\n",
       "    <tr>\n",
       "      <th>3</th>\n",
       "      <td>neutral</td>\n",
       "      <td>In Sweden , Gallerix accumulated SEK denominat...</td>\n",
       "    </tr>\n",
       "    <tr>\n",
       "      <th>4</th>\n",
       "      <td>neutral</td>\n",
       "      <td>The company supports its global customers in d...</td>\n",
       "    </tr>\n",
       "    <tr>\n",
       "      <th>...</th>\n",
       "      <td>...</td>\n",
       "      <td>...</td>\n",
       "    </tr>\n",
       "    <tr>\n",
       "      <th>58886</th>\n",
       "      <td>neutral</td>\n",
       "      <td>case dont look candidate then that case person...</td>\n",
       "    </tr>\n",
       "    <tr>\n",
       "      <th>58887</th>\n",
       "      <td>neutral</td>\n",
       "      <td>congress veteran sudhakar reddy joins bjp afte...</td>\n",
       "    </tr>\n",
       "    <tr>\n",
       "      <th>58888</th>\n",
       "      <td>neutral</td>\n",
       "      <td>save your agenda peddling ’ had with terror at...</td>\n",
       "    </tr>\n",
       "    <tr>\n",
       "      <th>58889</th>\n",
       "      <td>neutral</td>\n",
       "      <td>did you cover her interaction forum where she ...</td>\n",
       "    </tr>\n",
       "    <tr>\n",
       "      <th>58890</th>\n",
       "      <td>neutral</td>\n",
       "      <td>there big project came into india modi dream p...</td>\n",
       "    </tr>\n",
       "  </tbody>\n",
       "</table>\n",
       "<p>58891 rows × 2 columns</p>\n",
       "</div>"
      ],
      "text/plain": [
       "         label                                               text\n",
       "0      neutral  According to Gran , the company has no plans t...\n",
       "1      neutral  Technopolis plans to develop in stages an area...\n",
       "2      neutral  At the request of Finnish media company Alma M...\n",
       "3      neutral  In Sweden , Gallerix accumulated SEK denominat...\n",
       "4      neutral  The company supports its global customers in d...\n",
       "...        ...                                                ...\n",
       "58886  neutral  case dont look candidate then that case person...\n",
       "58887  neutral  congress veteran sudhakar reddy joins bjp afte...\n",
       "58888  neutral  save your agenda peddling ’ had with terror at...\n",
       "58889  neutral  did you cover her interaction forum where she ...\n",
       "58890  neutral  there big project came into india modi dream p...\n",
       "\n",
       "[58891 rows x 2 columns]"
      ]
     },
     "execution_count": 7,
     "metadata": {},
     "output_type": "execute_result"
    }
   ],
   "source": [
    "df_neutral"
   ]
  },
  {
   "cell_type": "code",
   "execution_count": 14,
   "id": "681f7979",
   "metadata": {},
   "outputs": [
    {
     "data": {
      "image/png": "[encoded data removed]",
      "text/plain": [
       "<Figure size 432x288 with 1 Axes>"
      ]
     },
     "metadata": {},
     "output_type": "display_data"
    }
   ],
   "source": [
    "import matplotlib.pyplot as plt\n",
    "import seaborn\n",
    "data = [74482, 39162, 58891]\n",
    "keys = ['Positive', 'Negative', 'Neutral']\n",
    "palette_color = seaborn.color_palette('bright')\n",
    "explode = [0, 0, 0.1]\n",
    "# plotting data on chart\n",
    "plt.pie(data, labels=keys, colors=palette_color,\n",
    "        explode=explode, autopct='%.0f%%')\n",
    "plt.show()"
   ]
  },
  {
   "cell_type": "code",
   "execution_count": 8,
   "id": "eba09972",
   "metadata": {},
   "outputs": [],
   "source": [
    "import re\n",
    "import string\n",
    "\n",
    "# # download missing resource\n",
    "# import nltk\n",
    "# nltk.download(\"stopwords\")\n",
    "\n",
    "from nltk.corpus import stopwords\n",
    "from emot.emo_unicode import UNICODE_EMOJI  # for emojis\n",
    "from emot.emo_unicode import EMOTICONS_EMO  # for emoticons"
   ]
  },
  {
   "cell_type": "code",
   "execution_count": 103,
   "id": "68263a27",
   "metadata": {},
   "outputs": [],
   "source": [
    "# Converting emojis to words\n",
    "def convert_emojis(text):\n",
    "    for i in text:\n",
    "        if i in UNICODE_EMOJI.keys():\n",
    "            try:\n",
    "                text = text.replace(i, f' {\"_\".join(UNICODE_EMOJI[i].replace(\",\",\"\").replace(\":\",\"\").split())}')\n",
    "            except:\n",
    "                continue\n",
    "    \n",
    "    return text\n",
    "\n",
    "\n",
    "# Converting emoticons to words    \n",
    "def convert_emoticons(text):\n",
    "    for i in text.split():\n",
    "        if i in EMOTICONS_EMO.keys():\n",
    "            text = text.replace(i, \"_\".join(EMOTICONS_EMO[i].replace(\",\",\"\").split()))\n",
    "    return text\n",
    "\n",
    "\n",
    "# Function for removing urls\n",
    "def remove_urls(text):\n",
    "    url_pattern = re.compile(r'https?://\\S+|www\\.\\S+')\n",
    "    return url_pattern.sub(r'', text)\n",
    "\n",
    "\n",
    "# custom punctuation\n",
    "punctuations = string.punctuation + \"´‘’“”…–€«»\"\n",
    "\n",
    "# Function to replace/remove junk seen during manual labelling\n",
    "def dejunk(text):\n",
    "    text = re.sub(r\"𝓟𝓻𝓲𝓬𝓮𝓵𝓮𝓼𝓼 𝓲𝓼 𝓽𝓱𝓮 𝓶𝓸𝓼𝓽 𝓿𝓪𝓵𝓾𝓪𝓫𝓵𝓮 𝓪𝓼𝓼𝓮𝓽 𝓽𝓸 𝓸𝔀𝓷 𝓲𝓯 𝔂𝓸𝓾 𝓪𝓻𝓮 𝓵𝓾𝓬𝓴𝔂 𝓮𝓷𝓸𝓾𝓰𝓱 𝓽𝓸 𝓫𝓮 𝓪𝓫𝓵𝓮 𝓽𝓸 𝓪𝓬𝓺𝓾𝓲𝓻𝓮 𝓲𝓽\", \n",
    "                  \"priceless is the most valuable asset to own if you are lucky enough to be able to acquire it\", text)\n",
    "    \n",
    "    text = re.sub(r\"&amp;\", \"and\", text)  # &\n",
    "    text = re.sub(r\"&gt;\", \"\", text)  # >\n",
    "    text = re.sub(r\"&lt;\", \"\", text)  # <\n",
    "    text = re.sub(r\"1⃣\", \"1. \", text)\n",
    "    text = re.sub(r\"2⃣\", \"2. \", text)\n",
    "    text = re.sub(r\"3⃣\", \"3. \", text)\n",
    "    text = re.sub(r\"4⃣\", \"4. \", text)\n",
    "\n",
    "    return text"
   ]
  },
  {
   "cell_type": "code",
   "execution_count": 104,
   "id": "0a48e9fb",
   "metadata": {},
   "outputs": [],
   "source": [
    "#making a text-cleaning function\n",
    "def preprocess_text(text):\n",
    "    \n",
    "    #convert lowercase\n",
    "    cleaned_text = text.lower()\n",
    "\n",
    "    # Replace/remove junk text\n",
    "    cleaned_text = dejunk(cleaned_text)\n",
    "    \n",
    "    #convert emoji into words\n",
    "    cleaned_text = convert_emojis(cleaned_text)\n",
    "    \n",
    "    # convert emoticons into words\n",
    "    cleaned_text = convert_emoticons(cleaned_text)\n",
    "    \n",
    "    # remove urls\n",
    "    cleaned_text = remove_urls(cleaned_text)\n",
    "    \n",
    "    #remove punctuations\n",
    "    nopunc = [char for char in cleaned_text if char not in punctuations]\n",
    "    nopunc = ''.join(nopunc)\n",
    "    \n",
    "    #remove stopwords\n",
    "    clean_words = [word for word in nopunc.split() if word.lower() not in stopwords.words('english')]\n",
    "\n",
    "    #return cleaned text\n",
    "    return ' '.join(clean_words)"
   ]
  },
  {
   "cell_type": "code",
   "execution_count": 106,
   "id": "6b2929cc",
   "metadata": {},
   "outputs": [
    {
     "data": {
      "text/html": [
       "<div>\n",
       "<style scoped>\n",
       "    .dataframe tbody tr th:only-of-type {\n",
       "        vertical-align: middle;\n",
       "    }\n",
       "\n",
       "    .dataframe tbody tr th {\n",
       "        vertical-align: top;\n",
       "    }\n",
       "\n",
       "    .dataframe thead th {\n",
       "        text-align: right;\n",
       "    }\n",
       "</style>\n",
       "<table border=\"1\" class=\"dataframe\">\n",
       "  <thead>\n",
       "    <tr style=\"text-align: right;\">\n",
       "      <th></th>\n",
       "      <th>label</th>\n",
       "      <th>text</th>\n",
       "    </tr>\n",
       "  </thead>\n",
       "  <tbody>\n",
       "    <tr>\n",
       "      <th>0</th>\n",
       "      <td>neutral</td>\n",
       "      <td>according gran company plans move production r...</td>\n",
       "    </tr>\n",
       "    <tr>\n",
       "      <th>1</th>\n",
       "      <td>neutral</td>\n",
       "      <td>technopolis plans develop stages area less 100...</td>\n",
       "    </tr>\n",
       "    <tr>\n",
       "      <th>2</th>\n",
       "      <td>neutral</td>\n",
       "      <td>request finnish media company alma media newsp...</td>\n",
       "    </tr>\n",
       "    <tr>\n",
       "      <th>3</th>\n",
       "      <td>neutral</td>\n",
       "      <td>sweden gallerix accumulated sek denominated sa...</td>\n",
       "    </tr>\n",
       "    <tr>\n",
       "      <th>4</th>\n",
       "      <td>neutral</td>\n",
       "      <td>company supports global customers developing n...</td>\n",
       "    </tr>\n",
       "    <tr>\n",
       "      <th>...</th>\n",
       "      <td>...</td>\n",
       "      <td>...</td>\n",
       "    </tr>\n",
       "    <tr>\n",
       "      <th>58886</th>\n",
       "      <td>neutral</td>\n",
       "      <td>case dont look candidate case person like manm...</td>\n",
       "    </tr>\n",
       "    <tr>\n",
       "      <th>58887</th>\n",
       "      <td>neutral</td>\n",
       "      <td>congress veteran sudhakar reddy joins bjp meet...</td>\n",
       "    </tr>\n",
       "    <tr>\n",
       "      <th>58888</th>\n",
       "      <td>neutral</td>\n",
       "      <td>save agenda peddling terror attacks every seco...</td>\n",
       "    </tr>\n",
       "    <tr>\n",
       "      <th>58889</th>\n",
       "      <td>neutral</td>\n",
       "      <td>cover interaction forum left</td>\n",
       "    </tr>\n",
       "    <tr>\n",
       "      <th>58890</th>\n",
       "      <td>neutral</td>\n",
       "      <td>big project came india modi dream project happ...</td>\n",
       "    </tr>\n",
       "  </tbody>\n",
       "</table>\n",
       "<p>58891 rows × 2 columns</p>\n",
       "</div>"
      ],
      "text/plain": [
       "         label                                               text\n",
       "0      neutral  according gran company plans move production r...\n",
       "1      neutral  technopolis plans develop stages area less 100...\n",
       "2      neutral  request finnish media company alma media newsp...\n",
       "3      neutral  sweden gallerix accumulated sek denominated sa...\n",
       "4      neutral  company supports global customers developing n...\n",
       "...        ...                                                ...\n",
       "58886  neutral  case dont look candidate case person like manm...\n",
       "58887  neutral  congress veteran sudhakar reddy joins bjp meet...\n",
       "58888  neutral  save agenda peddling terror attacks every seco...\n",
       "58889  neutral                       cover interaction forum left\n",
       "58890  neutral  big project came india modi dream project happ...\n",
       "\n",
       "[58891 rows x 2 columns]"
      ]
     },
     "execution_count": 106,
     "metadata": {},
     "output_type": "execute_result"
    }
   ],
   "source": [
    "df_neutral[\"text\"] = df_neutral[\"text\"].apply(preprocess_text)\n",
    "\n",
    "df_neutral"
   ]
  },
  {
   "cell_type": "code",
   "execution_count": 109,
   "id": "90f5f5e6",
   "metadata": {},
   "outputs": [],
   "source": [
    "df_neutral.to_csv('df_neutral_clean.csv')"
   ]
  },
  {
   "cell_type": "code",
   "execution_count": 115,
   "id": "c7d396db",
   "metadata": {},
   "outputs": [
    {
     "data": {
      "text/html": [
       "<div>\n",
       "<style scoped>\n",
       "    .dataframe tbody tr th:only-of-type {\n",
       "        vertical-align: middle;\n",
       "    }\n",
       "\n",
       "    .dataframe tbody tr th {\n",
       "        vertical-align: top;\n",
       "    }\n",
       "\n",
       "    .dataframe thead th {\n",
       "        text-align: right;\n",
       "    }\n",
       "</style>\n",
       "<table border=\"1\" class=\"dataframe\">\n",
       "  <thead>\n",
       "    <tr style=\"text-align: right;\">\n",
       "      <th></th>\n",
       "      <th>label</th>\n",
       "      <th>text</th>\n",
       "    </tr>\n",
       "  </thead>\n",
       "  <tbody>\n",
       "    <tr>\n",
       "      <th>0</th>\n",
       "      <td>negative</td>\n",
       "      <td>The international electronic industry company ...</td>\n",
       "    </tr>\n",
       "    <tr>\n",
       "      <th>1</th>\n",
       "      <td>positive</td>\n",
       "      <td>With the new production plant the company woul...</td>\n",
       "    </tr>\n",
       "    <tr>\n",
       "      <th>2</th>\n",
       "      <td>positive</td>\n",
       "      <td>According to the company 's updated strategy f...</td>\n",
       "    </tr>\n",
       "    <tr>\n",
       "      <th>3</th>\n",
       "      <td>positive</td>\n",
       "      <td>FINANCING OF ASPOCOMP 'S GROWTH Aspocomp is ag...</td>\n",
       "    </tr>\n",
       "    <tr>\n",
       "      <th>4</th>\n",
       "      <td>positive</td>\n",
       "      <td>For the last quarter of 2010 , Componenta 's n...</td>\n",
       "    </tr>\n",
       "    <tr>\n",
       "      <th>...</th>\n",
       "      <td>...</td>\n",
       "      <td>...</td>\n",
       "    </tr>\n",
       "    <tr>\n",
       "      <th>113639</th>\n",
       "      <td>positive</td>\n",
       "      <td>engine growth modi unveils indias first 12000 ...</td>\n",
       "    </tr>\n",
       "    <tr>\n",
       "      <th>113640</th>\n",
       "      <td>positive</td>\n",
       "      <td>modi promised 2014 lok sabha elections that be...</td>\n",
       "    </tr>\n",
       "    <tr>\n",
       "      <th>113641</th>\n",
       "      <td>negative</td>\n",
       "      <td>why these 456 crores paid neerav modi not reco...</td>\n",
       "    </tr>\n",
       "    <tr>\n",
       "      <th>113642</th>\n",
       "      <td>negative</td>\n",
       "      <td>dear rss terrorist payal gawar what about modi...</td>\n",
       "    </tr>\n",
       "    <tr>\n",
       "      <th>113643</th>\n",
       "      <td>positive</td>\n",
       "      <td>have you ever listen about like gurukul where ...</td>\n",
       "    </tr>\n",
       "  </tbody>\n",
       "</table>\n",
       "<p>113644 rows × 2 columns</p>\n",
       "</div>"
      ],
      "text/plain": [
       "           label                                               text\n",
       "0       negative  The international electronic industry company ...\n",
       "1       positive  With the new production plant the company woul...\n",
       "2       positive  According to the company 's updated strategy f...\n",
       "3       positive  FINANCING OF ASPOCOMP 'S GROWTH Aspocomp is ag...\n",
       "4       positive  For the last quarter of 2010 , Componenta 's n...\n",
       "...          ...                                                ...\n",
       "113639  positive  engine growth modi unveils indias first 12000 ...\n",
       "113640  positive  modi promised 2014 lok sabha elections that be...\n",
       "113641  negative  why these 456 crores paid neerav modi not reco...\n",
       "113642  negative  dear rss terrorist payal gawar what about modi...\n",
       "113643  positive  have you ever listen about like gurukul where ...\n",
       "\n",
       "[113644 rows x 2 columns]"
      ]
     },
     "execution_count": 115,
     "metadata": {},
     "output_type": "execute_result"
    }
   ],
   "source": [
    "df_opi"
   ]
  },
  {
   "cell_type": "code",
   "execution_count": 116,
   "id": "acfc7496",
   "metadata": {},
   "outputs": [
    {
     "data": {
      "text/html": [
       "<div>\n",
       "<style scoped>\n",
       "    .dataframe tbody tr th:only-of-type {\n",
       "        vertical-align: middle;\n",
       "    }\n",
       "\n",
       "    .dataframe tbody tr th {\n",
       "        vertical-align: top;\n",
       "    }\n",
       "\n",
       "    .dataframe thead th {\n",
       "        text-align: right;\n",
       "    }\n",
       "</style>\n",
       "<table border=\"1\" class=\"dataframe\">\n",
       "  <thead>\n",
       "    <tr style=\"text-align: right;\">\n",
       "      <th></th>\n",
       "      <th>label</th>\n",
       "      <th>text</th>\n",
       "    </tr>\n",
       "  </thead>\n",
       "  <tbody>\n",
       "    <tr>\n",
       "      <th>0</th>\n",
       "      <td>negative</td>\n",
       "      <td>international electronic industry company elco...</td>\n",
       "    </tr>\n",
       "    <tr>\n",
       "      <th>1</th>\n",
       "      <td>positive</td>\n",
       "      <td>new production plant company would increase ca...</td>\n",
       "    </tr>\n",
       "    <tr>\n",
       "      <th>2</th>\n",
       "      <td>positive</td>\n",
       "      <td>according company updated strategy years 20092...</td>\n",
       "    </tr>\n",
       "    <tr>\n",
       "      <th>3</th>\n",
       "      <td>positive</td>\n",
       "      <td>financing aspocomp growth aspocomp aggressivel...</td>\n",
       "    </tr>\n",
       "    <tr>\n",
       "      <th>4</th>\n",
       "      <td>positive</td>\n",
       "      <td>last quarter 2010 componenta net sales doubled...</td>\n",
       "    </tr>\n",
       "    <tr>\n",
       "      <th>...</th>\n",
       "      <td>...</td>\n",
       "      <td>...</td>\n",
       "    </tr>\n",
       "    <tr>\n",
       "      <th>113639</th>\n",
       "      <td>positive</td>\n",
       "      <td>engine growth modi unveils indias first 12000 ...</td>\n",
       "    </tr>\n",
       "    <tr>\n",
       "      <th>113640</th>\n",
       "      <td>positive</td>\n",
       "      <td>modi promised 2014 lok sabha elections best or...</td>\n",
       "    </tr>\n",
       "    <tr>\n",
       "      <th>113641</th>\n",
       "      <td>negative</td>\n",
       "      <td>456 crores paid neerav modi recovered congress...</td>\n",
       "    </tr>\n",
       "    <tr>\n",
       "      <th>113642</th>\n",
       "      <td>negative</td>\n",
       "      <td>dear rss terrorist payal gawar modi killing 10...</td>\n",
       "    </tr>\n",
       "    <tr>\n",
       "      <th>113643</th>\n",
       "      <td>positive</td>\n",
       "      <td>ever listen like gurukul discipline maintained...</td>\n",
       "    </tr>\n",
       "  </tbody>\n",
       "</table>\n",
       "<p>113644 rows × 2 columns</p>\n",
       "</div>"
      ],
      "text/plain": [
       "           label                                               text\n",
       "0       negative  international electronic industry company elco...\n",
       "1       positive  new production plant company would increase ca...\n",
       "2       positive  according company updated strategy years 20092...\n",
       "3       positive  financing aspocomp growth aspocomp aggressivel...\n",
       "4       positive  last quarter 2010 componenta net sales doubled...\n",
       "...          ...                                                ...\n",
       "113639  positive  engine growth modi unveils indias first 12000 ...\n",
       "113640  positive  modi promised 2014 lok sabha elections best or...\n",
       "113641  negative  456 crores paid neerav modi recovered congress...\n",
       "113642  negative  dear rss terrorist payal gawar modi killing 10...\n",
       "113643  positive  ever listen like gurukul discipline maintained...\n",
       "\n",
       "[113644 rows x 2 columns]"
      ]
     },
     "execution_count": 116,
     "metadata": {},
     "output_type": "execute_result"
    }
   ],
   "source": [
    "df_opi[\"text\"] = df_opi[\"text\"].apply(preprocess_text)\n",
    "\n",
    "df_opi"
   ]
  },
  {
   "cell_type": "code",
   "execution_count": 117,
   "id": "d6c9fa1b",
   "metadata": {},
   "outputs": [],
   "source": [
    "df_opi.to_csv('df_opi_clean.csv')"
   ]
  },
  {
   "cell_type": "code",
   "execution_count": 119,
   "id": "e1595bed",
   "metadata": {},
   "outputs": [
    {
     "data": {
      "text/html": [
       "<div>\n",
       "<style scoped>\n",
       "    .dataframe tbody tr th:only-of-type {\n",
       "        vertical-align: middle;\n",
       "    }\n",
       "\n",
       "    .dataframe tbody tr th {\n",
       "        vertical-align: top;\n",
       "    }\n",
       "\n",
       "    .dataframe thead th {\n",
       "        text-align: right;\n",
       "    }\n",
       "</style>\n",
       "<table border=\"1\" class=\"dataframe\">\n",
       "  <thead>\n",
       "    <tr style=\"text-align: right;\">\n",
       "      <th></th>\n",
       "      <th>label</th>\n",
       "      <th>text</th>\n",
       "    </tr>\n",
       "  </thead>\n",
       "  <tbody>\n",
       "    <tr>\n",
       "      <th>0</th>\n",
       "      <td>opiniated</td>\n",
       "      <td>international electronic industry company elco...</td>\n",
       "    </tr>\n",
       "    <tr>\n",
       "      <th>1</th>\n",
       "      <td>opiniated</td>\n",
       "      <td>new production plant company would increase ca...</td>\n",
       "    </tr>\n",
       "    <tr>\n",
       "      <th>2</th>\n",
       "      <td>opiniated</td>\n",
       "      <td>according company updated strategy years 20092...</td>\n",
       "    </tr>\n",
       "    <tr>\n",
       "      <th>3</th>\n",
       "      <td>opiniated</td>\n",
       "      <td>financing aspocomp growth aspocomp aggressivel...</td>\n",
       "    </tr>\n",
       "    <tr>\n",
       "      <th>4</th>\n",
       "      <td>opiniated</td>\n",
       "      <td>last quarter 2010 componenta net sales doubled...</td>\n",
       "    </tr>\n",
       "    <tr>\n",
       "      <th>...</th>\n",
       "      <td>...</td>\n",
       "      <td>...</td>\n",
       "    </tr>\n",
       "    <tr>\n",
       "      <th>113639</th>\n",
       "      <td>opiniated</td>\n",
       "      <td>engine growth modi unveils indias first 12000 ...</td>\n",
       "    </tr>\n",
       "    <tr>\n",
       "      <th>113640</th>\n",
       "      <td>opiniated</td>\n",
       "      <td>modi promised 2014 lok sabha elections best or...</td>\n",
       "    </tr>\n",
       "    <tr>\n",
       "      <th>113641</th>\n",
       "      <td>opiniated</td>\n",
       "      <td>456 crores paid neerav modi recovered congress...</td>\n",
       "    </tr>\n",
       "    <tr>\n",
       "      <th>113642</th>\n",
       "      <td>opiniated</td>\n",
       "      <td>dear rss terrorist payal gawar modi killing 10...</td>\n",
       "    </tr>\n",
       "    <tr>\n",
       "      <th>113643</th>\n",
       "      <td>opiniated</td>\n",
       "      <td>ever listen like gurukul discipline maintained...</td>\n",
       "    </tr>\n",
       "  </tbody>\n",
       "</table>\n",
       "<p>113644 rows × 2 columns</p>\n",
       "</div>"
      ],
      "text/plain": [
       "            label                                               text\n",
       "0       opiniated  international electronic industry company elco...\n",
       "1       opiniated  new production plant company would increase ca...\n",
       "2       opiniated  according company updated strategy years 20092...\n",
       "3       opiniated  financing aspocomp growth aspocomp aggressivel...\n",
       "4       opiniated  last quarter 2010 componenta net sales doubled...\n",
       "...           ...                                                ...\n",
       "113639  opiniated  engine growth modi unveils indias first 12000 ...\n",
       "113640  opiniated  modi promised 2014 lok sabha elections best or...\n",
       "113641  opiniated  456 crores paid neerav modi recovered congress...\n",
       "113642  opiniated  dear rss terrorist payal gawar modi killing 10...\n",
       "113643  opiniated  ever listen like gurukul discipline maintained...\n",
       "\n",
       "[113644 rows x 2 columns]"
      ]
     },
     "execution_count": 119,
     "metadata": {},
     "output_type": "execute_result"
    }
   ],
   "source": [
    "df_opi_1 = df_opi\n",
    "df_opi_1['label'] = df_opi_1['label'].replace(['negative', 'positive'], 'opiniated')\n",
    "df_opi_1"
   ]
  },
  {
   "cell_type": "markdown",
   "id": "33ac31ef",
   "metadata": {},
   "source": [
    "<h1> Load processed corpus"
   ]
  },
  {
   "cell_type": "code",
   "execution_count": 3,
   "id": "8e022a2e",
   "metadata": {},
   "outputs": [],
   "source": [
    "df_neutral = pd.read_csv('train/df_neutral_clean.csv', header=0,)\n",
    "df_opi_1 = pd.read_csv('train/df_opi_clean.csv', header=0,)"
   ]
  },
  {
   "cell_type": "code",
   "execution_count": 4,
   "id": "7129437c",
   "metadata": {},
   "outputs": [
    {
     "name": "stderr",
     "output_type": "stream",
     "text": [
      "C:\\Users\\Trevor\\AppData\\Local\\Temp\\ipykernel_21192\\2531838838.py:1: FutureWarning: The frame.append method is deprecated and will be removed from pandas in a future version. Use pandas.concat instead.\n",
      "  df_train = df_neutral.append(df_opi_1)\n"
     ]
    },
    {
     "data": {
      "text/html": [
       "<div>\n",
       "<style scoped>\n",
       "    .dataframe tbody tr th:only-of-type {\n",
       "        vertical-align: middle;\n",
       "    }\n",
       "\n",
       "    .dataframe tbody tr th {\n",
       "        vertical-align: top;\n",
       "    }\n",
       "\n",
       "    .dataframe thead th {\n",
       "        text-align: right;\n",
       "    }\n",
       "</style>\n",
       "<table border=\"1\" class=\"dataframe\">\n",
       "  <thead>\n",
       "    <tr style=\"text-align: right;\">\n",
       "      <th></th>\n",
       "      <th>label</th>\n",
       "      <th>text</th>\n",
       "    </tr>\n",
       "  </thead>\n",
       "  <tbody>\n",
       "    <tr>\n",
       "      <th>0</th>\n",
       "      <td>neutral</td>\n",
       "      <td>according gran company plans move production r...</td>\n",
       "    </tr>\n",
       "    <tr>\n",
       "      <th>1</th>\n",
       "      <td>neutral</td>\n",
       "      <td>technopolis plans develop stages area less 100...</td>\n",
       "    </tr>\n",
       "    <tr>\n",
       "      <th>2</th>\n",
       "      <td>neutral</td>\n",
       "      <td>request finnish media company alma media newsp...</td>\n",
       "    </tr>\n",
       "    <tr>\n",
       "      <th>3</th>\n",
       "      <td>neutral</td>\n",
       "      <td>sweden gallerix accumulated sek denominated sa...</td>\n",
       "    </tr>\n",
       "    <tr>\n",
       "      <th>4</th>\n",
       "      <td>neutral</td>\n",
       "      <td>company supports global customers developing n...</td>\n",
       "    </tr>\n",
       "    <tr>\n",
       "      <th>...</th>\n",
       "      <td>...</td>\n",
       "      <td>...</td>\n",
       "    </tr>\n",
       "    <tr>\n",
       "      <th>172530</th>\n",
       "      <td>positive</td>\n",
       "      <td>engine growth modi unveils indias first 12000 ...</td>\n",
       "    </tr>\n",
       "    <tr>\n",
       "      <th>172531</th>\n",
       "      <td>positive</td>\n",
       "      <td>modi promised 2014 lok sabha elections best or...</td>\n",
       "    </tr>\n",
       "    <tr>\n",
       "      <th>172532</th>\n",
       "      <td>negative</td>\n",
       "      <td>456 crores paid neerav modi recovered congress...</td>\n",
       "    </tr>\n",
       "    <tr>\n",
       "      <th>172533</th>\n",
       "      <td>negative</td>\n",
       "      <td>dear rss terrorist payal gawar modi killing 10...</td>\n",
       "    </tr>\n",
       "    <tr>\n",
       "      <th>172534</th>\n",
       "      <td>positive</td>\n",
       "      <td>ever listen like gurukul discipline maintained...</td>\n",
       "    </tr>\n",
       "  </tbody>\n",
       "</table>\n",
       "<p>172535 rows × 2 columns</p>\n",
       "</div>"
      ],
      "text/plain": [
       "           label                                               text\n",
       "0        neutral  according gran company plans move production r...\n",
       "1        neutral  technopolis plans develop stages area less 100...\n",
       "2        neutral  request finnish media company alma media newsp...\n",
       "3        neutral  sweden gallerix accumulated sek denominated sa...\n",
       "4        neutral  company supports global customers developing n...\n",
       "...          ...                                                ...\n",
       "172530  positive  engine growth modi unveils indias first 12000 ...\n",
       "172531  positive  modi promised 2014 lok sabha elections best or...\n",
       "172532  negative  456 crores paid neerav modi recovered congress...\n",
       "172533  negative  dear rss terrorist payal gawar modi killing 10...\n",
       "172534  positive  ever listen like gurukul discipline maintained...\n",
       "\n",
       "[172535 rows x 2 columns]"
      ]
     },
     "execution_count": 4,
     "metadata": {},
     "output_type": "execute_result"
    }
   ],
   "source": [
    "df_train = df_neutral.append(df_opi_1)\n",
    "df_train = df_train.reset_index(drop=True)\n",
    "df_train"
   ]
  },
  {
   "cell_type": "code",
   "execution_count": 5,
   "id": "cb211c79",
   "metadata": {},
   "outputs": [],
   "source": [
    "from nltk.stem import PorterStemmer\n",
    "from nltk.tokenize import word_tokenize\n",
    "porter = PorterStemmer()"
   ]
  },
  {
   "cell_type": "code",
   "execution_count": 28,
   "id": "99074bec",
   "metadata": {},
   "outputs": [],
   "source": [
    "def stem_text(text):\n",
    "    \n",
    "    #stem\n",
    "    stemmed_sentence = [porter.stem(word) for word in word_tokenize(text)]\n",
    "    \n",
    "    #return cleaned text\n",
    "    return ' '.join(stemmed_sentence)"
   ]
  },
  {
   "cell_type": "code",
   "execution_count": 30,
   "id": "339f3e18",
   "metadata": {},
   "outputs": [
    {
     "data": {
      "text/html": [
       "<div>\n",
       "<style scoped>\n",
       "    .dataframe tbody tr th:only-of-type {\n",
       "        vertical-align: middle;\n",
       "    }\n",
       "\n",
       "    .dataframe tbody tr th {\n",
       "        vertical-align: top;\n",
       "    }\n",
       "\n",
       "    .dataframe thead th {\n",
       "        text-align: right;\n",
       "    }\n",
       "</style>\n",
       "<table border=\"1\" class=\"dataframe\">\n",
       "  <thead>\n",
       "    <tr style=\"text-align: right;\">\n",
       "      <th></th>\n",
       "      <th>label</th>\n",
       "      <th>text</th>\n",
       "    </tr>\n",
       "  </thead>\n",
       "  <tbody>\n",
       "    <tr>\n",
       "      <th>0</th>\n",
       "      <td>negative</td>\n",
       "      <td>intern electron industri compani elcoteq laid ...</td>\n",
       "    </tr>\n",
       "    <tr>\n",
       "      <th>1</th>\n",
       "      <td>positive</td>\n",
       "      <td>new product plant compani would increas capac ...</td>\n",
       "    </tr>\n",
       "    <tr>\n",
       "      <th>2</th>\n",
       "      <td>positive</td>\n",
       "      <td>accord compani updat strategi year 20092012 ba...</td>\n",
       "    </tr>\n",
       "    <tr>\n",
       "      <th>3</th>\n",
       "      <td>positive</td>\n",
       "      <td>financ aspocomp growth aspocomp aggress pursu ...</td>\n",
       "    </tr>\n",
       "    <tr>\n",
       "      <th>4</th>\n",
       "      <td>positive</td>\n",
       "      <td>last quarter 2010 componenta net sale doubl eu...</td>\n",
       "    </tr>\n",
       "    <tr>\n",
       "      <th>...</th>\n",
       "      <td>...</td>\n",
       "      <td>...</td>\n",
       "    </tr>\n",
       "    <tr>\n",
       "      <th>113639</th>\n",
       "      <td>positive</td>\n",
       "      <td>engin growth modi unveil india first 12000 ele...</td>\n",
       "    </tr>\n",
       "    <tr>\n",
       "      <th>113640</th>\n",
       "      <td>positive</td>\n",
       "      <td>modi promis 2014 lok sabha elect best orop giv...</td>\n",
       "    </tr>\n",
       "    <tr>\n",
       "      <th>113641</th>\n",
       "      <td>negative</td>\n",
       "      <td>456 crore paid neerav modi recov congress lead...</td>\n",
       "    </tr>\n",
       "    <tr>\n",
       "      <th>113642</th>\n",
       "      <td>negative</td>\n",
       "      <td>dear rss terrorist payal gawar modi kill 1000 ...</td>\n",
       "    </tr>\n",
       "    <tr>\n",
       "      <th>113643</th>\n",
       "      <td>positive</td>\n",
       "      <td>ever listen like gurukul disciplin maintain ev...</td>\n",
       "    </tr>\n",
       "  </tbody>\n",
       "</table>\n",
       "<p>113644 rows × 2 columns</p>\n",
       "</div>"
      ],
      "text/plain": [
       "           label                                               text\n",
       "0       negative  intern electron industri compani elcoteq laid ...\n",
       "1       positive  new product plant compani would increas capac ...\n",
       "2       positive  accord compani updat strategi year 20092012 ba...\n",
       "3       positive  financ aspocomp growth aspocomp aggress pursu ...\n",
       "4       positive  last quarter 2010 componenta net sale doubl eu...\n",
       "...          ...                                                ...\n",
       "113639  positive  engin growth modi unveil india first 12000 ele...\n",
       "113640  positive  modi promis 2014 lok sabha elect best orop giv...\n",
       "113641  negative  456 crore paid neerav modi recov congress lead...\n",
       "113642  negative  dear rss terrorist payal gawar modi kill 1000 ...\n",
       "113643  positive  ever listen like gurukul disciplin maintain ev...\n",
       "\n",
       "[113644 rows x 2 columns]"
      ]
     },
     "execution_count": 30,
     "metadata": {},
     "output_type": "execute_result"
    }
   ],
   "source": [
    "df_opi_1[\"text\"] = df_opi_1[\"text\"].astype(\"str\").apply(stem_text)\n",
    "\n",
    "df_opi_1"
   ]
  },
  {
   "cell_type": "code",
   "execution_count": 31,
   "id": "3d3b18a6",
   "metadata": {},
   "outputs": [],
   "source": [
    "df_opi_1.to_csv('df_opi_clean_stem.csv')"
   ]
  },
  {
   "cell_type": "code",
   "execution_count": 32,
   "id": "79a8869e",
   "metadata": {},
   "outputs": [
    {
     "data": {
      "text/html": [
       "<div>\n",
       "<style scoped>\n",
       "    .dataframe tbody tr th:only-of-type {\n",
       "        vertical-align: middle;\n",
       "    }\n",
       "\n",
       "    .dataframe tbody tr th {\n",
       "        vertical-align: top;\n",
       "    }\n",
       "\n",
       "    .dataframe thead th {\n",
       "        text-align: right;\n",
       "    }\n",
       "</style>\n",
       "<table border=\"1\" class=\"dataframe\">\n",
       "  <thead>\n",
       "    <tr style=\"text-align: right;\">\n",
       "      <th></th>\n",
       "      <th>label</th>\n",
       "      <th>text</th>\n",
       "    </tr>\n",
       "  </thead>\n",
       "  <tbody>\n",
       "    <tr>\n",
       "      <th>0</th>\n",
       "      <td>neutral</td>\n",
       "      <td>accord gran compani plan move product russia a...</td>\n",
       "    </tr>\n",
       "    <tr>\n",
       "      <th>1</th>\n",
       "      <td>neutral</td>\n",
       "      <td>technopoli plan develop stage area less 100000...</td>\n",
       "    </tr>\n",
       "    <tr>\n",
       "      <th>2</th>\n",
       "      <td>neutral</td>\n",
       "      <td>request finnish media compani alma media newsp...</td>\n",
       "    </tr>\n",
       "    <tr>\n",
       "      <th>3</th>\n",
       "      <td>neutral</td>\n",
       "      <td>sweden gallerix accumul sek denomin sale 1 eur...</td>\n",
       "    </tr>\n",
       "    <tr>\n",
       "      <th>4</th>\n",
       "      <td>neutral</td>\n",
       "      <td>compani support global custom develop new tech...</td>\n",
       "    </tr>\n",
       "    <tr>\n",
       "      <th>...</th>\n",
       "      <td>...</td>\n",
       "      <td>...</td>\n",
       "    </tr>\n",
       "    <tr>\n",
       "      <th>58886</th>\n",
       "      <td>neutral</td>\n",
       "      <td>case dont look candid case person like manmoha...</td>\n",
       "    </tr>\n",
       "    <tr>\n",
       "      <th>58887</th>\n",
       "      <td>neutral</td>\n",
       "      <td>congress veteran sudhakar reddi join bjp meet ...</td>\n",
       "    </tr>\n",
       "    <tr>\n",
       "      <th>58888</th>\n",
       "      <td>neutral</td>\n",
       "      <td>save agenda peddl terror attack everi second d...</td>\n",
       "    </tr>\n",
       "    <tr>\n",
       "      <th>58889</th>\n",
       "      <td>neutral</td>\n",
       "      <td>cover interact forum left</td>\n",
       "    </tr>\n",
       "    <tr>\n",
       "      <th>58890</th>\n",
       "      <td>neutral</td>\n",
       "      <td>big project came india modi dream project happ...</td>\n",
       "    </tr>\n",
       "  </tbody>\n",
       "</table>\n",
       "<p>58891 rows × 2 columns</p>\n",
       "</div>"
      ],
      "text/plain": [
       "         label                                               text\n",
       "0      neutral  accord gran compani plan move product russia a...\n",
       "1      neutral  technopoli plan develop stage area less 100000...\n",
       "2      neutral  request finnish media compani alma media newsp...\n",
       "3      neutral  sweden gallerix accumul sek denomin sale 1 eur...\n",
       "4      neutral  compani support global custom develop new tech...\n",
       "...        ...                                                ...\n",
       "58886  neutral  case dont look candid case person like manmoha...\n",
       "58887  neutral  congress veteran sudhakar reddi join bjp meet ...\n",
       "58888  neutral  save agenda peddl terror attack everi second d...\n",
       "58889  neutral                          cover interact forum left\n",
       "58890  neutral  big project came india modi dream project happ...\n",
       "\n",
       "[58891 rows x 2 columns]"
      ]
     },
     "execution_count": 32,
     "metadata": {},
     "output_type": "execute_result"
    }
   ],
   "source": [
    "df_neutral[\"text\"] = df_neutral[\"text\"].astype(\"str\").apply(stem_text)\n",
    "\n",
    "df_neutral"
   ]
  },
  {
   "cell_type": "code",
   "execution_count": 33,
   "id": "5a5dfd7b",
   "metadata": {},
   "outputs": [],
   "source": [
    "df_neutral.to_csv('df_neutral_clean_stem.csv')"
   ]
  },
  {
   "cell_type": "code",
   "execution_count": 34,
   "id": "bb65f078",
   "metadata": {},
   "outputs": [
    {
     "data": {
      "text/html": [
       "<div>\n",
       "<style scoped>\n",
       "    .dataframe tbody tr th:only-of-type {\n",
       "        vertical-align: middle;\n",
       "    }\n",
       "\n",
       "    .dataframe tbody tr th {\n",
       "        vertical-align: top;\n",
       "    }\n",
       "\n",
       "    .dataframe thead th {\n",
       "        text-align: right;\n",
       "    }\n",
       "</style>\n",
       "<table border=\"1\" class=\"dataframe\">\n",
       "  <thead>\n",
       "    <tr style=\"text-align: right;\">\n",
       "      <th></th>\n",
       "      <th>label</th>\n",
       "      <th>text</th>\n",
       "    </tr>\n",
       "  </thead>\n",
       "  <tbody>\n",
       "    <tr>\n",
       "      <th>0</th>\n",
       "      <td>opiniated</td>\n",
       "      <td>intern electron industri compani elcoteq laid ...</td>\n",
       "    </tr>\n",
       "    <tr>\n",
       "      <th>1</th>\n",
       "      <td>opiniated</td>\n",
       "      <td>new product plant compani would increas capac ...</td>\n",
       "    </tr>\n",
       "    <tr>\n",
       "      <th>2</th>\n",
       "      <td>opiniated</td>\n",
       "      <td>accord compani updat strategi year 20092012 ba...</td>\n",
       "    </tr>\n",
       "    <tr>\n",
       "      <th>3</th>\n",
       "      <td>opiniated</td>\n",
       "      <td>financ aspocomp growth aspocomp aggress pursu ...</td>\n",
       "    </tr>\n",
       "    <tr>\n",
       "      <th>4</th>\n",
       "      <td>opiniated</td>\n",
       "      <td>last quarter 2010 componenta net sale doubl eu...</td>\n",
       "    </tr>\n",
       "    <tr>\n",
       "      <th>...</th>\n",
       "      <td>...</td>\n",
       "      <td>...</td>\n",
       "    </tr>\n",
       "    <tr>\n",
       "      <th>113639</th>\n",
       "      <td>opiniated</td>\n",
       "      <td>engin growth modi unveil india first 12000 ele...</td>\n",
       "    </tr>\n",
       "    <tr>\n",
       "      <th>113640</th>\n",
       "      <td>opiniated</td>\n",
       "      <td>modi promis 2014 lok sabha elect best orop giv...</td>\n",
       "    </tr>\n",
       "    <tr>\n",
       "      <th>113641</th>\n",
       "      <td>opiniated</td>\n",
       "      <td>456 crore paid neerav modi recov congress lead...</td>\n",
       "    </tr>\n",
       "    <tr>\n",
       "      <th>113642</th>\n",
       "      <td>opiniated</td>\n",
       "      <td>dear rss terrorist payal gawar modi kill 1000 ...</td>\n",
       "    </tr>\n",
       "    <tr>\n",
       "      <th>113643</th>\n",
       "      <td>opiniated</td>\n",
       "      <td>ever listen like gurukul disciplin maintain ev...</td>\n",
       "    </tr>\n",
       "  </tbody>\n",
       "</table>\n",
       "<p>113644 rows × 2 columns</p>\n",
       "</div>"
      ],
      "text/plain": [
       "            label                                               text\n",
       "0       opiniated  intern electron industri compani elcoteq laid ...\n",
       "1       opiniated  new product plant compani would increas capac ...\n",
       "2       opiniated  accord compani updat strategi year 20092012 ba...\n",
       "3       opiniated  financ aspocomp growth aspocomp aggress pursu ...\n",
       "4       opiniated  last quarter 2010 componenta net sale doubl eu...\n",
       "...           ...                                                ...\n",
       "113639  opiniated  engin growth modi unveil india first 12000 ele...\n",
       "113640  opiniated  modi promis 2014 lok sabha elect best orop giv...\n",
       "113641  opiniated  456 crore paid neerav modi recov congress lead...\n",
       "113642  opiniated  dear rss terrorist payal gawar modi kill 1000 ...\n",
       "113643  opiniated  ever listen like gurukul disciplin maintain ev...\n",
       "\n",
       "[113644 rows x 2 columns]"
      ]
     },
     "execution_count": 34,
     "metadata": {},
     "output_type": "execute_result"
    }
   ],
   "source": [
    "df_opi_1['label'] = df_opi_1['label'].replace(['negative', 'positive'], 'opiniated')\n",
    "df_opi_1"
   ]
  },
  {
   "cell_type": "code",
   "execution_count": 44,
   "id": "301ef840",
   "metadata": {},
   "outputs": [
    {
     "name": "stderr",
     "output_type": "stream",
     "text": [
      "C:\\Users\\Trevor\\AppData\\Local\\Temp\\ipykernel_9900\\2531838838.py:1: FutureWarning: The frame.append method is deprecated and will be removed from pandas in a future version. Use pandas.concat instead.\n",
      "  df_train = df_neutral.append(df_opi_1)\n"
     ]
    },
    {
     "data": {
      "text/html": [
       "<div>\n",
       "<style scoped>\n",
       "    .dataframe tbody tr th:only-of-type {\n",
       "        vertical-align: middle;\n",
       "    }\n",
       "\n",
       "    .dataframe tbody tr th {\n",
       "        vertical-align: top;\n",
       "    }\n",
       "\n",
       "    .dataframe thead th {\n",
       "        text-align: right;\n",
       "    }\n",
       "</style>\n",
       "<table border=\"1\" class=\"dataframe\">\n",
       "  <thead>\n",
       "    <tr style=\"text-align: right;\">\n",
       "      <th></th>\n",
       "      <th>label</th>\n",
       "      <th>text</th>\n",
       "    </tr>\n",
       "  </thead>\n",
       "  <tbody>\n",
       "    <tr>\n",
       "      <th>0</th>\n",
       "      <td>neutral</td>\n",
       "      <td>accord gran compani plan move product russia a...</td>\n",
       "    </tr>\n",
       "    <tr>\n",
       "      <th>1</th>\n",
       "      <td>neutral</td>\n",
       "      <td>technopoli plan develop stage area less 100000...</td>\n",
       "    </tr>\n",
       "    <tr>\n",
       "      <th>2</th>\n",
       "      <td>neutral</td>\n",
       "      <td>request finnish media compani alma media newsp...</td>\n",
       "    </tr>\n",
       "    <tr>\n",
       "      <th>3</th>\n",
       "      <td>neutral</td>\n",
       "      <td>sweden gallerix accumul sek denomin sale 1 eur...</td>\n",
       "    </tr>\n",
       "    <tr>\n",
       "      <th>4</th>\n",
       "      <td>neutral</td>\n",
       "      <td>compani support global custom develop new tech...</td>\n",
       "    </tr>\n",
       "    <tr>\n",
       "      <th>...</th>\n",
       "      <td>...</td>\n",
       "      <td>...</td>\n",
       "    </tr>\n",
       "    <tr>\n",
       "      <th>172530</th>\n",
       "      <td>opiniated</td>\n",
       "      <td>engin growth modi unveil india first 12000 ele...</td>\n",
       "    </tr>\n",
       "    <tr>\n",
       "      <th>172531</th>\n",
       "      <td>opiniated</td>\n",
       "      <td>modi promis 2014 lok sabha elect best orop giv...</td>\n",
       "    </tr>\n",
       "    <tr>\n",
       "      <th>172532</th>\n",
       "      <td>opiniated</td>\n",
       "      <td>456 crore paid neerav modi recov congress lead...</td>\n",
       "    </tr>\n",
       "    <tr>\n",
       "      <th>172533</th>\n",
       "      <td>opiniated</td>\n",
       "      <td>dear rss terrorist payal gawar modi kill 1000 ...</td>\n",
       "    </tr>\n",
       "    <tr>\n",
       "      <th>172534</th>\n",
       "      <td>opiniated</td>\n",
       "      <td>ever listen like gurukul disciplin maintain ev...</td>\n",
       "    </tr>\n",
       "  </tbody>\n",
       "</table>\n",
       "<p>172535 rows × 2 columns</p>\n",
       "</div>"
      ],
      "text/plain": [
       "            label                                               text\n",
       "0         neutral  accord gran compani plan move product russia a...\n",
       "1         neutral  technopoli plan develop stage area less 100000...\n",
       "2         neutral  request finnish media compani alma media newsp...\n",
       "3         neutral  sweden gallerix accumul sek denomin sale 1 eur...\n",
       "4         neutral  compani support global custom develop new tech...\n",
       "...           ...                                                ...\n",
       "172530  opiniated  engin growth modi unveil india first 12000 ele...\n",
       "172531  opiniated  modi promis 2014 lok sabha elect best orop giv...\n",
       "172532  opiniated  456 crore paid neerav modi recov congress lead...\n",
       "172533  opiniated  dear rss terrorist payal gawar modi kill 1000 ...\n",
       "172534  opiniated  ever listen like gurukul disciplin maintain ev...\n",
       "\n",
       "[172535 rows x 2 columns]"
      ]
     },
     "execution_count": 44,
     "metadata": {},
     "output_type": "execute_result"
    }
   ],
   "source": [
    "df_train = df_neutral.append(df_opi_1)\n",
    "df_train = df_train.reset_index(drop=True)\n",
    "df_train"
   ]
  },
  {
   "cell_type": "markdown",
   "id": "5a556216",
   "metadata": {},
   "source": [
    "<h1> Load corpus and Train"
   ]
  },
  {
   "cell_type": "code",
   "execution_count": 7,
   "id": "97908819",
   "metadata": {},
   "outputs": [],
   "source": [
    "df_neutral = pd.read_csv('train/df_neutral_clean_stem.csv', header=0,)\n",
    "df_opi_1 = pd.read_csv('train/df_opi_clean_stem.csv', header=0,)\n",
    "df_neutral['label'] = df_neutral['label'].replace(['neutral'], 0)\n",
    "df_opi_1['label'] = df_opi_1['label'].replace(['negative', 'positive'], 1)"
   ]
  },
  {
   "cell_type": "code",
   "execution_count": 8,
   "id": "3f85f40a",
   "metadata": {},
   "outputs": [
    {
     "name": "stderr",
     "output_type": "stream",
     "text": [
      "C:\\Users\\Trevor\\AppData\\Local\\Temp\\ipykernel_21192\\2531838838.py:1: FutureWarning: The frame.append method is deprecated and will be removed from pandas in a future version. Use pandas.concat instead.\n",
      "  df_train = df_neutral.append(df_opi_1)\n"
     ]
    },
    {
     "data": {
      "text/html": [
       "<div>\n",
       "<style scoped>\n",
       "    .dataframe tbody tr th:only-of-type {\n",
       "        vertical-align: middle;\n",
       "    }\n",
       "\n",
       "    .dataframe tbody tr th {\n",
       "        vertical-align: top;\n",
       "    }\n",
       "\n",
       "    .dataframe thead th {\n",
       "        text-align: right;\n",
       "    }\n",
       "</style>\n",
       "<table border=\"1\" class=\"dataframe\">\n",
       "  <thead>\n",
       "    <tr style=\"text-align: right;\">\n",
       "      <th></th>\n",
       "      <th>label</th>\n",
       "      <th>text</th>\n",
       "    </tr>\n",
       "  </thead>\n",
       "  <tbody>\n",
       "    <tr>\n",
       "      <th>0</th>\n",
       "      <td>0</td>\n",
       "      <td>accord gran compani plan move product russia a...</td>\n",
       "    </tr>\n",
       "    <tr>\n",
       "      <th>1</th>\n",
       "      <td>0</td>\n",
       "      <td>technopoli plan develop stage area less 100000...</td>\n",
       "    </tr>\n",
       "    <tr>\n",
       "      <th>2</th>\n",
       "      <td>0</td>\n",
       "      <td>request finnish media compani alma media newsp...</td>\n",
       "    </tr>\n",
       "    <tr>\n",
       "      <th>3</th>\n",
       "      <td>0</td>\n",
       "      <td>sweden gallerix accumul sek denomin sale 1 eur...</td>\n",
       "    </tr>\n",
       "    <tr>\n",
       "      <th>4</th>\n",
       "      <td>0</td>\n",
       "      <td>compani support global custom develop new tech...</td>\n",
       "    </tr>\n",
       "    <tr>\n",
       "      <th>...</th>\n",
       "      <td>...</td>\n",
       "      <td>...</td>\n",
       "    </tr>\n",
       "    <tr>\n",
       "      <th>172530</th>\n",
       "      <td>1</td>\n",
       "      <td>engin growth modi unveil india first 12000 ele...</td>\n",
       "    </tr>\n",
       "    <tr>\n",
       "      <th>172531</th>\n",
       "      <td>1</td>\n",
       "      <td>modi promis 2014 lok sabha elect best orop giv...</td>\n",
       "    </tr>\n",
       "    <tr>\n",
       "      <th>172532</th>\n",
       "      <td>1</td>\n",
       "      <td>456 crore paid neerav modi recov congress lead...</td>\n",
       "    </tr>\n",
       "    <tr>\n",
       "      <th>172533</th>\n",
       "      <td>1</td>\n",
       "      <td>dear rss terrorist payal gawar modi kill 1000 ...</td>\n",
       "    </tr>\n",
       "    <tr>\n",
       "      <th>172534</th>\n",
       "      <td>1</td>\n",
       "      <td>ever listen like gurukul disciplin maintain ev...</td>\n",
       "    </tr>\n",
       "  </tbody>\n",
       "</table>\n",
       "<p>172535 rows × 2 columns</p>\n",
       "</div>"
      ],
      "text/plain": [
       "        label                                               text\n",
       "0           0  accord gran compani plan move product russia a...\n",
       "1           0  technopoli plan develop stage area less 100000...\n",
       "2           0  request finnish media compani alma media newsp...\n",
       "3           0  sweden gallerix accumul sek denomin sale 1 eur...\n",
       "4           0  compani support global custom develop new tech...\n",
       "...       ...                                                ...\n",
       "172530      1  engin growth modi unveil india first 12000 ele...\n",
       "172531      1  modi promis 2014 lok sabha elect best orop giv...\n",
       "172532      1  456 crore paid neerav modi recov congress lead...\n",
       "172533      1  dear rss terrorist payal gawar modi kill 1000 ...\n",
       "172534      1  ever listen like gurukul disciplin maintain ev...\n",
       "\n",
       "[172535 rows x 2 columns]"
      ]
     },
     "execution_count": 8,
     "metadata": {},
     "output_type": "execute_result"
    }
   ],
   "source": [
    "df_train = df_neutral.append(df_opi_1)\n",
    "df_train = df_train.reset_index(drop=True)\n",
    "df_train"
   ]
  },
  {
   "cell_type": "code",
   "execution_count": 8,
   "id": "2c94006e",
   "metadata": {},
   "outputs": [],
   "source": [
    "from sklearn.model_selection import train_test_split"
   ]
  },
  {
   "cell_type": "code",
   "execution_count": 10,
   "id": "342a0d44",
   "metadata": {},
   "outputs": [],
   "source": [
    "X = df_train['text'].astype(\"str\")\n",
    "y = df_train['label']"
   ]
  },
  {
   "cell_type": "code",
   "execution_count": 11,
   "id": "d4a26af2",
   "metadata": {},
   "outputs": [],
   "source": [
    "#random_state is the seed used in randomising grouping\n",
    "X_train, X_test, y_train, y_test = train_test_split(\n",
    "    X, y, \n",
    "    test_size=0.1, random_state=16\n",
    ")\n"
   ]
  },
  {
   "cell_type": "code",
   "execution_count": 9,
   "id": "f634235b",
   "metadata": {},
   "outputs": [],
   "source": [
    "\n",
    "from keras.preprocessing.text import Tokenizer\n",
    "# create the tokenizer to tokenize each word\n",
    "tokenizer = Tokenizer(lower=False)"
   ]
  },
  {
   "cell_type": "code",
   "execution_count": 51,
   "id": "f159e4ac",
   "metadata": {},
   "outputs": [
    {
     "ename": "MemoryError",
     "evalue": "Unable to allocate 106. GiB for an array with shape (155281, 91357) and data type float64",
     "output_type": "error",
     "traceback": [
      "\u001b[1;31m---------------------------------------------------------------------------\u001b[0m",
      "\u001b[1;31mMemoryError\u001b[0m                               Traceback (most recent call last)",
      "Input \u001b[1;32mIn [51]\u001b[0m, in \u001b[0;36m<cell line: 10>\u001b[1;34m()\u001b[0m\n\u001b[0;32m      8\u001b[0m tokenizer\u001b[38;5;241m.\u001b[39mfit_on_texts(X_train)\n\u001b[0;32m      9\u001b[0m \u001b[38;5;66;03m# encode training data set\u001b[39;00m\n\u001b[1;32m---> 10\u001b[0m X_train \u001b[38;5;241m=\u001b[39m \u001b[43mtokenizer\u001b[49m\u001b[38;5;241;43m.\u001b[39;49m\u001b[43mtexts_to_matrix\u001b[49m\u001b[43m(\u001b[49m\u001b[43mX_train\u001b[49m\u001b[43m,\u001b[49m\u001b[43m \u001b[49m\u001b[43mmode\u001b[49m\u001b[38;5;241;43m=\u001b[39;49m\u001b[38;5;124;43m'\u001b[39;49m\u001b[38;5;124;43mcount\u001b[39;49m\u001b[38;5;124;43m'\u001b[39;49m\u001b[43m)\u001b[49m\n\u001b[0;32m     12\u001b[0m \u001b[38;5;66;03m# encode training data set\u001b[39;00m\n\u001b[0;32m     13\u001b[0m X_test \u001b[38;5;241m=\u001b[39m tokenizer\u001b[38;5;241m.\u001b[39mtexts_to_matrix(X_test, mode\u001b[38;5;241m=\u001b[39m\u001b[38;5;124m'\u001b[39m\u001b[38;5;124mcount\u001b[39m\u001b[38;5;124m'\u001b[39m)\n",
      "File \u001b[1;32m~\\AppData\\Local\\Programs\\Python\\Python39\\lib\\site-packages\\keras\\preprocessing\\text.py:464\u001b[0m, in \u001b[0;36mTokenizer.texts_to_matrix\u001b[1;34m(self, texts, mode)\u001b[0m\n\u001b[0;32m    454\u001b[0m \u001b[38;5;124;03m\"\"\"Convert a list of texts to a Numpy matrix.\u001b[39;00m\n\u001b[0;32m    455\u001b[0m \n\u001b[0;32m    456\u001b[0m \u001b[38;5;124;03mArgs:\u001b[39;00m\n\u001b[1;32m   (...)\u001b[0m\n\u001b[0;32m    461\u001b[0m \u001b[38;5;124;03m    A Numpy matrix.\u001b[39;00m\n\u001b[0;32m    462\u001b[0m \u001b[38;5;124;03m\"\"\"\u001b[39;00m\n\u001b[0;32m    463\u001b[0m sequences \u001b[38;5;241m=\u001b[39m \u001b[38;5;28mself\u001b[39m\u001b[38;5;241m.\u001b[39mtexts_to_sequences(texts)\n\u001b[1;32m--> 464\u001b[0m \u001b[38;5;28;01mreturn\u001b[39;00m \u001b[38;5;28;43mself\u001b[39;49m\u001b[38;5;241;43m.\u001b[39;49m\u001b[43msequences_to_matrix\u001b[49m\u001b[43m(\u001b[49m\u001b[43msequences\u001b[49m\u001b[43m,\u001b[49m\u001b[43m \u001b[49m\u001b[43mmode\u001b[49m\u001b[38;5;241;43m=\u001b[39;49m\u001b[43mmode\u001b[49m\u001b[43m)\u001b[49m\n",
      "File \u001b[1;32m~\\AppData\\Local\\Programs\\Python\\Python39\\lib\\site-packages\\keras\\preprocessing\\text.py:497\u001b[0m, in \u001b[0;36mTokenizer.sequences_to_matrix\u001b[1;34m(self, sequences, mode)\u001b[0m\n\u001b[0;32m    492\u001b[0m \u001b[38;5;28;01mif\u001b[39;00m mode \u001b[38;5;241m==\u001b[39m \u001b[38;5;124m\"\u001b[39m\u001b[38;5;124mtfidf\u001b[39m\u001b[38;5;124m\"\u001b[39m \u001b[38;5;129;01mand\u001b[39;00m \u001b[38;5;129;01mnot\u001b[39;00m \u001b[38;5;28mself\u001b[39m\u001b[38;5;241m.\u001b[39mdocument_count:\n\u001b[0;32m    493\u001b[0m     \u001b[38;5;28;01mraise\u001b[39;00m \u001b[38;5;167;01mValueError\u001b[39;00m(\n\u001b[0;32m    494\u001b[0m         \u001b[38;5;124m\"\u001b[39m\u001b[38;5;124mFit the Tokenizer on some data \u001b[39m\u001b[38;5;124m\"\u001b[39m \u001b[38;5;124m\"\u001b[39m\u001b[38;5;124mbefore using tfidf mode.\u001b[39m\u001b[38;5;124m\"\u001b[39m\n\u001b[0;32m    495\u001b[0m     )\n\u001b[1;32m--> 497\u001b[0m x \u001b[38;5;241m=\u001b[39m \u001b[43mnp\u001b[49m\u001b[38;5;241;43m.\u001b[39;49m\u001b[43mzeros\u001b[49m\u001b[43m(\u001b[49m\u001b[43m(\u001b[49m\u001b[38;5;28;43mlen\u001b[39;49m\u001b[43m(\u001b[49m\u001b[43msequences\u001b[49m\u001b[43m)\u001b[49m\u001b[43m,\u001b[49m\u001b[43m \u001b[49m\u001b[43mnum_words\u001b[49m\u001b[43m)\u001b[49m\u001b[43m)\u001b[49m\n\u001b[0;32m    498\u001b[0m \u001b[38;5;28;01mfor\u001b[39;00m i, seq \u001b[38;5;129;01min\u001b[39;00m \u001b[38;5;28menumerate\u001b[39m(sequences):\n\u001b[0;32m    499\u001b[0m     \u001b[38;5;28;01mif\u001b[39;00m \u001b[38;5;129;01mnot\u001b[39;00m seq:\n",
      "\u001b[1;31mMemoryError\u001b[0m: Unable to allocate 106. GiB for an array with shape (155281, 91357) and data type float64"
     ]
    }
   ],
   "source": [
    "#term document incidence matrix (one-hot)\n",
    "\n",
    "from keras.preprocessing.text import Tokenizer\n",
    "# create the tokenizer to tokenize each word\n",
    "tokenizer = Tokenizer(lower=False)\n",
    "\n",
    "# fit the tokenizer on the documents\n",
    "tokenizer.fit_on_texts(X_train)\n",
    "# encode training data set\n",
    "X_train = tokenizer.texts_to_matrix(X_train, mode='count')\n",
    "\n",
    "# encode training data set\n",
    "X_test = tokenizer.texts_to_matrix(X_test, mode='count')\n",
    "\n",
    "n_words1 = X_test.shape[1]"
   ]
  },
  {
   "cell_type": "code",
   "execution_count": 13,
   "id": "731beb06",
   "metadata": {},
   "outputs": [],
   "source": [
    "df_train_small = df_train.sample(frac =.2)"
   ]
  },
  {
   "cell_type": "code",
   "execution_count": 14,
   "id": "71569c28",
   "metadata": {},
   "outputs": [],
   "source": [
    "X = df_train_small['text'].astype(\"str\")\n",
    "y = df_train_small['label']\n",
    "#random_state is the seed used in randomising grouping\n",
    "X_train, X_test, y_train, y_test = train_test_split(\n",
    "    X, y, \n",
    "    test_size=0.1, random_state=16\n",
    ")\n",
    "tokenizer = Tokenizer(lower=False)\n",
    "\n",
    "# fit the tokenizer on the documents\n",
    "tokenizer.fit_on_texts(X_train)\n",
    "# encode training data set\n",
    "X_train = tokenizer.texts_to_matrix(X_train, mode='count')\n",
    "\n",
    "# encode training data set\n",
    "X_test = tokenizer.texts_to_matrix(X_test, mode='count')\n",
    "\n",
    "n_words1 = X_test.shape[1]\n"
   ]
  },
  {
   "cell_type": "code",
   "execution_count": 15,
   "id": "95221fdd",
   "metadata": {},
   "outputs": [
    {
     "data": {
      "text/plain": [
       "32352"
      ]
     },
     "execution_count": 15,
     "metadata": {},
     "output_type": "execute_result"
    }
   ],
   "source": [
    "n_words1"
   ]
  },
  {
   "cell_type": "code",
   "execution_count": 16,
   "id": "f1d37e82",
   "metadata": {},
   "outputs": [],
   "source": [
    "import pickle\n",
    "\n",
    "# saving\n",
    "with open('tokenizer.pickle', 'wb') as handle:\n",
    "    pickle.dump(tokenizer, handle, protocol=pickle.HIGHEST_PROTOCOL)\n",
    "\n",
    "# loading\n",
    "with open('tokenizer.pickle', 'rb') as handle:\n",
    "    tokenizer = pickle.load(handle)"
   ]
  },
  {
   "cell_type": "markdown",
   "id": "e2a0ca8c",
   "metadata": {},
   "source": [
    "<h1>For binary"
   ]
  },
  {
   "cell_type": "code",
   "execution_count": 17,
   "id": "8b317b84",
   "metadata": {
    "scrolled": true
   },
   "outputs": [
    {
     "name": "stderr",
     "output_type": "stream",
     "text": [
      "C:\\Users\\Trevor\\AppData\\Local\\Programs\\Python\\Python39\\lib\\site-packages\\keras\\optimizers\\optimizer_v2\\adam.py:114: UserWarning: The `lr` argument is deprecated, use `learning_rate` instead.\n",
      "  super().__init__(name, **kwargs)\n"
     ]
    },
    {
     "name": "stdout",
     "output_type": "stream",
     "text": [
      "Epoch 1/15\n",
      "971/971 [==============================] - 12s 8ms/step - loss: 0.4642 - acc: 0.7851 - val_loss: 0.3523 - val_acc: 0.8450\n",
      "Epoch 2/15\n",
      "971/971 [==============================] - 7s 7ms/step - loss: 0.2856 - acc: 0.8887 - val_loss: 0.3344 - val_acc: 0.8673\n",
      "Epoch 3/15\n",
      "971/971 [==============================] - 7s 7ms/step - loss: 0.2134 - acc: 0.9215 - val_loss: 0.3350 - val_acc: 0.8722\n",
      "Epoch 4/15\n",
      "971/971 [==============================] - 7s 7ms/step - loss: 0.1788 - acc: 0.9343 - val_loss: 0.3545 - val_acc: 0.8690\n",
      "Epoch 5/15\n",
      "971/971 [==============================] - 7s 7ms/step - loss: 0.1539 - acc: 0.9451 - val_loss: 0.4173 - val_acc: 0.8531\n",
      "Epoch 6/15\n",
      "971/971 [==============================] - 7s 7ms/step - loss: 0.1419 - acc: 0.9491 - val_loss: 0.4312 - val_acc: 0.8739\n",
      "Epoch 7/15\n",
      "971/971 [==============================] - 7s 7ms/step - loss: 0.1251 - acc: 0.9567 - val_loss: 0.3905 - val_acc: 0.8711\n",
      "Epoch 8/15\n",
      "971/971 [==============================] - 7s 7ms/step - loss: 0.1128 - acc: 0.9606 - val_loss: 0.3930 - val_acc: 0.8725\n",
      "Epoch 9/15\n",
      "971/971 [==============================] - 7s 7ms/step - loss: 0.1021 - acc: 0.9649 - val_loss: 0.3704 - val_acc: 0.8708\n",
      "Epoch 10/15\n",
      "971/971 [==============================] - 7s 7ms/step - loss: 0.0972 - acc: 0.9671 - val_loss: 0.5310 - val_acc: 0.8673\n",
      "Epoch 11/15\n",
      "971/971 [==============================] - 7s 7ms/step - loss: 0.0891 - acc: 0.9688 - val_loss: 0.4782 - val_acc: 0.8699\n",
      "Epoch 12/15\n",
      "971/971 [==============================] - 7s 7ms/step - loss: 0.0811 - acc: 0.9723 - val_loss: 0.5003 - val_acc: 0.8711\n",
      "Epoch 13/15\n",
      "971/971 [==============================] - 7s 7ms/step - loss: 0.0799 - acc: 0.9734 - val_loss: 0.5022 - val_acc: 0.8737\n",
      "Epoch 14/15\n",
      "971/971 [==============================] - 7s 7ms/step - loss: 0.0786 - acc: 0.9744 - val_loss: 0.4013 - val_acc: 0.8795\n",
      "Epoch 15/15\n",
      "971/971 [==============================] - 7s 7ms/step - loss: 0.0694 - acc: 0.9767 - val_loss: 0.5282 - val_acc: 0.8731\n"
     ]
    }
   ],
   "source": [
    "model = tf.keras.models.Sequential([\n",
    "       \n",
    "    tf.keras.layers.Dense(512, input_shape=(n_words1,), activation='relu'),\n",
    "    tf.keras.layers.BatchNormalization(),\n",
    "    tf.keras.layers.Dropout(0.5),\n",
    "       \n",
    "#     tf.keras.layers.Dense(256, activation='relu'),\n",
    "#     tf.keras.layers.BatchNormalization(),\n",
    "#     tf.keras.layers.Dropout(0.5),\n",
    "    \n",
    "    tf.keras.layers.Dense(128, activation='relu'),\n",
    "    tf.keras.layers.BatchNormalization(),\n",
    "    tf.keras.layers.Dropout(0.5),\n",
    "    \n",
    "    tf.keras.layers.Dense(32, activation='relu'),\n",
    "    tf.keras.layers.BatchNormalization(),\n",
    "    tf.keras.layers.Dropout(0.5),\n",
    "          \n",
    "    tf.keras.layers.Dense(1, activation='sigmoid')\n",
    "])\n",
    "\n",
    "model.compile(loss='binary_crossentropy',\n",
    "              optimizer=Adam(lr=0.03),\n",
    "              metrics=['acc'])\n",
    "\n",
    "callbacks = [tf.keras.callbacks.EarlyStopping(monitor='val_loss', patience=5)]\n",
    "\n",
    "history = model.fit(X_train, y_train,\n",
    "                    epochs=15,\n",
    "                    validation_data=(X_test, y_test,),\n",
    "                    verbose=1,\n",
    "                    #callbacks=callbacks,\n",
    "                   )"
   ]
  },
  {
   "cell_type": "code",
   "execution_count": 18,
   "id": "c525b386",
   "metadata": {},
   "outputs": [],
   "source": [
    "model.save(\"ood_model_small_stem.h5\")"
   ]
  },
  {
   "cell_type": "code",
   "execution_count": 19,
   "id": "ba9cf0c7",
   "metadata": {},
   "outputs": [
    {
     "name": "stdout",
     "output_type": "stream",
     "text": [
      "Model: \"sequential\"\n",
      "_________________________________________________________________\n",
      " Layer (type)                Output Shape              Param #   \n",
      "=================================================================\n",
      " dense (Dense)               (None, 512)               16564736  \n",
      "                                                                 \n",
      " batch_normalization (BatchN  (None, 512)              2048      \n",
      " ormalization)                                                   \n",
      "                                                                 \n",
      " dropout (Dropout)           (None, 512)               0         \n",
      "                                                                 \n",
      " dense_1 (Dense)             (None, 128)               65664     \n",
      "                                                                 \n",
      " batch_normalization_1 (Batc  (None, 128)              512       \n",
      " hNormalization)                                                 \n",
      "                                                                 \n",
      " dropout_1 (Dropout)         (None, 128)               0         \n",
      "                                                                 \n",
      " dense_2 (Dense)             (None, 32)                4128      \n",
      "                                                                 \n",
      " batch_normalization_2 (Batc  (None, 32)               128       \n",
      " hNormalization)                                                 \n",
      "                                                                 \n",
      " dropout_2 (Dropout)         (None, 32)                0         \n",
      "                                                                 \n",
      " dense_3 (Dense)             (None, 1)                 33        \n",
      "                                                                 \n",
      "=================================================================\n",
      "Total params: 16,637,249\n",
      "Trainable params: 16,635,905\n",
      "Non-trainable params: 1,344\n",
      "_________________________________________________________________\n"
     ]
    }
   ],
   "source": [
    "model.summary()"
   ]
  },
  {
   "cell_type": "code",
   "execution_count": null,
   "id": "0f97e703",
   "metadata": {},
   "outputs": [],
   "source": []
  },
  {
   "cell_type": "code",
   "execution_count": null,
   "id": "af1e1fc9",
   "metadata": {},
   "outputs": [],
   "source": []
  },
  {
   "cell_type": "code",
   "execution_count": null,
   "id": "998baccb",
   "metadata": {},
   "outputs": [],
   "source": []
  },
  {
   "cell_type": "code",
   "execution_count": null,
   "id": "b114021d",
   "metadata": {},
   "outputs": [],
   "source": []
  },
  {
   "cell_type": "code",
   "execution_count": null,
   "id": "0e2d5806",
   "metadata": {},
   "outputs": [],
   "source": []
  },
  {
   "cell_type": "code",
   "execution_count": null,
   "id": "a3b33086",
   "metadata": {},
   "outputs": [],
   "source": []
  },
  {
   "cell_type": "markdown",
   "id": "b61c5934",
   "metadata": {},
   "source": [
    "<h1> For multi class"
   ]
  },
  {
   "cell_type": "code",
   "execution_count": 40,
   "id": "6e1d6b08",
   "metadata": {
    "scrolled": true
   },
   "outputs": [
    {
     "name": "stdout",
     "output_type": "stream",
     "text": [
      "Epoch 1/15\n"
     ]
    },
    {
     "name": "stderr",
     "output_type": "stream",
     "text": [
      "C:\\Users\\Trevor\\AppData\\Local\\Programs\\Python\\Python39\\lib\\site-packages\\keras\\optimizers\\optimizer_v2\\adam.py:114: UserWarning: The `lr` argument is deprecated, use `learning_rate` instead.\n",
      "  super().__init__(name, **kwargs)\n"
     ]
    },
    {
     "name": "stdout",
     "output_type": "stream",
     "text": [
      "10/10 [==============================] - 4s 30ms/step - loss: 1.8896 - acc: 0.3738 - val_loss: 1.0520 - val_acc: 0.4675\n",
      "Epoch 2/15\n",
      "10/10 [==============================] - 0s 10ms/step - loss: 1.5727 - acc: 0.4230 - val_loss: 1.0336 - val_acc: 0.4675\n",
      "Epoch 3/15\n",
      "10/10 [==============================] - 0s 10ms/step - loss: 1.3728 - acc: 0.3934 - val_loss: 1.0316 - val_acc: 0.4675\n",
      "Epoch 4/15\n",
      "10/10 [==============================] - 0s 9ms/step - loss: 1.3480 - acc: 0.4459 - val_loss: 1.0337 - val_acc: 0.4675\n",
      "Epoch 5/15\n",
      "10/10 [==============================] - 0s 8ms/step - loss: 1.3877 - acc: 0.4131 - val_loss: 1.0388 - val_acc: 0.4675\n",
      "Epoch 6/15\n",
      "10/10 [==============================] - 0s 10ms/step - loss: 1.0607 - acc: 0.4984 - val_loss: 1.0541 - val_acc: 0.4675\n",
      "Epoch 7/15\n",
      "10/10 [==============================] - 0s 9ms/step - loss: 1.0277 - acc: 0.5377 - val_loss: 1.0687 - val_acc: 0.4675\n",
      "Epoch 8/15\n",
      "10/10 [==============================] - 0s 9ms/step - loss: 0.9422 - acc: 0.5967 - val_loss: 1.0716 - val_acc: 0.4675\n",
      "Epoch 9/15\n",
      "10/10 [==============================] - 0s 10ms/step - loss: 0.8693 - acc: 0.6623 - val_loss: 1.0571 - val_acc: 0.4675\n",
      "Epoch 10/15\n",
      "10/10 [==============================] - 0s 10ms/step - loss: 0.7992 - acc: 0.6557 - val_loss: 1.0555 - val_acc: 0.4675\n",
      "Epoch 11/15\n",
      "10/10 [==============================] - 0s 9ms/step - loss: 0.7841 - acc: 0.6721 - val_loss: 1.0512 - val_acc: 0.4675\n",
      "Epoch 12/15\n",
      "10/10 [==============================] - 0s 10ms/step - loss: 0.6712 - acc: 0.7246 - val_loss: 1.0902 - val_acc: 0.4675\n",
      "Epoch 13/15\n",
      "10/10 [==============================] - 0s 9ms/step - loss: 0.5856 - acc: 0.7639 - val_loss: 1.1155 - val_acc: 0.4675\n",
      "Epoch 14/15\n",
      "10/10 [==============================] - 0s 10ms/step - loss: 0.6146 - acc: 0.7541 - val_loss: 1.1341 - val_acc: 0.4675\n",
      "Epoch 15/15\n",
      "10/10 [==============================] - 0s 9ms/step - loss: 0.5221 - acc: 0.7934 - val_loss: 1.1735 - val_acc: 0.4805\n"
     ]
    }
   ],
   "source": [
    "model = tf.keras.models.Sequential([\n",
    "    \n",
    "    tf.keras.layers.Dense(512, input_shape=(n_words1,), activation='relu'),\n",
    "    tf.keras.layers.BatchNormalization(),\n",
    "    tf.keras.layers.Dropout(0.5),\n",
    "       \n",
    "    tf.keras.layers.Dense(256, activation='relu'),\n",
    "    tf.keras.layers.BatchNormalization(),\n",
    "    tf.keras.layers.Dropout(0.5),\n",
    "    \n",
    "    tf.keras.layers.Dense(128, activation='relu'),\n",
    "    tf.keras.layers.BatchNormalization(),\n",
    "    tf.keras.layers.Dropout(0.5),\n",
    "    \n",
    "    tf.keras.layers.Dense(32, activation='relu'),\n",
    "    tf.keras.layers.BatchNormalization(),\n",
    "    tf.keras.layers.Dropout(0.5),\n",
    "    \n",
    "    tf.keras.layers.Dense(3, activation='softmax')\n",
    "])\n",
    "\n",
    "#use categorical cos not binary\n",
    "model.compile(loss='categorical_crossentropy',\n",
    "              optimizer=Adam(lr=0.003),\n",
    "              metrics=['acc'])\n",
    "\n",
    "callbacks = [tf.keras.callbacks.EarlyStopping(monitor='val_loss', patience=5)]\n",
    "\n",
    "history = model.fit(X_train, y_train,\n",
    "                    epochs=15,\n",
    "                    validation_data=(X_test, y_test,),\n",
    "                    verbose=1,\n",
    "                    #callbacks=callbacks,\n",
    "                   )\n",
    "\n",
    "test_mod = model"
   ]
  },
  {
   "cell_type": "code",
   "execution_count": 20,
   "id": "39ff0124",
   "metadata": {},
   "outputs": [
    {
     "name": "stdout",
     "output_type": "stream",
     "text": [
      "[0.99799347]\n"
     ]
    }
   ],
   "source": [
    "bleh = [\"I hate this module it is shit\"]\n",
    "t = tokenizer.texts_to_matrix(bleh, mode='count')\n",
    "pred = model.predict(t, verbose=0)\n",
    "print(pred[0])"
   ]
  },
  {
   "cell_type": "code",
   "execution_count": 21,
   "id": "502f067f",
   "metadata": {},
   "outputs": [
    {
     "name": "stdout",
     "output_type": "stream",
     "text": [
      "[0.00099734]\n"
     ]
    }
   ],
   "source": [
    "bleh = [\"The name of the module is information retrieval\"]\n",
    "t = tokenizer.texts_to_matrix(bleh, mode='count')\n",
    "pred = model.predict(t, verbose=0)\n",
    "print(pred[0])"
   ]
  },
  {
   "cell_type": "code",
   "execution_count": null,
   "id": "b59975b8",
   "metadata": {},
   "outputs": [],
   "source": []
  },
  {
   "cell_type": "code",
   "execution_count": null,
   "id": "6fa524eb",
   "metadata": {},
   "outputs": [],
   "source": []
  },
  {
   "cell_type": "code",
   "execution_count": null,
   "id": "1d45254d",
   "metadata": {},
   "outputs": [],
   "source": []
  },
  {
   "cell_type": "code",
   "execution_count": null,
   "id": "f6eaa8cb",
   "metadata": {},
   "outputs": [],
   "source": []
  },
  {
   "cell_type": "code",
   "execution_count": null,
   "id": "967ecc6c",
   "metadata": {},
   "outputs": [],
   "source": []
  },
  {
   "cell_type": "code",
   "execution_count": 29,
   "id": "bc4130d7",
   "metadata": {},
   "outputs": [],
   "source": [
    "import matplotlib.pyplot as plt\n",
    "\n",
    "def plot_history(history):\n",
    "    accuracy = history.history['acc']\n",
    "    val_accuracy = history.history['val_acc']\n",
    "    loss = history.history['loss']\n",
    "    val_loss = history.history['val_loss']\n",
    "    \n",
    "    epochs = range(1,len(accuracy) + 1)\n",
    "    \n",
    "    # Plot accuracy  \n",
    "    plt.figure(1)\n",
    "    plt.plot(epochs, accuracy, 'b', label='Training accuracy')\n",
    "    plt.plot(epochs, val_accuracy, 'g', label='Validation accuracy')\n",
    "    plt.title('Training and validation accuracy')\n",
    "    plt.xlabel('Epochs')\n",
    "    plt.ylabel('Accuracy')\n",
    "    plt.legend()\n",
    "    \n",
    "    # Plot loss\n",
    "    plt.figure(2)\n",
    "    plt.plot(epochs, loss, 'b', label='Training loss')\n",
    "    plt.plot(epochs, val_loss, 'g', label='Validation loss')\n",
    "    plt.title('Training and validation loss')\n",
    "    plt.xlabel('Epochs')\n",
    "    plt.ylabel('Loss')\n",
    "    plt.legend()\n",
    "    plt.show()\n"
   ]
  },
  {
   "cell_type": "code",
   "execution_count": 56,
   "id": "6af2dc1f",
   "metadata": {},
   "outputs": [
    {
     "data": {
      "image/png": "[encoded data removed]",
      "text/plain": [
       "<Figure size 432x288 with 1 Axes>"
      ]
     },
     "metadata": {
      "needs_background": "light"
     },
     "output_type": "display_data"
    },
    {
     "data": {
      "image/png": "[encoded data removed]",
      "text/plain": [
       "<Figure size 432x288 with 1 Axes>"
      ]
     },
     "metadata": {
      "needs_background": "light"
     },
     "output_type": "display_data"
    }
   ],
   "source": [
    "plot_history(history)"
   ]
  },
  {
   "cell_type": "markdown",
   "id": "d2144b8d",
   "metadata": {},
   "source": [
    "<h1> for opinionated only"
   ]
  },
  {
   "cell_type": "code",
   "execution_count": 5,
   "id": "b97a35f9",
   "metadata": {},
   "outputs": [
    {
     "data": {
      "text/html": [
       "<div>\n",
       "<style scoped>\n",
       "    .dataframe tbody tr th:only-of-type {\n",
       "        vertical-align: middle;\n",
       "    }\n",
       "\n",
       "    .dataframe tbody tr th {\n",
       "        vertical-align: top;\n",
       "    }\n",
       "\n",
       "    .dataframe thead th {\n",
       "        text-align: right;\n",
       "    }\n",
       "</style>\n",
       "<table border=\"1\" class=\"dataframe\">\n",
       "  <thead>\n",
       "    <tr style=\"text-align: right;\">\n",
       "      <th></th>\n",
       "      <th>label</th>\n",
       "      <th>text</th>\n",
       "    </tr>\n",
       "  </thead>\n",
       "  <tbody>\n",
       "    <tr>\n",
       "      <th>0</th>\n",
       "      <td>0</td>\n",
       "      <td>intern electron industri compani elcoteq laid ...</td>\n",
       "    </tr>\n",
       "    <tr>\n",
       "      <th>1</th>\n",
       "      <td>1</td>\n",
       "      <td>new product plant compani would increas capac ...</td>\n",
       "    </tr>\n",
       "    <tr>\n",
       "      <th>2</th>\n",
       "      <td>1</td>\n",
       "      <td>accord compani updat strategi year 20092012 ba...</td>\n",
       "    </tr>\n",
       "    <tr>\n",
       "      <th>3</th>\n",
       "      <td>1</td>\n",
       "      <td>financ aspocomp growth aspocomp aggress pursu ...</td>\n",
       "    </tr>\n",
       "    <tr>\n",
       "      <th>4</th>\n",
       "      <td>1</td>\n",
       "      <td>last quarter 2010 componenta net sale doubl eu...</td>\n",
       "    </tr>\n",
       "    <tr>\n",
       "      <th>...</th>\n",
       "      <td>...</td>\n",
       "      <td>...</td>\n",
       "    </tr>\n",
       "    <tr>\n",
       "      <th>113639</th>\n",
       "      <td>1</td>\n",
       "      <td>engin growth modi unveil india first 12000 ele...</td>\n",
       "    </tr>\n",
       "    <tr>\n",
       "      <th>113640</th>\n",
       "      <td>1</td>\n",
       "      <td>modi promis 2014 lok sabha elect best orop giv...</td>\n",
       "    </tr>\n",
       "    <tr>\n",
       "      <th>113641</th>\n",
       "      <td>0</td>\n",
       "      <td>456 crore paid neerav modi recov congress lead...</td>\n",
       "    </tr>\n",
       "    <tr>\n",
       "      <th>113642</th>\n",
       "      <td>0</td>\n",
       "      <td>dear rss terrorist payal gawar modi kill 1000 ...</td>\n",
       "    </tr>\n",
       "    <tr>\n",
       "      <th>113643</th>\n",
       "      <td>1</td>\n",
       "      <td>ever listen like gurukul disciplin maintain ev...</td>\n",
       "    </tr>\n",
       "  </tbody>\n",
       "</table>\n",
       "<p>113644 rows × 2 columns</p>\n",
       "</div>"
      ],
      "text/plain": [
       "        label                                               text\n",
       "0           0  intern electron industri compani elcoteq laid ...\n",
       "1           1  new product plant compani would increas capac ...\n",
       "2           1  accord compani updat strategi year 20092012 ba...\n",
       "3           1  financ aspocomp growth aspocomp aggress pursu ...\n",
       "4           1  last quarter 2010 componenta net sale doubl eu...\n",
       "...       ...                                                ...\n",
       "113639      1  engin growth modi unveil india first 12000 ele...\n",
       "113640      1  modi promis 2014 lok sabha elect best orop giv...\n",
       "113641      0  456 crore paid neerav modi recov congress lead...\n",
       "113642      0  dear rss terrorist payal gawar modi kill 1000 ...\n",
       "113643      1  ever listen like gurukul disciplin maintain ev...\n",
       "\n",
       "[113644 rows x 2 columns]"
      ]
     },
     "execution_count": 5,
     "metadata": {},
     "output_type": "execute_result"
    }
   ],
   "source": [
    "df_opi_1 = pd.read_csv('train/df_opi_clean_stem.csv', header=0,)\n",
    "df_opi_1['label'] = df_opi_1['label'].replace(['negative'], 0)\n",
    "df_opi_1['label'] = df_opi_1['label'].replace(['positive'], 1)\n",
    "df_opi_1"
   ]
  },
  {
   "cell_type": "code",
   "execution_count": 6,
   "id": "78c1d685",
   "metadata": {},
   "outputs": [],
   "source": [
    "df_train_opi_small = df_opi_1.sample(frac =.2)"
   ]
  },
  {
   "cell_type": "code",
   "execution_count": 10,
   "id": "ad16cf98",
   "metadata": {},
   "outputs": [],
   "source": [
    "X = df_train_opi_small['text'].astype(\"str\")\n",
    "y = df_train_opi_small['label']\n",
    "#random_state is the seed used in randomising grouping\n",
    "X_train, X_test, y_train, y_test = train_test_split(\n",
    "    X, y, \n",
    "    test_size=0.1, random_state=16\n",
    ")\n",
    "tokenizer = Tokenizer(lower=False)\n",
    "\n",
    "# fit the tokenizer on the documents\n",
    "tokenizer.fit_on_texts(X_train)\n",
    "# encode training data set\n",
    "X_train = tokenizer.texts_to_matrix(X_train, mode='count')\n",
    "\n",
    "# encode training data set\n",
    "X_test = tokenizer.texts_to_matrix(X_test, mode='count')\n",
    "\n",
    "n_words1 = X_test.shape[1]\n"
   ]
  },
  {
   "cell_type": "code",
   "execution_count": 11,
   "id": "67f04dd8",
   "metadata": {
    "scrolled": true
   },
   "outputs": [
    {
     "data": {
      "text/plain": [
       "26668"
      ]
     },
     "execution_count": 11,
     "metadata": {},
     "output_type": "execute_result"
    }
   ],
   "source": [
    "n_words1"
   ]
  },
  {
   "cell_type": "code",
   "execution_count": 13,
   "id": "08e3d491",
   "metadata": {},
   "outputs": [],
   "source": [
    "import pickle\n",
    "# saving\n",
    "with open('tokenizer_opi.pickle', 'wb') as handle:\n",
    "    pickle.dump(tokenizer, handle, protocol=pickle.HIGHEST_PROTOCOL)\n",
    "\n",
    "# loading\n",
    "with open('tokenizer_opi.pickle', 'rb') as handle:\n",
    "    tokenizer = pickle.load(handle)"
   ]
  },
  {
   "cell_type": "code",
   "execution_count": 14,
   "id": "ba00a393",
   "metadata": {
    "scrolled": true
   },
   "outputs": [
    {
     "name": "stderr",
     "output_type": "stream",
     "text": [
      "C:\\Users\\Trevor\\AppData\\Local\\Programs\\Python\\Python39\\lib\\site-packages\\keras\\optimizers\\optimizer_v2\\adam.py:114: UserWarning: The `lr` argument is deprecated, use `learning_rate` instead.\n",
      "  super().__init__(name, **kwargs)\n"
     ]
    },
    {
     "name": "stdout",
     "output_type": "stream",
     "text": [
      "Epoch 1/15\n",
      "640/640 [==============================] - 9s 9ms/step - loss: 0.5158 - acc: 0.7507 - val_loss: 0.3970 - val_acc: 0.8258\n",
      "Epoch 2/15\n",
      "640/640 [==============================] - 5s 8ms/step - loss: 0.3036 - acc: 0.8753 - val_loss: 0.4263 - val_acc: 0.8306\n",
      "Epoch 3/15\n",
      "640/640 [==============================] - 5s 8ms/step - loss: 0.2038 - acc: 0.9220 - val_loss: 0.5193 - val_acc: 0.8249\n",
      "Epoch 4/15\n",
      "640/640 [==============================] - 5s 7ms/step - loss: 0.1652 - acc: 0.9382 - val_loss: 0.5018 - val_acc: 0.8192\n",
      "Epoch 5/15\n",
      "640/640 [==============================] - 5s 8ms/step - loss: 0.1346 - acc: 0.9518 - val_loss: 0.7291 - val_acc: 0.8297\n",
      "Epoch 6/15\n",
      "640/640 [==============================] - 5s 7ms/step - loss: 0.1235 - acc: 0.9563 - val_loss: 0.4929 - val_acc: 0.8421\n",
      "Epoch 7/15\n",
      "640/640 [==============================] - 5s 7ms/step - loss: 0.1074 - acc: 0.9627 - val_loss: 0.7323 - val_acc: 0.8205\n",
      "Epoch 8/15\n",
      "640/640 [==============================] - 5s 8ms/step - loss: 0.0960 - acc: 0.9670 - val_loss: 0.6159 - val_acc: 0.8359\n",
      "Epoch 9/15\n",
      "640/640 [==============================] - 5s 7ms/step - loss: 0.0970 - acc: 0.9675 - val_loss: 0.5554 - val_acc: 0.8275\n",
      "Epoch 10/15\n",
      "640/640 [==============================] - 5s 8ms/step - loss: 0.0835 - acc: 0.9703 - val_loss: 0.6192 - val_acc: 0.8377\n",
      "Epoch 11/15\n",
      "640/640 [==============================] - 5s 7ms/step - loss: 0.0774 - acc: 0.9734 - val_loss: 0.7353 - val_acc: 0.8412\n",
      "Epoch 12/15\n",
      "640/640 [==============================] - 5s 7ms/step - loss: 0.0750 - acc: 0.9743 - val_loss: 0.6654 - val_acc: 0.8302\n",
      "Epoch 13/15\n",
      "640/640 [==============================] - 5s 8ms/step - loss: 0.0654 - acc: 0.9787 - val_loss: 0.7332 - val_acc: 0.8372\n",
      "Epoch 14/15\n",
      "640/640 [==============================] - 5s 8ms/step - loss: 0.0566 - acc: 0.9821 - val_loss: 0.6158 - val_acc: 0.8359\n",
      "Epoch 15/15\n",
      "640/640 [==============================] - 5s 7ms/step - loss: 0.0634 - acc: 0.9786 - val_loss: 0.7142 - val_acc: 0.8271\n"
     ]
    }
   ],
   "source": [
    "opi_model = tf.keras.models.Sequential([\n",
    "       \n",
    "    tf.keras.layers.Dense(512, input_shape=(n_words1,), activation='relu'),\n",
    "    tf.keras.layers.BatchNormalization(),\n",
    "    tf.keras.layers.Dropout(0.5),\n",
    "       \n",
    "#     tf.keras.layers.Dense(256, activation='relu'),\n",
    "#     tf.keras.layers.BatchNormalization(),\n",
    "#     tf.keras.layers.Dropout(0.5),\n",
    "    \n",
    "    tf.keras.layers.Dense(128, activation='relu'),\n",
    "    tf.keras.layers.BatchNormalization(),\n",
    "    tf.keras.layers.Dropout(0.5),\n",
    "    \n",
    "    tf.keras.layers.Dense(32, activation='relu'),\n",
    "    tf.keras.layers.BatchNormalization(),\n",
    "    tf.keras.layers.Dropout(0.5),\n",
    "          \n",
    "    tf.keras.layers.Dense(1, activation='sigmoid')\n",
    "])\n",
    "\n",
    "opi_model.compile(loss='binary_crossentropy',\n",
    "              optimizer=Adam(lr=0.03),\n",
    "              metrics=['acc'])\n",
    "\n",
    "callbacks = [tf.keras.callbacks.EarlyStopping(monitor='val_loss', patience=5)]\n",
    "\n",
    "history = opi_model.fit(X_train, y_train,\n",
    "                    epochs=15,\n",
    "                    validation_data=(X_test, y_test,),\n",
    "                    verbose=1,\n",
    "                    #callbacks=callbacks,\n",
    "                   )"
   ]
  },
  {
   "cell_type": "code",
   "execution_count": 15,
   "id": "3abdeb0d",
   "metadata": {},
   "outputs": [],
   "source": [
    "opi_model.save(\"ood_opi_model_small_stem.h5\")"
   ]
  },
  {
   "cell_type": "code",
   "execution_count": 68,
   "id": "1f92751b",
   "metadata": {},
   "outputs": [
    {
     "data": {
      "image/png": "[encoded data removed]",
      "text/plain": [
       "<Figure size 432x288 with 1 Axes>"
      ]
     },
     "metadata": {
      "needs_background": "light"
     },
     "output_type": "display_data"
    },
    {
     "data": {
      "image/png": "[encoded data removed]",
      "text/plain": [
       "<Figure size 432x288 with 1 Axes>"
      ]
     },
     "metadata": {
      "needs_background": "light"
     },
     "output_type": "display_data"
    }
   ],
   "source": [
    "plot_history(history)"
   ]
  },
  {
   "cell_type": "code",
   "execution_count": 29,
   "id": "abc3cc9f",
   "metadata": {},
   "outputs": [
    {
     "name": "stdout",
     "output_type": "stream",
     "text": [
      "[4.4909723e-07]\n"
     ]
    }
   ],
   "source": [
    "bleh = [\"I hate this module it is shit\"]\n",
    "t = tokenizer.texts_to_matrix(bleh, mode='count')\n",
    "pred = opi_model.predict(t, verbose=0)\n",
    "print(pred[0])"
   ]
  },
  {
   "cell_type": "code",
   "execution_count": 30,
   "id": "ac92c25a",
   "metadata": {},
   "outputs": [
    {
     "name": "stdout",
     "output_type": "stream",
     "text": [
      "[0.9995123]\n"
     ]
    }
   ],
   "source": [
    "bleh = [\"I love this module it is amazing\"]\n",
    "t = tokenizer.texts_to_matrix(bleh, mode='count')\n",
    "pred = opi_model.predict(t, verbose=0)\n",
    "print(pred[0])"
   ]
  },
  {
   "cell_type": "code",
   "execution_count": null,
   "id": "fa7eb953",
   "metadata": {},
   "outputs": [],
   "source": []
  },
  {
   "cell_type": "code",
   "execution_count": null,
   "id": "52816118",
   "metadata": {},
   "outputs": [],
   "source": []
  },
  {
   "cell_type": "code",
   "execution_count": null,
   "id": "310f7e8c",
   "metadata": {},
   "outputs": [],
   "source": []
  },
  {
   "cell_type": "code",
   "execution_count": null,
   "id": "73b1be3c",
   "metadata": {},
   "outputs": [],
   "source": []
  },
  {
   "cell_type": "code",
   "execution_count": null,
   "id": "36a9407b",
   "metadata": {},
   "outputs": [],
   "source": []
  },
  {
   "cell_type": "code",
   "execution_count": null,
   "id": "917252ce",
   "metadata": {},
   "outputs": [],
   "source": []
  },
  {
   "cell_type": "markdown",
   "id": "0e3b2a55",
   "metadata": {},
   "source": [
    "<h1> test on others"
   ]
  },
  {
   "cell_type": "code",
   "execution_count": null,
   "id": "d88db72d",
   "metadata": {},
   "outputs": [],
   "source": []
  },
  {
   "cell_type": "code",
   "execution_count": 41,
   "id": "fc473f9b",
   "metadata": {},
   "outputs": [],
   "source": [
    "test_mod.save(\"cmts_cnn_model.h5\")"
   ]
  },
  {
   "cell_type": "code",
   "execution_count": null,
   "id": "2105062f",
   "metadata": {},
   "outputs": [],
   "source": []
  },
  {
   "cell_type": "code",
   "execution_count": 55,
   "id": "2fb0d68b",
   "metadata": {},
   "outputs": [],
   "source": [
    "test_mod.save_weights(\"testweights.h5\")"
   ]
  },
  {
   "cell_type": "code",
   "execution_count": 54,
   "id": "b8a878dc",
   "metadata": {},
   "outputs": [
    {
     "name": "stdout",
     "output_type": "stream",
     "text": [
      "Model: \"sequential_7\"\n",
      "_________________________________________________________________\n",
      " Layer (type)                Output Shape              Param #   \n",
      "=================================================================\n",
      " dense_33 (Dense)            (None, 512)               916480    \n",
      "                                                                 \n",
      " batch_normalization_26 (Bat  (None, 512)              2048      \n",
      " chNormalization)                                                \n",
      "                                                                 \n",
      " dropout_26 (Dropout)        (None, 512)               0         \n",
      "                                                                 \n",
      " dense_34 (Dense)            (None, 256)               131328    \n",
      "                                                                 \n",
      " batch_normalization_27 (Bat  (None, 256)              1024      \n",
      " chNormalization)                                                \n",
      "                                                                 \n",
      " dropout_27 (Dropout)        (None, 256)               0         \n",
      "                                                                 \n",
      " dense_35 (Dense)            (None, 128)               32896     \n",
      "                                                                 \n",
      " batch_normalization_28 (Bat  (None, 128)              512       \n",
      " chNormalization)                                                \n",
      "                                                                 \n",
      " dropout_28 (Dropout)        (None, 128)               0         \n",
      "                                                                 \n",
      " dense_36 (Dense)            (None, 32)                4128      \n",
      "                                                                 \n",
      " batch_normalization_29 (Bat  (None, 32)               128       \n",
      " chNormalization)                                                \n",
      "                                                                 \n",
      " dropout_29 (Dropout)        (None, 32)                0         \n",
      "                                                                 \n",
      " dense_37 (Dense)            (None, 3)                 99        \n",
      "                                                                 \n",
      "=================================================================\n",
      "Total params: 1,088,643\n",
      "Trainable params: 1,086,787\n",
      "Non-trainable params: 1,856\n",
      "_________________________________________________________________\n"
     ]
    }
   ],
   "source": [
    "test_mod.summary()"
   ]
  },
  {
   "cell_type": "code",
   "execution_count": 252,
   "id": "2ad0aa47",
   "metadata": {},
   "outputs": [],
   "source": [
    "model1 = models.load_model(\"testmodel.h5\")\n",
    "testdf = pd.read_csv('Cleaned datasets/cmts_cleaned.csv', header=0)\n",
    "testdf = testdf['cleaned_text']\n",
    "testdf = testdf.head(50)"
   ]
  },
  {
   "cell_type": "code",
   "execution_count": 250,
   "id": "ce09015d",
   "metadata": {},
   "outputs": [],
   "source": [
    "predictions = []"
   ]
  },
  {
   "cell_type": "code",
   "execution_count": 253,
   "id": "fe2ded07",
   "metadata": {
    "scrolled": true
   },
   "outputs": [
    {
     "name": "stdout",
     "output_type": "stream",
     "text": [
      "[0.50480294 0.20438887 0.29080826]\n",
      "[0.5161328  0.22634795 0.25751933]\n",
      "[0.37581882 0.23584113 0.3883401 ]\n",
      "[0.42778957 0.27448857 0.29772186]\n",
      "[0.49979553 0.26242536 0.23777914]\n",
      "[1.3547638e-04 5.7502608e-03 9.9411434e-01]\n",
      "[0.23733112 0.17154546 0.5911234 ]\n",
      "[0.5216474  0.21184199 0.2665106 ]\n",
      "[0.38772604 0.35784224 0.25443172]\n",
      "[0.42224282 0.19166242 0.38609475]\n",
      "[0.5306421  0.2390119  0.23034601]\n",
      "[0.70265657 0.21307538 0.08426804]\n",
      "[0.29127836 0.2268247  0.4818969 ]\n",
      "[0.60157704 0.16632652 0.23209643]\n",
      "[0.67906004 0.15045479 0.17048518]\n",
      "[0.09852838 0.15265343 0.7488183 ]\n",
      "[0.3926248  0.19313066 0.41424456]\n",
      "[0.63176936 0.18197624 0.18625443]\n",
      "[0.44329828 0.18281138 0.3738903 ]\n",
      "[0.5216474  0.21184199 0.2665106 ]\n",
      "[0.5885507  0.2040644  0.20738494]\n",
      "[0.38542944 0.28307298 0.33149752]\n",
      "[0.41850442 0.17394747 0.4075481 ]\n",
      "[0.45184708 0.22050425 0.32764864]\n",
      "[0.20852481 0.15982646 0.6316487 ]\n",
      "[0.52745765 0.20300709 0.2695353 ]\n",
      "[0.5421718  0.17620799 0.28162023]\n",
      "[0.5437137  0.21086505 0.24542129]\n",
      "[0.5216474  0.21184199 0.2665106 ]\n",
      "[0.31230834 0.14433976 0.5433519 ]\n",
      "[0.594945   0.18756369 0.21749131]\n",
      "[0.42765045 0.19716327 0.37518632]\n",
      "[0.40521383 0.18516244 0.4096237 ]\n",
      "[0.4790455  0.19886148 0.322093  ]\n",
      "[0.51852536 0.21806385 0.26341075]\n",
      "[0.5981521  0.20728241 0.19456555]\n",
      "[0.01054515 0.10217398 0.8872809 ]\n",
      "[0.56487215 0.19462208 0.2405058 ]\n",
      "[0.47659728 0.22100876 0.3023939 ]\n",
      "[0.33150625 0.19909084 0.46940288]\n",
      "[0.01066411 0.04496113 0.94437474]\n",
      "[0.8271176  0.12331767 0.04956468]\n",
      "[0.5216474  0.21184199 0.2665106 ]\n",
      "[0.9392548  0.05686967 0.0038755 ]\n",
      "[0.5219018  0.204198   0.27390018]\n",
      "[0.2247479 0.2034611 0.571791 ]\n",
      "[0.0877282  0.14333329 0.7689385 ]\n",
      "[0.15408157 0.19112043 0.654798  ]\n",
      "[0.5398268  0.21013787 0.2500353 ]\n",
      "[0.508552   0.2066736  0.28477442]\n",
      "[-1, -1, 1, -1, -1, 1, 1, -1, -1, -1, -1, -1, 1, -1, -1, 1, 1, -1, -1, -1, -1, -1, -1, -1, 1, -1, -1, -1, -1, 1, -1, -1, 1, -1, -1, -1, 1, -1, -1, 1, 1, -1, -1, -1, -1, 1, 1, 1, -1, -1, -1, -1, -1, -1, -1, -1, -1, -1, -1, -1, 1, -1, 1, -1, -1, -1, -1, -1, -1, -1, -1, -1, -1, 1, -1, -1, -1, -1, -1, -1, -1, -1, -1, -1, -1, -1, -1, -1, -1, -1, -1, -1, -1, 1, -1, -1, -1, -1, -1, 1, -1, -1, 1, -1, -1, 1, 1, -1, -1, -1, -1, -1, 1, -1, -1, 1, 1, -1, -1, -1, -1, -1, -1, -1, 1, -1, -1, -1, -1, 1, -1, -1, 1, -1, -1, -1, 1, -1, -1, 1, 1, -1, -1, -1, -1, 1, 1, 1, -1, -1]\n"
     ]
    }
   ],
   "source": [
    "for i in testdf:\n",
    "    t = [str(i)]\n",
    "    t = tokenizer.texts_to_matrix(t, mode='count')\n",
    "    pred = test_mod.predict(t, verbose=0)\n",
    "    print(pred[0])\n",
    "    \n",
    "    if(pred[0][0] >= pred[0][1]) and (pred[0][0] >= pred[0][2]):\n",
    "        predictions.append(-1)\n",
    "    elif(pred[0][1] >= pred[0][0]) and (pred[0][1] >= pred[0][2]):\n",
    "        predictions.append(0)\n",
    "    else:\n",
    "        predictions.append(1)\n",
    "#    break\n",
    "print(predictions)"
   ]
  },
  {
   "cell_type": "code",
   "execution_count": null,
   "id": "a9340ee3",
   "metadata": {},
   "outputs": [],
   "source": []
  },
  {
   "cell_type": "code",
   "execution_count": null,
   "id": "ab8033d1",
   "metadata": {},
   "outputs": [],
   "source": [
    "cleanPredict = []\n",
    "for tuple in predictions:\n",
    "    max = np.argmax(tuple)\n",
    "    temp = [max]\n",
    "    cleanPredict.append(temp)\n",
    "cleanPredict"
   ]
  },
  {
   "cell_type": "code",
   "execution_count": null,
   "id": "46530aaf",
   "metadata": {},
   "outputs": [],
   "source": []
  },
  {
   "cell_type": "code",
   "execution_count": null,
   "id": "f5aa3d3f",
   "metadata": {},
   "outputs": [],
   "source": []
  },
  {
   "cell_type": "code",
   "execution_count": null,
   "id": "dc151301",
   "metadata": {},
   "outputs": [],
   "source": []
  },
  {
   "cell_type": "code",
   "execution_count": null,
   "id": "17a81156",
   "metadata": {},
   "outputs": [],
   "source": []
  },
  {
   "cell_type": "code",
   "execution_count": null,
   "id": "be992e5b",
   "metadata": {},
   "outputs": [],
   "source": []
  },
  {
   "cell_type": "code",
   "execution_count": null,
   "id": "ffe89040",
   "metadata": {},
   "outputs": [],
   "source": []
  },
  {
   "cell_type": "code",
   "execution_count": null,
   "id": "33d91d5b",
   "metadata": {},
   "outputs": [],
   "source": []
  },
  {
   "cell_type": "code",
   "execution_count": null,
   "id": "d5b979f2",
   "metadata": {},
   "outputs": [],
   "source": []
  },
  {
   "cell_type": "code",
   "execution_count": null,
   "id": "bc934e4c",
   "metadata": {},
   "outputs": [],
   "source": []
  },
  {
   "cell_type": "code",
   "execution_count": null,
   "id": "4592794e",
   "metadata": {},
   "outputs": [],
   "source": []
  },
  {
   "cell_type": "code",
   "execution_count": null,
   "id": "dbbdd986",
   "metadata": {},
   "outputs": [],
   "source": []
  },
  {
   "cell_type": "code",
   "execution_count": null,
   "id": "ed3fedc0",
   "metadata": {},
   "outputs": [],
   "source": []
  },
  {
   "cell_type": "code",
   "execution_count": null,
   "id": "a1ba2a50",
   "metadata": {},
   "outputs": [],
   "source": []
  },
  {
   "cell_type": "code",
   "execution_count": null,
   "id": "2cd54a38",
   "metadata": {},
   "outputs": [],
   "source": []
  },
  {
   "cell_type": "code",
   "execution_count": null,
   "id": "0eb04e4f",
   "metadata": {},
   "outputs": [],
   "source": []
  },
  {
   "cell_type": "code",
   "execution_count": null,
   "id": "ff0029d2",
   "metadata": {},
   "outputs": [],
   "source": []
  },
  {
   "cell_type": "code",
   "execution_count": null,
   "id": "4535dd3f",
   "metadata": {},
   "outputs": [],
   "source": []
  },
  {
   "cell_type": "code",
   "execution_count": null,
   "id": "7e7d8ff8",
   "metadata": {},
   "outputs": [],
   "source": []
  },
  {
   "cell_type": "code",
   "execution_count": null,
   "id": "3d2ce53c",
   "metadata": {},
   "outputs": [],
   "source": []
  },
  {
   "cell_type": "code",
   "execution_count": null,
   "id": "d71d0112",
   "metadata": {},
   "outputs": [],
   "source": []
  },
  {
   "cell_type": "code",
   "execution_count": null,
   "id": "dcd4b044",
   "metadata": {},
   "outputs": [],
   "source": []
  },
  {
   "cell_type": "code",
   "execution_count": null,
   "id": "620eb75b",
   "metadata": {},
   "outputs": [],
   "source": []
  },
  {
   "cell_type": "code",
   "execution_count": null,
   "id": "780450a9",
   "metadata": {},
   "outputs": [],
   "source": [
    "df = pd.read_csv('comments.csv')\n",
    "df"
   ]
  },
  {
   "cell_type": "code",
   "execution_count": null,
   "id": "bc48f83d",
   "metadata": {},
   "outputs": [],
   "source": []
  },
  {
   "cell_type": "code",
   "execution_count": null,
   "id": "30e0276a",
   "metadata": {},
   "outputs": [],
   "source": []
  },
  {
   "cell_type": "code",
   "execution_count": null,
   "id": "57f88536",
   "metadata": {},
   "outputs": [],
   "source": []
  },
  {
   "cell_type": "code",
   "execution_count": null,
   "id": "abf4353a",
   "metadata": {},
   "outputs": [],
   "source": []
  },
  {
   "cell_type": "code",
   "execution_count": null,
   "id": "75ae58ae",
   "metadata": {},
   "outputs": [],
   "source": []
  },
  {
   "cell_type": "code",
   "execution_count": null,
   "id": "e28f5f8e",
   "metadata": {},
   "outputs": [],
   "source": []
  },
  {
   "cell_type": "code",
   "execution_count": null,
   "id": "e3059104",
   "metadata": {},
   "outputs": [],
   "source": []
  },
  {
   "cell_type": "code",
   "execution_count": null,
   "id": "c1eee077",
   "metadata": {},
   "outputs": [],
   "source": []
  },
  {
   "cell_type": "code",
   "execution_count": null,
   "id": "5aa518cc",
   "metadata": {},
   "outputs": [],
   "source": []
  },
  {
   "cell_type": "code",
   "execution_count": null,
   "id": "55a75841",
   "metadata": {},
   "outputs": [],
   "source": []
  }
 ],
 "metadata": {
  "kernelspec": {
   "display_name": "Python 3 (ipykernel)",
   "language": "python",
   "name": "python3"
  },
  "language_info": {
   "codemirror_mode": {
    "name": "ipython",
    "version": 3
   },
   "file_extension": ".py",
   "mimetype": "text/x-python",
   "name": "python",
   "nbconvert_exporter": "python",
   "pygments_lexer": "ipython3",
   "version": "3.9.12"
  }
 },
 "nbformat": 4,
 "nbformat_minor": 5
}
