{
 "cells": [
  {
   "cell_type": "markdown",
   "metadata": {},
   "source": [
    "# Sentiment Analysis"
   ]
  },
  {
   "cell_type": "markdown",
   "metadata": {
    "papermill": {
     "duration": 0.011553,
     "end_time": "2021-02-02T22:54:16.674315",
     "exception": false,
     "start_time": "2021-02-02T22:54:16.662762",
     "status": "completed"
    },
    "tags": []
   },
   "source": [
    "# Table of contents<a class=\"anchor\" id=\"m\"></a>\n",
    "\n",
    "* [Data Preparation](#one)\n",
    "    * [Loading in initial datasets](#1.1)\n",
    "    * [Preprocessing](#1.2)\n",
    "    * [Train, test, validation split](#1.3)\n",
    "* [Model Training](#two)\n",
    "    * [Hyperparameter tuning](#2.1)\n",
    "        * [Results of optimally tuned model](#2.2)\n",
    "    * [Actual Training to create full model for sentiment analysis using full set of data](#2.3)\n",
    "* [Testing model](#three)"
   ]
  },
  {
   "cell_type": "code",
   "execution_count": 15,
   "metadata": {
    "execution": {
     "iopub.execute_input": "2021-02-02T22:54:16.705615Z",
     "iopub.status.busy": "2021-02-02T22:54:16.704646Z",
     "iopub.status.idle": "2021-02-02T22:54:23.740958Z",
     "shell.execute_reply": "2021-02-02T22:54:23.740171Z"
    },
    "papermill": {
     "duration": 7.054901,
     "end_time": "2021-02-02T22:54:23.741196",
     "exception": false,
     "start_time": "2021-02-02T22:54:16.686295",
     "status": "completed"
    },
    "tags": []
   },
   "outputs": [
    {
     "name": "stderr",
     "output_type": "stream",
     "text": [
      "[nltk_data] Downloading package stopwords to\n",
      "[nltk_data]     /home/D190003/nltk_data...\n",
      "[nltk_data]   Package stopwords is already up-to-date!\n"
     ]
    }
   ],
   "source": [
    "import numpy as np\n",
    "import pandas as pd\n",
    "import pickle\n",
    "import string\n",
    "\n",
    "#For Preprocessing\n",
    "import re    # RegEx for removing non-letter characters\n",
    "import nltk  #natural language processing\n",
    "nltk.download(\"stopwords\")\n",
    "from nltk.corpus import stopwords\n",
    "from nltk.stem.porter import *\n",
    "\n",
    "#For data visualization\n",
    "import matplotlib.pyplot as plt\n",
    "from matplotlib import pyplot\n",
    "import matplotlib.patches as mpatches\n",
    "import seaborn as sns\n",
    "\n",
    "%matplotlib inline\n",
    "\n",
    "pd.options.plotting.backend = \"plotly\"\n",
    "\n",
    "import random\n",
    "import json\n",
    "import tensorflow.keras.layers as L\n",
    "import tensorflow.keras.backend as K\n",
    "import os\n",
    "from math import nan\n",
    "from pandas import read_csv\n",
    "from matplotlib import pyplot\n",
    "from tensorflow import keras\n",
    "from tensorflow.keras import Model\n",
    "import itertools\n",
    "from tensorflow.keras.preprocessing.text import Tokenizer\n",
    "from tensorflow.keras.preprocessing.sequence import pad_sequences\n",
    "from sklearn.model_selection import train_test_split\n",
    "import tensorflow as tf\n",
    "from tensorflow.keras.models import Sequential\n",
    "from tensorflow.keras.layers import Embedding, Conv1D, MaxPooling1D, Bidirectional, LSTM, Dense, Dropout\n",
    "from tensorflow.keras.metrics import Precision, Recall\n",
    "from tensorflow.keras.optimizers import SGD\n",
    "from tensorflow.keras.optimizers import RMSprop\n",
    "from tensorflow.keras import datasets\n",
    "import keras_tuner as kt\n",
    "from tensorflow.keras.callbacks import LearningRateScheduler\n",
    "from tensorflow.keras.callbacks import History\n",
    "from sklearn.preprocessing import LabelEncoder\n",
    "from tensorflow.keras import losses\n",
    "from tensorflow.keras.layers import Input\n",
    "from tensorflow.keras.layers import Layer\n",
    "from tensorflow.keras.layers import GRU\n",
    "from tensorflow.keras.layers import RNN\n",
    "from tensorflow.keras.layers import Dropout\n",
    "from tensorflow.keras.layers import Activation\n",
    "from tensorflow.keras.layers import TimeDistributed\n",
    "from tensorflow.keras.layers import LayerNormalization\n",
    "from tensorflow.keras.layers import MultiHeadAttention\n",
    "from tensorflow.keras.layers import GlobalAveragePooling1D\n",
    "from tensorflow.keras.optimizers import Adam\n",
    "from pandas import read_csv\n",
    "from sklearn.metrics import mean_squared_error\n",
    "import math\n",
    "from future.utils import iteritems\n",
    "from numpy import savetxt\n",
    "from numpy import asarray\n",
    "from numpy import savez_compressed\n",
    "from statistics import mean\n",
    "from tensorflow.keras import layers\n",
    "from collections import Counter\n",
    "from conlleval import evaluate\n",
    "from emot.emo_unicode import UNICODE_EMOJI  # for emojis\n",
    "from emot.emo_unicode import EMOTICONS_EMO  # for emoticons"
   ]
  },
  {
   "cell_type": "markdown",
   "metadata": {},
   "source": [
    "# Data Preparation<a class=\"anchor\" id=\"one\"></a>\n",
    "[Contents Page](#m)"
   ]
  },
  {
   "cell_type": "markdown",
   "metadata": {},
   "source": [
    "## Data Loading<a class=\"anchor\" id=\"1.1\"></a>\n",
    "(DATAFRAME COMBINATION)"
   ]
  },
  {
   "cell_type": "code",
   "execution_count": 4,
   "metadata": {},
   "outputs": [
    {
     "data": {
      "text/html": [
       "<div>\n",
       "<style scoped>\n",
       "    .dataframe tbody tr th:only-of-type {\n",
       "        vertical-align: middle;\n",
       "    }\n",
       "\n",
       "    .dataframe tbody tr th {\n",
       "        vertical-align: top;\n",
       "    }\n",
       "\n",
       "    .dataframe thead th {\n",
       "        text-align: right;\n",
       "    }\n",
       "</style>\n",
       "<table border=\"1\" class=\"dataframe\">\n",
       "  <thead>\n",
       "    <tr style=\"text-align: right;\">\n",
       "      <th></th>\n",
       "      <th>clean_text</th>\n",
       "    </tr>\n",
       "    <tr>\n",
       "      <th>category</th>\n",
       "      <th></th>\n",
       "    </tr>\n",
       "  </thead>\n",
       "  <tbody>\n",
       "    <tr>\n",
       "      <th>negative</th>\n",
       "      <td>197</td>\n",
       "    </tr>\n",
       "    <tr>\n",
       "      <th>positive</th>\n",
       "      <td>4188</td>\n",
       "    </tr>\n",
       "  </tbody>\n",
       "</table>\n",
       "</div>"
      ],
      "text/plain": [
       "          clean_text\n",
       "category            \n",
       "negative         197\n",
       "positive        4188"
      ]
     },
     "execution_count": 4,
     "metadata": {},
     "output_type": "execute_result"
    }
   ],
   "source": [
    "dfa.groupby('category').nunique()"
   ]
  },
  {
   "cell_type": "code",
   "execution_count": 72,
   "metadata": {
    "execution": {
     "iopub.execute_input": "2021-02-02T22:54:23.772486Z",
     "iopub.status.busy": "2021-02-02T22:54:23.771705Z",
     "iopub.status.idle": "2021-02-02T22:54:23.811917Z",
     "shell.execute_reply": "2021-02-02T22:54:23.811239Z"
    },
    "papermill": {
     "duration": 0.05793,
     "end_time": "2021-02-02T22:54:23.812160",
     "exception": false,
     "start_time": "2021-02-02T22:54:23.754230",
     "status": "completed"
    },
    "tags": []
   },
   "outputs": [],
   "source": [
    "data = pd.read_csv('all-data.csv', names=['category', 'clean_text'], encoding='latin-1')\n",
    "df1 = pd.read_csv('Twitter_Data.csv')\n",
    "df2 = pd.read_csv('apple-twitter-sentiment-texts.csv')\n",
    "df2 = df2.rename(columns={'text': 'clean_text', 'sentiment':'category'})\n",
    "df2['category'] = df2['category'].map({-1: -1.0, 0: 0.0, 1:1.0})\n",
    "df3 = pd.read_csv('finalSentimentdata2.csv')\n",
    "df3 = df3.rename(columns={'text': 'clean_text', 'sentiment':'category'})\n",
    "df3['category'] = df3['category'].map({'sad': -1.0, 'anger': -1.0, 'fear': -1.0, 'joy':1.0})\n",
    "df3 = df3.drop(['Unnamed: 0'], axis=1)\n",
    "df4 = pd.read_csv('Tweets.csv')\n",
    "df4 = df4.rename(columns={'text': 'clean_text', 'airline_sentiment':'category'})\n",
    "df4['category'] = df4['category'].map({'negative': -1.0, 'neutral': 0.0, 'positive':1.0})\n",
    "df4 = df4[['category','clean_text']]\n",
    "df = pd.concat([df1, df2, df3, df4], ignore_index=True)\n",
    "df.dropna(axis=0, inplace=True)\n",
    "df['category'] = df['category'].map({-1.0:'negative', 0.0:'neutral', 1.0:'positive'})\n",
    "die= pd.concat([df, data], ignore_index=True)"
   ]
  },
  {
   "cell_type": "code",
   "execution_count": 73,
   "metadata": {},
   "outputs": [
    {
     "data": {
      "text/html": [
       "<div>\n",
       "<style scoped>\n",
       "    .dataframe tbody tr th:only-of-type {\n",
       "        vertical-align: middle;\n",
       "    }\n",
       "\n",
       "    .dataframe tbody tr th {\n",
       "        vertical-align: top;\n",
       "    }\n",
       "\n",
       "    .dataframe thead th {\n",
       "        text-align: right;\n",
       "    }\n",
       "</style>\n",
       "<table border=\"1\" class=\"dataframe\">\n",
       "  <thead>\n",
       "    <tr style=\"text-align: right;\">\n",
       "      <th></th>\n",
       "      <th>clean_text</th>\n",
       "      <th>category</th>\n",
       "    </tr>\n",
       "  </thead>\n",
       "  <tbody>\n",
       "    <tr>\n",
       "      <th>0</th>\n",
       "      <td>when modi promised “minimum government maximum...</td>\n",
       "      <td>negative</td>\n",
       "    </tr>\n",
       "    <tr>\n",
       "      <th>1</th>\n",
       "      <td>talk all the nonsense and continue all the dra...</td>\n",
       "      <td>neutral</td>\n",
       "    </tr>\n",
       "    <tr>\n",
       "      <th>2</th>\n",
       "      <td>what did just say vote for modi  welcome bjp t...</td>\n",
       "      <td>positive</td>\n",
       "    </tr>\n",
       "    <tr>\n",
       "      <th>3</th>\n",
       "      <td>asking his supporters prefix chowkidar their n...</td>\n",
       "      <td>positive</td>\n",
       "    </tr>\n",
       "    <tr>\n",
       "      <th>4</th>\n",
       "      <td>answer who among these the most powerful world...</td>\n",
       "      <td>positive</td>\n",
       "    </tr>\n",
       "    <tr>\n",
       "      <th>...</th>\n",
       "      <td>...</td>\n",
       "      <td>...</td>\n",
       "    </tr>\n",
       "    <tr>\n",
       "      <th>187170</th>\n",
       "      <td>LONDON MarketWatch -- Share prices ended lower...</td>\n",
       "      <td>negative</td>\n",
       "    </tr>\n",
       "    <tr>\n",
       "      <th>187171</th>\n",
       "      <td>Rinkuskiai 's beer sales fell by 6.5 per cent ...</td>\n",
       "      <td>neutral</td>\n",
       "    </tr>\n",
       "    <tr>\n",
       "      <th>187172</th>\n",
       "      <td>Operating profit fell to EUR 35.4 mn from EUR ...</td>\n",
       "      <td>negative</td>\n",
       "    </tr>\n",
       "    <tr>\n",
       "      <th>187173</th>\n",
       "      <td>Net sales of the Paper segment decreased to EU...</td>\n",
       "      <td>negative</td>\n",
       "    </tr>\n",
       "    <tr>\n",
       "      <th>187174</th>\n",
       "      <td>Sales in Finland decreased by 10.5 % in Januar...</td>\n",
       "      <td>negative</td>\n",
       "    </tr>\n",
       "  </tbody>\n",
       "</table>\n",
       "<p>187175 rows × 2 columns</p>\n",
       "</div>"
      ],
      "text/plain": [
       "                                               clean_text  category\n",
       "0       when modi promised “minimum government maximum...  negative\n",
       "1       talk all the nonsense and continue all the dra...   neutral\n",
       "2       what did just say vote for modi  welcome bjp t...  positive\n",
       "3       asking his supporters prefix chowkidar their n...  positive\n",
       "4       answer who among these the most powerful world...  positive\n",
       "...                                                   ...       ...\n",
       "187170  LONDON MarketWatch -- Share prices ended lower...  negative\n",
       "187171  Rinkuskiai 's beer sales fell by 6.5 per cent ...   neutral\n",
       "187172  Operating profit fell to EUR 35.4 mn from EUR ...  negative\n",
       "187173  Net sales of the Paper segment decreased to EU...  negative\n",
       "187174  Sales in Finland decreased by 10.5 % in Januar...  negative\n",
       "\n",
       "[187175 rows x 2 columns]"
      ]
     },
     "execution_count": 73,
     "metadata": {},
     "output_type": "execute_result"
    }
   ],
   "source": [
    "die"
   ]
  },
  {
   "cell_type": "code",
   "execution_count": 68,
   "metadata": {},
   "outputs": [
    {
     "data": {
      "text/html": [
       "<div>\n",
       "<style scoped>\n",
       "    .dataframe tbody tr th:only-of-type {\n",
       "        vertical-align: middle;\n",
       "    }\n",
       "\n",
       "    .dataframe tbody tr th {\n",
       "        vertical-align: top;\n",
       "    }\n",
       "\n",
       "    .dataframe thead th {\n",
       "        text-align: right;\n",
       "    }\n",
       "</style>\n",
       "<table border=\"1\" class=\"dataframe\">\n",
       "  <thead>\n",
       "    <tr style=\"text-align: right;\">\n",
       "      <th></th>\n",
       "      <th>clean_text</th>\n",
       "    </tr>\n",
       "    <tr>\n",
       "      <th>category</th>\n",
       "      <th></th>\n",
       "    </tr>\n",
       "  </thead>\n",
       "  <tbody>\n",
       "    <tr>\n",
       "      <th>negative</th>\n",
       "      <td>48213</td>\n",
       "    </tr>\n",
       "    <tr>\n",
       "      <th>neutral</th>\n",
       "      <td>61949</td>\n",
       "    </tr>\n",
       "    <tr>\n",
       "      <th>positive</th>\n",
       "      <td>76768</td>\n",
       "    </tr>\n",
       "  </tbody>\n",
       "</table>\n",
       "</div>"
      ],
      "text/plain": [
       "          clean_text\n",
       "category            \n",
       "negative       48213\n",
       "neutral        61949\n",
       "positive       76768"
      ]
     },
     "execution_count": 68,
     "metadata": {},
     "output_type": "execute_result"
    }
   ],
   "source": [
    "die.groupby('category').nunique()"
   ]
  },
  {
   "cell_type": "code",
   "execution_count": 10,
   "metadata": {
    "execution": {
     "iopub.execute_input": "2021-02-02T22:54:23.915238Z",
     "iopub.status.busy": "2021-02-02T22:54:23.914273Z",
     "iopub.status.idle": "2021-02-02T22:54:23.918508Z",
     "shell.execute_reply": "2021-02-02T22:54:23.919867Z"
    },
    "papermill": {
     "duration": 0.034172,
     "end_time": "2021-02-02T22:54:23.920106",
     "exception": false,
     "start_time": "2021-02-02T22:54:23.885934",
     "status": "completed"
    },
    "tags": []
   },
   "outputs": [
    {
     "name": "stdout",
     "output_type": "stream",
     "text": [
      "\n",
      "Original tweet -> with firm belief the leadership shri narendra modi bjp entering into politics given form file nomination for the khammam parliamentary seat proceeding khammam today \n",
      "\n",
      "Processed tweet -> ['firm', 'belief', 'leadership', 'shri', 'narendra', 'modi', 'bjp', 'enter', 'polit', 'given', 'form', 'file', 'nomin', 'khammam', 'parliamentari', 'seat', 'proceed', 'khammam', 'today']\n"
     ]
    }
   ],
   "source": [
    "def con(elon):\n",
    "    ''' Convert tweet text into a sequence of words '''\n",
    "    \n",
    "    # convert to lowercase\n",
    "    text = elon.lower()\n",
    "    # remove non letters\n",
    "    text = re.sub(r\"[^a-zA-Z0-9]\", \" \", text)\n",
    "    # tokenize\n",
    "    words = text.split()\n",
    "    # remove stopwords\n",
    "    words = [w for w in words if w not in stopwords.words(\"english\")]\n",
    "    # apply stemming\n",
    "    words = [PorterStemmer().stem(w) for w in words]\n",
    "    # return list\n",
    "    return words\n",
    "\n",
    "print(\"\\nOriginal tweet ->\", die['clean_text'][21])\n",
    "print(\"\\nProcessed tweet ->\", con(die['clean_text'][21]))\n",
    "\n",
    "# Apply data processing to each sentence\n",
    "X = list(map(con, die['clean_text']))\n",
    "\n",
    "# Encode target labels\n",
    "le = LabelEncoder()\n",
    "Y = le.fit_transform(die['category'])"
   ]
  },
  {
   "cell_type": "markdown",
   "metadata": {
    "papermill": {
     "duration": 0.013203,
     "end_time": "2021-02-02T22:54:23.947725",
     "exception": false,
     "start_time": "2021-02-02T22:54:23.934522",
     "status": "completed"
    },
    "tags": []
   },
   "source": [
    "## Preprocessing<a class=\"anchor\" id=\"1.2\"></a>"
   ]
  },
  {
   "cell_type": "code",
   "execution_count": 63,
   "metadata": {},
   "outputs": [
    {
     "data": {
      "text/html": [
       "<div>\n",
       "<style scoped>\n",
       "    .dataframe tbody tr th:only-of-type {\n",
       "        vertical-align: middle;\n",
       "    }\n",
       "\n",
       "    .dataframe tbody tr th {\n",
       "        vertical-align: top;\n",
       "    }\n",
       "\n",
       "    .dataframe thead th {\n",
       "        text-align: right;\n",
       "    }\n",
       "</style>\n",
       "<table border=\"1\" class=\"dataframe\">\n",
       "  <thead>\n",
       "    <tr style=\"text-align: right;\">\n",
       "      <th></th>\n",
       "      <th>clean_text</th>\n",
       "      <th>category</th>\n",
       "    </tr>\n",
       "  </thead>\n",
       "  <tbody>\n",
       "    <tr>\n",
       "      <th>0</th>\n",
       "      <td>modi promised “minimum government maximum gove...</td>\n",
       "      <td>negative</td>\n",
       "    </tr>\n",
       "    <tr>\n",
       "      <th>2</th>\n",
       "      <td>say vote modi welcome bjp told rahul main camp...</td>\n",
       "      <td>positive</td>\n",
       "    </tr>\n",
       "    <tr>\n",
       "      <th>3</th>\n",
       "      <td>asking supporters prefix chowkidar names modi ...</td>\n",
       "      <td>positive</td>\n",
       "    </tr>\n",
       "    <tr>\n",
       "      <th>4</th>\n",
       "      <td>answer among powerful world leader today trump...</td>\n",
       "      <td>positive</td>\n",
       "    </tr>\n",
       "    <tr>\n",
       "      <th>8</th>\n",
       "      <td>upcoming election india saga going important p...</td>\n",
       "      <td>positive</td>\n",
       "    </tr>\n",
       "    <tr>\n",
       "      <th>...</th>\n",
       "      <td>...</td>\n",
       "      <td>...</td>\n",
       "    </tr>\n",
       "    <tr>\n",
       "      <th>187169</th>\n",
       "      <td>helsinki thomson financial - shares cargotec f...</td>\n",
       "      <td>negative</td>\n",
       "    </tr>\n",
       "    <tr>\n",
       "      <th>187170</th>\n",
       "      <td>london marketwatch -- share prices ended lower...</td>\n",
       "      <td>negative</td>\n",
       "    </tr>\n",
       "    <tr>\n",
       "      <th>187172</th>\n",
       "      <td>operating profit fell eur 35.4 mn eur 68.8 mn ...</td>\n",
       "      <td>negative</td>\n",
       "    </tr>\n",
       "    <tr>\n",
       "      <th>187173</th>\n",
       "      <td>net sales paper segment decreased eur 221.6 mn...</td>\n",
       "      <td>negative</td>\n",
       "    </tr>\n",
       "    <tr>\n",
       "      <th>187174</th>\n",
       "      <td>sales finland decreased 10.5 % january , sales...</td>\n",
       "      <td>negative</td>\n",
       "    </tr>\n",
       "  </tbody>\n",
       "</table>\n",
       "<p>125185 rows × 2 columns</p>\n",
       "</div>"
      ],
      "text/plain": [
       "                                               clean_text  category\n",
       "0       modi promised “minimum government maximum gove...  negative\n",
       "2       say vote modi welcome bjp told rahul main camp...  positive\n",
       "3       asking supporters prefix chowkidar names modi ...  positive\n",
       "4       answer among powerful world leader today trump...  positive\n",
       "8       upcoming election india saga going important p...  positive\n",
       "...                                                   ...       ...\n",
       "187169  helsinki thomson financial - shares cargotec f...  negative\n",
       "187170  london marketwatch -- share prices ended lower...  negative\n",
       "187172  operating profit fell eur 35.4 mn eur 68.8 mn ...  negative\n",
       "187173  net sales paper segment decreased eur 221.6 mn...  negative\n",
       "187174  sales finland decreased 10.5 % january , sales...  negative\n",
       "\n",
       "[125185 rows x 2 columns]"
      ]
     },
     "execution_count": 63,
     "metadata": {},
     "output_type": "execute_result"
    }
   ],
   "source": [
    "# Function to replace/remove junk seen during manual labelling\n",
    "# Converting emojis to words\n",
    "def convert_emojis(text):\n",
    "    for i in text:\n",
    "        if i in UNICODE_EMOJI.keys():\n",
    "            try:\n",
    "                text = text.replace(i, f' {\"_\".join(UNICODE_EMOJI[i].replace(\",\",\"\").replace(\":\",\"\").split())}')\n",
    "            except:\n",
    "                continue\n",
    "    \n",
    "    return text\n",
    "\n",
    "\n",
    "# Converting emoticons to words    \n",
    "def convert_emoticons(text):\n",
    "    for i in text.split():\n",
    "        if i in EMOTICONS_EMO.keys():\n",
    "            text = text.replace(i, \"_\".join(EMOTICONS_EMO[i].replace(\",\",\"\").split()))\n",
    "    return text\n",
    "\n",
    "\n",
    "# Function for removing urls\n",
    "def remove_urls(text):\n",
    "    url_pattern = re.compile(r'https?://\\S+|www\\.\\S+')\n",
    "    return url_pattern.sub(r'', text)\n",
    "\n",
    "\n",
    "# custom punctuation\n",
    "punctuations = string.punctuation + \"´‘’“”…–€«»\"\n",
    "\n",
    "# # Function to replace/remove junk seen during manual labelling\n",
    "# def dejunk(text):\n",
    "#     text = re.sub(r\"𝓟𝓻𝓲𝓬𝓮𝓵𝓮𝓼𝓼 𝓲𝓼 𝓽𝓱𝓮 𝓶𝓸𝓼𝓽 𝓿𝓪𝓵𝓾𝓪𝓫𝓵𝓮 𝓪𝓼𝓼𝓮𝓽 𝓽𝓸 𝓸𝔀𝓷 𝓲𝓯 𝔂𝓸𝓾 𝓪𝓻𝓮 𝓵𝓾𝓬𝓴𝔂 𝓮𝓷𝓸𝓾𝓰𝓱 𝓽𝓸 𝓫𝓮 𝓪𝓫𝓵𝓮 𝓽𝓸 𝓪𝓬𝓺𝓾𝓲𝓻𝓮 𝓲𝓽\", \n",
    "#                   \"priceless is the most valuable asset to own if you are lucky enough to be able to acquire it\", text)\n",
    "    \n",
    "#     text = re.sub(r\"&amp;\", \"and\", text)  # &\n",
    "#     text = re.sub(r\"&gt;\", \"\", text)  # >\n",
    "#     text = re.sub(r\"&lt;\", \"\", text)  # <\n",
    "#     text = re.sub(r\"1⃣\", \"1. \", text)\n",
    "#     text = re.sub(r\"2⃣\", \"2. \", text)\n",
    "#     text = re.sub(r\"3⃣\", \"3. \", text)\n",
    "#     text = re.sub(r\"4⃣\", \"4. \", text)\n",
    "\n",
    "#     return text\n",
    "\n",
    "#making a text-cleaning function\n",
    "def preprocess_text(text):\n",
    "    \n",
    "    #convert lowercase\n",
    "    cleaned_text = text.lower()\n",
    "\n",
    "#     # Replace/remove junk text\n",
    "#     cleaned_text = dejunk(cleaned_text)\n",
    "    \n",
    "    #convert emoji into words\n",
    "    cleaned_text = convert_emojis(cleaned_text)\n",
    "    \n",
    "    # convert emoticons into words\n",
    "    cleaned_text = convert_emoticons(cleaned_text)\n",
    "    \n",
    "    # remove urls\n",
    "    cleaned_text = remove_urls(cleaned_text)\n",
    "    \n",
    "#     #remove punctuations\n",
    "#     nopunc = [char for char in cleaned_text if char not in punctuations]\n",
    "#     nopunc = ''.join(nopunc)\n",
    "    \n",
    "    #remove stopwords\n",
    "    clean_words = [word for word in cleaned_text.split() if word.lower() not in stopwords.words('english')]\n",
    "\n",
    "    #return cleaned text\n",
    "    return ' '.join(clean_words)\n",
    "\n",
    "die[\"clean_text\"] = die[\"clean_text\"].apply(preprocess_text)\n",
    "\n",
    "die"
   ]
  },
  {
   "cell_type": "code",
   "execution_count": 64,
   "metadata": {},
   "outputs": [],
   "source": [
    "die.to_pickle(\"aym.pkl\")"
   ]
  },
  {
   "cell_type": "code",
   "execution_count": 27,
   "metadata": {},
   "outputs": [
    {
     "data": {
      "text/plain": [
       "0         modi promised “minimum government maximum gove...\n",
       "1                    talk nonsense continue drama vote modi\n",
       "2         say vote modi welcome bjp told rahul main camp...\n",
       "3         asking supporters prefix chowkidar names modi ...\n",
       "4         answer among powerful world leader today trump...\n",
       "                                ...                        \n",
       "187170    london marketwatch -- share prices ended lower...\n",
       "187171    rinkuskiai 's beer sales fell 6.5 per cent 4.1...\n",
       "187172    operating profit fell eur 35.4 mn eur 68.8 mn ...\n",
       "187173    net sales paper segment decreased eur 221.6 mn...\n",
       "187174    sales finland decreased 10.5 % january , sales...\n",
       "Name: clean_text, Length: 187175, dtype: object"
      ]
     },
     "execution_count": 27,
     "metadata": {},
     "output_type": "execute_result"
    }
   ],
   "source": [
    "die['clean_text']"
   ]
  },
  {
   "cell_type": "code",
   "execution_count": 65,
   "metadata": {},
   "outputs": [
    {
     "data": {
      "text/html": [
       "<div>\n",
       "<style scoped>\n",
       "    .dataframe tbody tr th:only-of-type {\n",
       "        vertical-align: middle;\n",
       "    }\n",
       "\n",
       "    .dataframe tbody tr th {\n",
       "        vertical-align: top;\n",
       "    }\n",
       "\n",
       "    .dataframe thead th {\n",
       "        text-align: right;\n",
       "    }\n",
       "</style>\n",
       "<table border=\"1\" class=\"dataframe\">\n",
       "  <thead>\n",
       "    <tr style=\"text-align: right;\">\n",
       "      <th></th>\n",
       "      <th>clean_text</th>\n",
       "      <th>category</th>\n",
       "    </tr>\n",
       "  </thead>\n",
       "  <tbody>\n",
       "    <tr>\n",
       "      <th>0</th>\n",
       "      <td>modi promised “minimum government maximum gove...</td>\n",
       "      <td>negative</td>\n",
       "    </tr>\n",
       "    <tr>\n",
       "      <th>2</th>\n",
       "      <td>say vote modi welcome bjp told rahul main camp...</td>\n",
       "      <td>positive</td>\n",
       "    </tr>\n",
       "    <tr>\n",
       "      <th>3</th>\n",
       "      <td>asking supporters prefix chowkidar names modi ...</td>\n",
       "      <td>positive</td>\n",
       "    </tr>\n",
       "    <tr>\n",
       "      <th>4</th>\n",
       "      <td>answer among powerful world leader today trump...</td>\n",
       "      <td>positive</td>\n",
       "    </tr>\n",
       "    <tr>\n",
       "      <th>8</th>\n",
       "      <td>upcoming election india saga going important p...</td>\n",
       "      <td>positive</td>\n",
       "    </tr>\n",
       "    <tr>\n",
       "      <th>...</th>\n",
       "      <td>...</td>\n",
       "      <td>...</td>\n",
       "    </tr>\n",
       "    <tr>\n",
       "      <th>187169</th>\n",
       "      <td>helsinki thomson financial - shares cargotec f...</td>\n",
       "      <td>negative</td>\n",
       "    </tr>\n",
       "    <tr>\n",
       "      <th>187170</th>\n",
       "      <td>london marketwatch -- share prices ended lower...</td>\n",
       "      <td>negative</td>\n",
       "    </tr>\n",
       "    <tr>\n",
       "      <th>187172</th>\n",
       "      <td>operating profit fell eur 35.4 mn eur 68.8 mn ...</td>\n",
       "      <td>negative</td>\n",
       "    </tr>\n",
       "    <tr>\n",
       "      <th>187173</th>\n",
       "      <td>net sales paper segment decreased eur 221.6 mn...</td>\n",
       "      <td>negative</td>\n",
       "    </tr>\n",
       "    <tr>\n",
       "      <th>187174</th>\n",
       "      <td>sales finland decreased 10.5 % january , sales...</td>\n",
       "      <td>negative</td>\n",
       "    </tr>\n",
       "  </tbody>\n",
       "</table>\n",
       "<p>125185 rows × 2 columns</p>\n",
       "</div>"
      ],
      "text/plain": [
       "                                               clean_text  category\n",
       "0       modi promised “minimum government maximum gove...  negative\n",
       "2       say vote modi welcome bjp told rahul main camp...  positive\n",
       "3       asking supporters prefix chowkidar names modi ...  positive\n",
       "4       answer among powerful world leader today trump...  positive\n",
       "8       upcoming election india saga going important p...  positive\n",
       "...                                                   ...       ...\n",
       "187169  helsinki thomson financial - shares cargotec f...  negative\n",
       "187170  london marketwatch -- share prices ended lower...  negative\n",
       "187172  operating profit fell eur 35.4 mn eur 68.8 mn ...  negative\n",
       "187173  net sales paper segment decreased eur 221.6 mn...  negative\n",
       "187174  sales finland decreased 10.5 % january , sales...  negative\n",
       "\n",
       "[125185 rows x 2 columns]"
      ]
     },
     "execution_count": 65,
     "metadata": {},
     "output_type": "execute_result"
    }
   ],
   "source": [
    "die=pd.read_pickle(\"aym.pkl\")\n",
    "die"
   ]
  },
  {
   "cell_type": "code",
   "execution_count": 76,
   "metadata": {},
   "outputs": [
    {
     "data": {
      "text/html": [
       "<div>\n",
       "<style scoped>\n",
       "    .dataframe tbody tr th:only-of-type {\n",
       "        vertical-align: middle;\n",
       "    }\n",
       "\n",
       "    .dataframe tbody tr th {\n",
       "        vertical-align: top;\n",
       "    }\n",
       "\n",
       "    .dataframe thead th {\n",
       "        text-align: right;\n",
       "    }\n",
       "</style>\n",
       "<table border=\"1\" class=\"dataframe\">\n",
       "  <thead>\n",
       "    <tr style=\"text-align: right;\">\n",
       "      <th></th>\n",
       "      <th>clean_text</th>\n",
       "      <th>category</th>\n",
       "    </tr>\n",
       "  </thead>\n",
       "  <tbody>\n",
       "    <tr>\n",
       "      <th>0</th>\n",
       "      <td>when modi promised “minimum government maximum...</td>\n",
       "      <td>negative</td>\n",
       "    </tr>\n",
       "    <tr>\n",
       "      <th>2</th>\n",
       "      <td>what did just say vote for modi  welcome bjp t...</td>\n",
       "      <td>positive</td>\n",
       "    </tr>\n",
       "    <tr>\n",
       "      <th>3</th>\n",
       "      <td>asking his supporters prefix chowkidar their n...</td>\n",
       "      <td>positive</td>\n",
       "    </tr>\n",
       "    <tr>\n",
       "      <th>4</th>\n",
       "      <td>answer who among these the most powerful world...</td>\n",
       "      <td>positive</td>\n",
       "    </tr>\n",
       "    <tr>\n",
       "      <th>8</th>\n",
       "      <td>with upcoming election india saga going import...</td>\n",
       "      <td>positive</td>\n",
       "    </tr>\n",
       "    <tr>\n",
       "      <th>...</th>\n",
       "      <td>...</td>\n",
       "      <td>...</td>\n",
       "    </tr>\n",
       "    <tr>\n",
       "      <th>187169</th>\n",
       "      <td>HELSINKI Thomson Financial - Shares in Cargote...</td>\n",
       "      <td>negative</td>\n",
       "    </tr>\n",
       "    <tr>\n",
       "      <th>187170</th>\n",
       "      <td>LONDON MarketWatch -- Share prices ended lower...</td>\n",
       "      <td>negative</td>\n",
       "    </tr>\n",
       "    <tr>\n",
       "      <th>187172</th>\n",
       "      <td>Operating profit fell to EUR 35.4 mn from EUR ...</td>\n",
       "      <td>negative</td>\n",
       "    </tr>\n",
       "    <tr>\n",
       "      <th>187173</th>\n",
       "      <td>Net sales of the Paper segment decreased to EU...</td>\n",
       "      <td>negative</td>\n",
       "    </tr>\n",
       "    <tr>\n",
       "      <th>187174</th>\n",
       "      <td>Sales in Finland decreased by 10.5 % in Januar...</td>\n",
       "      <td>negative</td>\n",
       "    </tr>\n",
       "  </tbody>\n",
       "</table>\n",
       "<p>125185 rows × 2 columns</p>\n",
       "</div>"
      ],
      "text/plain": [
       "                                               clean_text  category\n",
       "0       when modi promised “minimum government maximum...  negative\n",
       "2       what did just say vote for modi  welcome bjp t...  positive\n",
       "3       asking his supporters prefix chowkidar their n...  positive\n",
       "4       answer who among these the most powerful world...  positive\n",
       "8       with upcoming election india saga going import...  positive\n",
       "...                                                   ...       ...\n",
       "187169  HELSINKI Thomson Financial - Shares in Cargote...  negative\n",
       "187170  LONDON MarketWatch -- Share prices ended lower...  negative\n",
       "187172  Operating profit fell to EUR 35.4 mn from EUR ...  negative\n",
       "187173  Net sales of the Paper segment decreased to EU...  negative\n",
       "187174  Sales in Finland decreased by 10.5 % in Januar...  negative\n",
       "\n",
       "[125185 rows x 2 columns]"
      ]
     },
     "execution_count": 76,
     "metadata": {},
     "output_type": "execute_result"
    }
   ],
   "source": [
    "dice=die\n",
    "dice=dice.drop(dice[dice.category ==\"neutral\"].index)\n",
    "dice"
   ]
  },
  {
   "cell_type": "code",
   "execution_count": 127,
   "metadata": {},
   "outputs": [
    {
     "data": {
      "text/html": [
       "<div>\n",
       "<style scoped>\n",
       "    .dataframe tbody tr th:only-of-type {\n",
       "        vertical-align: middle;\n",
       "    }\n",
       "\n",
       "    .dataframe tbody tr th {\n",
       "        vertical-align: top;\n",
       "    }\n",
       "\n",
       "    .dataframe thead th {\n",
       "        text-align: right;\n",
       "    }\n",
       "</style>\n",
       "<table border=\"1\" class=\"dataframe\">\n",
       "  <thead>\n",
       "    <tr style=\"text-align: right;\">\n",
       "      <th></th>\n",
       "      <th>clean_text</th>\n",
       "    </tr>\n",
       "    <tr>\n",
       "      <th>category</th>\n",
       "      <th></th>\n",
       "    </tr>\n",
       "  </thead>\n",
       "  <tbody>\n",
       "    <tr>\n",
       "      <th>negative</th>\n",
       "      <td>48213</td>\n",
       "    </tr>\n",
       "    <tr>\n",
       "      <th>positive</th>\n",
       "      <td>76768</td>\n",
       "    </tr>\n",
       "  </tbody>\n",
       "</table>\n",
       "</div>"
      ],
      "text/plain": [
       "          clean_text\n",
       "category            \n",
       "negative       48213\n",
       "positive       76768"
      ]
     },
     "execution_count": 127,
     "metadata": {},
     "output_type": "execute_result"
    }
   ],
   "source": [
    "dice.groupby('category').nunique()"
   ]
  },
  {
   "cell_type": "code",
   "execution_count": 77,
   "metadata": {},
   "outputs": [
    {
     "data": {
      "text/html": [
       "<div>\n",
       "<style scoped>\n",
       "    .dataframe tbody tr th:only-of-type {\n",
       "        vertical-align: middle;\n",
       "    }\n",
       "\n",
       "    .dataframe tbody tr th {\n",
       "        vertical-align: top;\n",
       "    }\n",
       "\n",
       "    .dataframe thead th {\n",
       "        text-align: right;\n",
       "    }\n",
       "</style>\n",
       "<table border=\"1\" class=\"dataframe\">\n",
       "  <thead>\n",
       "    <tr style=\"text-align: right;\">\n",
       "      <th></th>\n",
       "      <th>clean_text</th>\n",
       "      <th>category</th>\n",
       "    </tr>\n",
       "  </thead>\n",
       "  <tbody>\n",
       "    <tr>\n",
       "      <th>0</th>\n",
       "      <td>when modi promised “minimum government maximum...</td>\n",
       "      <td>negative</td>\n",
       "    </tr>\n",
       "    <tr>\n",
       "      <th>1</th>\n",
       "      <td>talk all the nonsense and continue all the dra...</td>\n",
       "      <td>neutral</td>\n",
       "    </tr>\n",
       "    <tr>\n",
       "      <th>2</th>\n",
       "      <td>what did just say vote for modi  welcome bjp t...</td>\n",
       "      <td>positive</td>\n",
       "    </tr>\n",
       "    <tr>\n",
       "      <th>3</th>\n",
       "      <td>asking his supporters prefix chowkidar their n...</td>\n",
       "      <td>positive</td>\n",
       "    </tr>\n",
       "    <tr>\n",
       "      <th>4</th>\n",
       "      <td>answer who among these the most powerful world...</td>\n",
       "      <td>positive</td>\n",
       "    </tr>\n",
       "    <tr>\n",
       "      <th>...</th>\n",
       "      <td>...</td>\n",
       "      <td>...</td>\n",
       "    </tr>\n",
       "    <tr>\n",
       "      <th>187170</th>\n",
       "      <td>LONDON MarketWatch -- Share prices ended lower...</td>\n",
       "      <td>negative</td>\n",
       "    </tr>\n",
       "    <tr>\n",
       "      <th>187171</th>\n",
       "      <td>Rinkuskiai 's beer sales fell by 6.5 per cent ...</td>\n",
       "      <td>neutral</td>\n",
       "    </tr>\n",
       "    <tr>\n",
       "      <th>187172</th>\n",
       "      <td>Operating profit fell to EUR 35.4 mn from EUR ...</td>\n",
       "      <td>negative</td>\n",
       "    </tr>\n",
       "    <tr>\n",
       "      <th>187173</th>\n",
       "      <td>Net sales of the Paper segment decreased to EU...</td>\n",
       "      <td>negative</td>\n",
       "    </tr>\n",
       "    <tr>\n",
       "      <th>187174</th>\n",
       "      <td>Sales in Finland decreased by 10.5 % in Januar...</td>\n",
       "      <td>negative</td>\n",
       "    </tr>\n",
       "  </tbody>\n",
       "</table>\n",
       "<p>187175 rows × 2 columns</p>\n",
       "</div>"
      ],
      "text/plain": [
       "                                               clean_text  category\n",
       "0       when modi promised “minimum government maximum...  negative\n",
       "1       talk all the nonsense and continue all the dra...   neutral\n",
       "2       what did just say vote for modi  welcome bjp t...  positive\n",
       "3       asking his supporters prefix chowkidar their n...  positive\n",
       "4       answer who among these the most powerful world...  positive\n",
       "...                                                   ...       ...\n",
       "187170  LONDON MarketWatch -- Share prices ended lower...  negative\n",
       "187171  Rinkuskiai 's beer sales fell by 6.5 per cent ...   neutral\n",
       "187172  Operating profit fell to EUR 35.4 mn from EUR ...  negative\n",
       "187173  Net sales of the Paper segment decreased to EU...  negative\n",
       "187174  Sales in Finland decreased by 10.5 % in Januar...  negative\n",
       "\n",
       "[187175 rows x 2 columns]"
      ]
     },
     "execution_count": 77,
     "metadata": {},
     "output_type": "execute_result"
    }
   ],
   "source": [
    "die"
   ]
  },
  {
   "cell_type": "code",
   "execution_count": 96,
   "metadata": {},
   "outputs": [],
   "source": [
    "# # saving\n",
    "# with open('tokenizer.pickle', 'wb') as handle:\n",
    "#     pickle.dump(tokenizer, handle, protocol=pickle.HIGHEST_PROTOCOL)\n",
    "\n",
    "# loading\n",
    "#with open('tokenizer.pickle', 'rb') as handle:\n",
    "#    tokenizer = pickle.load(handle)\n",
    "max_words=5000\n",
    "def get_sequences2(texts):\n",
    "    sequences = tokenizer.texts_to_sequences(texts)\n",
    "    print(\"Vocab length:\", len(tokenizer.word_index) + 1)\n",
    "    \n",
    "    max_seq_length = np.max(list(map(lambda x: len(x), sequences)))\n",
    "    print(\"Maximum sequence length:\", 63) # max_seq_length\n",
    "    \n",
    "    sequences = pad_sequences(sequences, maxlen=63, padding='post')\n",
    "    \n",
    "    return sequences\n",
    "#sequences = get_sequences2(die['clean_text'])"
   ]
  },
  {
   "cell_type": "code",
   "execution_count": 98,
   "metadata": {},
   "outputs": [],
   "source": [
    "def get_sequences(texts):\n",
    "    tokenizer = Tokenizer(num_words=max_words, lower=True, split=' ')\n",
    "    tokenizer.fit_on_texts(texts)\n",
    "    \n",
    "    sequences = tokenizer.texts_to_sequences(texts)\n",
    "    print(\"Vocab length:\", len(tokenizer.word_index) + 1)\n",
    "    \n",
    "    max_seq_length = np.max(list(map(lambda x: len(x), sequences)))\n",
    "    print(\"Maximum sequence length:\", max_seq_length) #63\n",
    "    \n",
    "    sequences = pad_sequences(sequences, maxlen=max_seq_length, padding='post')\n",
    "    \n",
    "    return sequences,tokenizer"
   ]
  },
  {
   "cell_type": "code",
   "execution_count": 99,
   "metadata": {},
   "outputs": [
    {
     "name": "stdout",
     "output_type": "stream",
     "text": [
      "Vocab length: 130170\n",
      "Maximum sequence length: 63\n",
      "After Tokenization & Padding \n",
      " [  12 2601 4517    2  361  385   34    1   24  191  229  181  852 1577\n",
      " 2099    4    2 3256  313  119    0    0    0    0    0    0    0    0\n",
      "    0    0    0    0    0    0    0    0    0    0    0    0    0    0\n",
      "    0    0    0    0    0    0    0    0    0    0    0    0    0    0\n",
      "    0    0    0    0    0    0    0]\n"
     ]
    }
   ],
   "source": [
    "sequences, tokenizer = get_sequences(die['clean_text'])\n",
    "print('After Tokenization & Padding \\n', sequences[21])"
   ]
  },
  {
   "cell_type": "code",
   "execution_count": 100,
   "metadata": {},
   "outputs": [
    {
     "name": "stdout",
     "output_type": "stream",
     "text": [
      "Vocab length: 104649\n",
      "Maximum sequence length: 63\n",
      "After Tokenization & Padding \n",
      " [   1   76  390  236 1574   17 2135   86  665  804  665  770  144 1739\n",
      "  500   28   20   76  537  173   10 1953  448 2747 4104  307 3926   76\n",
      "    6    1 1867    9  422    0    0    0    0    0    0    0    0    0\n",
      "    0    0    0    0    0    0    0    0    0    0    0    0    0    0\n",
      "    0    0    0    0    0    0    0]\n"
     ]
    }
   ],
   "source": [
    "sequences2, tokenizer2 = get_sequences(dice['clean_text'])\n",
    "print('After Tokenization & Padding \\n', sequences2[231])"
   ]
  },
  {
   "cell_type": "markdown",
   "metadata": {},
   "source": [
    "## Train test validation split <a class=\"anchor\" id=\"1.3\"></a>"
   ]
  },
  {
   "cell_type": "code",
   "execution_count": 101,
   "metadata": {},
   "outputs": [
    {
     "name": "stdout",
     "output_type": "stream",
     "text": [
      "Train+Val Set -> (131022, 63) (131022, 3)\n",
      "Test Set -> (56153, 63) (56153, 3)\n"
     ]
    }
   ],
   "source": [
    "y = pd.get_dummies(die['category'])\n",
    "X_train, X_test, y_train, y_test = train_test_split(sequences, y, test_size=0.3,stratify=y, random_state=1)\n",
    "#X_train, X_val, y_train, y_val = train_test_split(X_train, y_train, test_size=0.25, random_state=1)\n",
    "print('Train+Val Set ->', X_train.shape, y_train.shape)\n",
    "#print('Validation Set ->', X_val.shape, y_val.shape)\n",
    "print('Test Set ->', X_test.shape, y_test.shape)"
   ]
  },
  {
   "cell_type": "code",
   "execution_count": 102,
   "metadata": {
    "execution": {
     "iopub.execute_input": "2021-02-02T22:54:24.450651Z",
     "iopub.status.busy": "2021-02-02T22:54:24.449595Z",
     "iopub.status.idle": "2021-02-02T22:54:24.453160Z",
     "shell.execute_reply": "2021-02-02T22:54:24.453722Z"
    },
    "papermill": {
     "duration": 0.02747,
     "end_time": "2021-02-02T22:54:24.453942",
     "exception": false,
     "start_time": "2021-02-02T22:54:24.426472",
     "status": "completed"
    },
    "tags": []
   },
   "outputs": [
    {
     "data": {
      "text/plain": [
       "array([[ 259,    5, 2181, ...,    0,    0,    0],\n",
       "       [   6,  516,   15, ...,    0,    0,    0],\n",
       "       [   3,  182,   55, ...,    0,    0,    0],\n",
       "       ...,\n",
       "       [  30,   50,   13, ...,    0,    0,    0],\n",
       "       [  33,    1,   73, ...,    0,    0,    0],\n",
       "       [  37,  637,   91, ...,    0,    0,    0]], dtype=int32)"
      ]
     },
     "execution_count": 102,
     "metadata": {},
     "output_type": "execute_result"
    }
   ],
   "source": [
    "X_train"
   ]
  },
  {
   "cell_type": "code",
   "execution_count": 103,
   "metadata": {
    "execution": {
     "iopub.execute_input": "2021-02-02T22:54:24.493232Z",
     "iopub.status.busy": "2021-02-02T22:54:24.492196Z",
     "iopub.status.idle": "2021-02-02T22:54:24.496782Z",
     "shell.execute_reply": "2021-02-02T22:54:24.496231Z"
    },
    "papermill": {
     "duration": 0.028018,
     "end_time": "2021-02-02T22:54:24.496960",
     "exception": false,
     "start_time": "2021-02-02T22:54:24.468942",
     "status": "completed"
    },
    "tags": []
   },
   "outputs": [
    {
     "data": {
      "text/html": [
       "<div>\n",
       "<style scoped>\n",
       "    .dataframe tbody tr th:only-of-type {\n",
       "        vertical-align: middle;\n",
       "    }\n",
       "\n",
       "    .dataframe tbody tr th {\n",
       "        vertical-align: top;\n",
       "    }\n",
       "\n",
       "    .dataframe thead th {\n",
       "        text-align: right;\n",
       "    }\n",
       "</style>\n",
       "<table border=\"1\" class=\"dataframe\">\n",
       "  <thead>\n",
       "    <tr style=\"text-align: right;\">\n",
       "      <th></th>\n",
       "      <th>negative</th>\n",
       "      <th>neutral</th>\n",
       "      <th>positive</th>\n",
       "    </tr>\n",
       "  </thead>\n",
       "  <tbody>\n",
       "    <tr>\n",
       "      <th>161586</th>\n",
       "      <td>0</td>\n",
       "      <td>1</td>\n",
       "      <td>0</td>\n",
       "    </tr>\n",
       "    <tr>\n",
       "      <th>99687</th>\n",
       "      <td>0</td>\n",
       "      <td>0</td>\n",
       "      <td>1</td>\n",
       "    </tr>\n",
       "    <tr>\n",
       "      <th>74421</th>\n",
       "      <td>1</td>\n",
       "      <td>0</td>\n",
       "      <td>0</td>\n",
       "    </tr>\n",
       "    <tr>\n",
       "      <th>5305</th>\n",
       "      <td>0</td>\n",
       "      <td>0</td>\n",
       "      <td>1</td>\n",
       "    </tr>\n",
       "    <tr>\n",
       "      <th>27749</th>\n",
       "      <td>1</td>\n",
       "      <td>0</td>\n",
       "      <td>0</td>\n",
       "    </tr>\n",
       "    <tr>\n",
       "      <th>...</th>\n",
       "      <td>...</td>\n",
       "      <td>...</td>\n",
       "      <td>...</td>\n",
       "    </tr>\n",
       "    <tr>\n",
       "      <th>4724</th>\n",
       "      <td>0</td>\n",
       "      <td>0</td>\n",
       "      <td>1</td>\n",
       "    </tr>\n",
       "    <tr>\n",
       "      <th>184057</th>\n",
       "      <td>0</td>\n",
       "      <td>0</td>\n",
       "      <td>1</td>\n",
       "    </tr>\n",
       "    <tr>\n",
       "      <th>2668</th>\n",
       "      <td>0</td>\n",
       "      <td>0</td>\n",
       "      <td>1</td>\n",
       "    </tr>\n",
       "    <tr>\n",
       "      <th>113306</th>\n",
       "      <td>0</td>\n",
       "      <td>1</td>\n",
       "      <td>0</td>\n",
       "    </tr>\n",
       "    <tr>\n",
       "      <th>6872</th>\n",
       "      <td>0</td>\n",
       "      <td>1</td>\n",
       "      <td>0</td>\n",
       "    </tr>\n",
       "  </tbody>\n",
       "</table>\n",
       "<p>131022 rows × 3 columns</p>\n",
       "</div>"
      ],
      "text/plain": [
       "        negative  neutral  positive\n",
       "161586         0        1         0\n",
       "99687          0        0         1\n",
       "74421          1        0         0\n",
       "5305           0        0         1\n",
       "27749          1        0         0\n",
       "...          ...      ...       ...\n",
       "4724           0        0         1\n",
       "184057         0        0         1\n",
       "2668           0        0         1\n",
       "113306         0        1         0\n",
       "6872           0        1         0\n",
       "\n",
       "[131022 rows x 3 columns]"
      ]
     },
     "execution_count": 103,
     "metadata": {},
     "output_type": "execute_result"
    }
   ],
   "source": [
    "y_train"
   ]
  },
  {
   "cell_type": "code",
   "execution_count": 115,
   "metadata": {},
   "outputs": [
    {
     "data": {
      "text/html": [
       "<div>\n",
       "<style scoped>\n",
       "    .dataframe tbody tr th:only-of-type {\n",
       "        vertical-align: middle;\n",
       "    }\n",
       "\n",
       "    .dataframe tbody tr th {\n",
       "        vertical-align: top;\n",
       "    }\n",
       "\n",
       "    .dataframe thead th {\n",
       "        text-align: right;\n",
       "    }\n",
       "</style>\n",
       "<table border=\"1\" class=\"dataframe\">\n",
       "  <thead>\n",
       "    <tr style=\"text-align: right;\">\n",
       "      <th></th>\n",
       "      <th>neutral</th>\n",
       "    </tr>\n",
       "  </thead>\n",
       "  <tbody>\n",
       "    <tr>\n",
       "      <th>161586</th>\n",
       "      <td>1</td>\n",
       "    </tr>\n",
       "    <tr>\n",
       "      <th>99687</th>\n",
       "      <td>0</td>\n",
       "    </tr>\n",
       "    <tr>\n",
       "      <th>74421</th>\n",
       "      <td>0</td>\n",
       "    </tr>\n",
       "    <tr>\n",
       "      <th>5305</th>\n",
       "      <td>0</td>\n",
       "    </tr>\n",
       "    <tr>\n",
       "      <th>27749</th>\n",
       "      <td>0</td>\n",
       "    </tr>\n",
       "    <tr>\n",
       "      <th>...</th>\n",
       "      <td>...</td>\n",
       "    </tr>\n",
       "    <tr>\n",
       "      <th>4724</th>\n",
       "      <td>0</td>\n",
       "    </tr>\n",
       "    <tr>\n",
       "      <th>184057</th>\n",
       "      <td>0</td>\n",
       "    </tr>\n",
       "    <tr>\n",
       "      <th>2668</th>\n",
       "      <td>0</td>\n",
       "    </tr>\n",
       "    <tr>\n",
       "      <th>113306</th>\n",
       "      <td>1</td>\n",
       "    </tr>\n",
       "    <tr>\n",
       "      <th>6872</th>\n",
       "      <td>1</td>\n",
       "    </tr>\n",
       "  </tbody>\n",
       "</table>\n",
       "<p>131022 rows × 1 columns</p>\n",
       "</div>"
      ],
      "text/plain": [
       "        neutral\n",
       "161586        1\n",
       "99687         0\n",
       "74421         0\n",
       "5305          0\n",
       "27749         0\n",
       "...         ...\n",
       "4724          0\n",
       "184057        0\n",
       "2668          0\n",
       "113306        1\n",
       "6872          1\n",
       "\n",
       "[131022 rows x 1 columns]"
      ]
     },
     "execution_count": 115,
     "metadata": {},
     "output_type": "execute_result"
    }
   ],
   "source": [
    "y_train1=y_train.drop(['negative', 'positive'], axis=1)\n",
    "y_test1=y_test.drop(['negative', 'positive'], axis=1)\n",
    "\n",
    "# y_train1.drop(['neutral', 'positive'], axis=1)\n",
    "y_train1"
   ]
  },
  {
   "cell_type": "code",
   "execution_count": 116,
   "metadata": {},
   "outputs": [
    {
     "name": "stdout",
     "output_type": "stream",
     "text": [
      "Train+Val Set -> (87629, 63) (87629, 2)\n",
      "Test Set -> (37556, 63) (37556, 2)\n"
     ]
    }
   ],
   "source": [
    "y2 = pd.get_dummies(dice['category'])\n",
    "X_train2, X_test2, y_train2, y_test2 = train_test_split(sequences2, y2, test_size=0.3,stratify=y2, random_state=1)\n",
    "#X_train, X_val, y_train, y_val = train_test_split(X_train, y_train, test_size=0.25, random_state=1)\n",
    "print('Train+Val Set ->', X_train2.shape, y_train2.shape)\n",
    "#print('Validation Set ->', X_val2.shape, y_val2.shape)\n",
    "print('Test Set ->', X_test2.shape, y_test2.shape)"
   ]
  },
  {
   "cell_type": "code",
   "execution_count": 117,
   "metadata": {},
   "outputs": [
    {
     "data": {
      "text/html": [
       "<div>\n",
       "<style scoped>\n",
       "    .dataframe tbody tr th:only-of-type {\n",
       "        vertical-align: middle;\n",
       "    }\n",
       "\n",
       "    .dataframe tbody tr th {\n",
       "        vertical-align: top;\n",
       "    }\n",
       "\n",
       "    .dataframe thead th {\n",
       "        text-align: right;\n",
       "    }\n",
       "</style>\n",
       "<table border=\"1\" class=\"dataframe\">\n",
       "  <thead>\n",
       "    <tr style=\"text-align: right;\">\n",
       "      <th></th>\n",
       "      <th>negative</th>\n",
       "      <th>positive</th>\n",
       "    </tr>\n",
       "  </thead>\n",
       "  <tbody>\n",
       "    <tr>\n",
       "      <th>6460</th>\n",
       "      <td>1</td>\n",
       "      <td>0</td>\n",
       "    </tr>\n",
       "    <tr>\n",
       "      <th>27545</th>\n",
       "      <td>0</td>\n",
       "      <td>1</td>\n",
       "    </tr>\n",
       "    <tr>\n",
       "      <th>92345</th>\n",
       "      <td>0</td>\n",
       "      <td>1</td>\n",
       "    </tr>\n",
       "    <tr>\n",
       "      <th>152759</th>\n",
       "      <td>0</td>\n",
       "      <td>1</td>\n",
       "    </tr>\n",
       "    <tr>\n",
       "      <th>133063</th>\n",
       "      <td>0</td>\n",
       "      <td>1</td>\n",
       "    </tr>\n",
       "    <tr>\n",
       "      <th>...</th>\n",
       "      <td>...</td>\n",
       "      <td>...</td>\n",
       "    </tr>\n",
       "    <tr>\n",
       "      <th>9558</th>\n",
       "      <td>0</td>\n",
       "      <td>1</td>\n",
       "    </tr>\n",
       "    <tr>\n",
       "      <th>165805</th>\n",
       "      <td>1</td>\n",
       "      <td>0</td>\n",
       "    </tr>\n",
       "    <tr>\n",
       "      <th>92461</th>\n",
       "      <td>0</td>\n",
       "      <td>1</td>\n",
       "    </tr>\n",
       "    <tr>\n",
       "      <th>16847</th>\n",
       "      <td>1</td>\n",
       "      <td>0</td>\n",
       "    </tr>\n",
       "    <tr>\n",
       "      <th>98168</th>\n",
       "      <td>0</td>\n",
       "      <td>1</td>\n",
       "    </tr>\n",
       "  </tbody>\n",
       "</table>\n",
       "<p>87629 rows × 2 columns</p>\n",
       "</div>"
      ],
      "text/plain": [
       "        negative  positive\n",
       "6460           1         0\n",
       "27545          0         1\n",
       "92345          0         1\n",
       "152759         0         1\n",
       "133063         0         1\n",
       "...          ...       ...\n",
       "9558           0         1\n",
       "165805         1         0\n",
       "92461          0         1\n",
       "16847          1         0\n",
       "98168          0         1\n",
       "\n",
       "[87629 rows x 2 columns]"
      ]
     },
     "execution_count": 117,
     "metadata": {},
     "output_type": "execute_result"
    }
   ],
   "source": [
    "y_train2"
   ]
  },
  {
   "cell_type": "code",
   "execution_count": 128,
   "metadata": {},
   "outputs": [
    {
     "data": {
      "text/html": [
       "<div>\n",
       "<style scoped>\n",
       "    .dataframe tbody tr th:only-of-type {\n",
       "        vertical-align: middle;\n",
       "    }\n",
       "\n",
       "    .dataframe tbody tr th {\n",
       "        vertical-align: top;\n",
       "    }\n",
       "\n",
       "    .dataframe thead th {\n",
       "        text-align: right;\n",
       "    }\n",
       "</style>\n",
       "<table border=\"1\" class=\"dataframe\">\n",
       "  <thead>\n",
       "    <tr style=\"text-align: right;\">\n",
       "      <th></th>\n",
       "      <th>positive</th>\n",
       "    </tr>\n",
       "  </thead>\n",
       "  <tbody>\n",
       "    <tr>\n",
       "      <th>6460</th>\n",
       "      <td>0</td>\n",
       "    </tr>\n",
       "    <tr>\n",
       "      <th>27545</th>\n",
       "      <td>1</td>\n",
       "    </tr>\n",
       "    <tr>\n",
       "      <th>92345</th>\n",
       "      <td>1</td>\n",
       "    </tr>\n",
       "    <tr>\n",
       "      <th>152759</th>\n",
       "      <td>1</td>\n",
       "    </tr>\n",
       "    <tr>\n",
       "      <th>133063</th>\n",
       "      <td>1</td>\n",
       "    </tr>\n",
       "    <tr>\n",
       "      <th>...</th>\n",
       "      <td>...</td>\n",
       "    </tr>\n",
       "    <tr>\n",
       "      <th>9558</th>\n",
       "      <td>1</td>\n",
       "    </tr>\n",
       "    <tr>\n",
       "      <th>165805</th>\n",
       "      <td>0</td>\n",
       "    </tr>\n",
       "    <tr>\n",
       "      <th>92461</th>\n",
       "      <td>1</td>\n",
       "    </tr>\n",
       "    <tr>\n",
       "      <th>16847</th>\n",
       "      <td>0</td>\n",
       "    </tr>\n",
       "    <tr>\n",
       "      <th>98168</th>\n",
       "      <td>1</td>\n",
       "    </tr>\n",
       "  </tbody>\n",
       "</table>\n",
       "<p>87629 rows × 1 columns</p>\n",
       "</div>"
      ],
      "text/plain": [
       "        positive\n",
       "6460           0\n",
       "27545          1\n",
       "92345          1\n",
       "152759         1\n",
       "133063         1\n",
       "...          ...\n",
       "9558           1\n",
       "165805         0\n",
       "92461          1\n",
       "16847          0\n",
       "98168          1\n",
       "\n",
       "[87629 rows x 1 columns]"
      ]
     },
     "execution_count": 128,
     "metadata": {},
     "output_type": "execute_result"
    }
   ],
   "source": [
    "y_train3=y_train2.drop([ 'negative'], axis=1)\n",
    "y_test3=y_test2.drop([ 'negative'], axis=1)\n",
    "\n",
    "y_train3"
   ]
  },
  {
   "cell_type": "markdown",
   "metadata": {
    "papermill": {
     "duration": 0.015297,
     "end_time": "2021-02-02T22:54:24.528082",
     "exception": false,
     "start_time": "2021-02-02T22:54:24.512785",
     "status": "completed"
    },
    "tags": []
   },
   "source": [
    "# Model Training<a class=\"anchor\" id=\"two\"></a>\n",
    "[Contents Page](#m)"
   ]
  },
  {
   "cell_type": "code",
   "execution_count": 118,
   "metadata": {},
   "outputs": [],
   "source": [
    "def f1_score(precision, recall):\n",
    "    ''' Function to calculate f1 score '''\n",
    "    \n",
    "    f1_val = 2*(precision*recall)/(precision+recall+K.epsilon())\n",
    "    return f1_val"
   ]
  },
  {
   "cell_type": "markdown",
   "metadata": {},
   "source": [
    "## Hyperparameter tuning <a class=\"anchor\" id=\"2.1\"></a>"
   ]
  },
  {
   "cell_type": "code",
   "execution_count": 110,
   "metadata": {},
   "outputs": [
    {
     "name": "stdout",
     "output_type": "stream",
     "text": [
      "Trial 3 Complete [00h 02m 50s]\n",
      "val_loss: 0.57783043384552\n",
      "\n",
      "Best val_loss So Far: 0.5774580240249634\n",
      "Total elapsed time: 00h 09m 01s\n",
      "\n",
      "Search: Running Trial #4\n",
      "\n",
      "Value             |Best Value So Far |Hyperparameter\n",
      "52                |16                |emb\n",
      "0.00011712        |0.0011467         |learning\n",
      "0.9               |0.9               |mom\n",
      "96                |96                |filt\n",
      "64                |128               |neuron\n",
      "0.090569          |0.016858          |dp\n",
      "2                 |2                 |tuner/epochs\n",
      "0                 |0                 |tuner/initial_epoch\n",
      "2                 |2                 |tuner/bracket\n",
      "0                 |0                 |tuner/round\n",
      "\n"
     ]
    },
    {
     "name": "stderr",
     "output_type": "stream",
     "text": [
      "/home/D190003/CZ1016/base/lib/python3.8/site-packages/keras/optimizer_v2/gradient_descent.py:102: UserWarning: The `lr` argument is deprecated, use `learning_rate` instead.\n",
      "  super(SGD, self).__init__(name, **kwargs)\n"
     ]
    },
    {
     "name": "stdout",
     "output_type": "stream",
     "text": [
      "Epoch 1/2\n",
      "3685/3685 [==============================] - 55s 14ms/step - loss: 14.2856 - accuracy: 0.7398 - precision: 0.2583 - recall: 0.0054 - val_loss: 9.2133 - val_accuracy: 0.7357 - val_precision: 0.0000e+00 - val_recall: 0.0000e+00\n",
      "Epoch 2/2\n",
      "3433/3685 [==========================>...] - ETA: 3s - loss: 6.5151 - accuracy: 0.7422 - precision: 0.0000e+00 - recall: 0.0000e+00"
     ]
    },
    {
     "ename": "KeyboardInterrupt",
     "evalue": "",
     "output_type": "error",
     "traceback": [
      "\u001b[0;31m---------------------------------------------------------------------------\u001b[0m",
      "\u001b[0;31mKeyboardInterrupt\u001b[0m                         Traceback (most recent call last)",
      "\u001b[0;32m/var/tmp/pbs.55940.dsaihn01/ipykernel_2678385/3505435325.py\u001b[0m in \u001b[0;36m<module>\u001b[0;34m\u001b[0m\n\u001b[1;32m     28\u001b[0m \u001b[0mstop_early\u001b[0m\u001b[0;34m=\u001b[0m\u001b[0mtf\u001b[0m\u001b[0;34m.\u001b[0m\u001b[0mkeras\u001b[0m\u001b[0;34m.\u001b[0m\u001b[0mcallbacks\u001b[0m\u001b[0;34m.\u001b[0m\u001b[0mEarlyStopping\u001b[0m\u001b[0;34m(\u001b[0m\u001b[0mmonitor\u001b[0m\u001b[0;34m=\u001b[0m\u001b[0;34m'val_loss'\u001b[0m\u001b[0;34m,\u001b[0m\u001b[0mpatience\u001b[0m\u001b[0;34m=\u001b[0m\u001b[0;36m10\u001b[0m\u001b[0;34m)\u001b[0m\u001b[0;34m\u001b[0m\u001b[0;34m\u001b[0m\u001b[0m\n\u001b[1;32m     29\u001b[0m \u001b[0;34m\u001b[0m\u001b[0m\n\u001b[0;32m---> 30\u001b[0;31m \u001b[0mtuner\u001b[0m\u001b[0;34m.\u001b[0m\u001b[0msearch\u001b[0m\u001b[0;34m(\u001b[0m\u001b[0mX_train\u001b[0m\u001b[0;34m,\u001b[0m\u001b[0my_train1\u001b[0m\u001b[0;34m,\u001b[0m\u001b[0mepochs\u001b[0m\u001b[0;34m=\u001b[0m\u001b[0;36m100\u001b[0m\u001b[0;34m,\u001b[0m\u001b[0mvalidation_split\u001b[0m\u001b[0;34m=\u001b[0m\u001b[0;36m0.1\u001b[0m\u001b[0;34m,\u001b[0m\u001b[0mcallbacks\u001b[0m\u001b[0;34m=\u001b[0m\u001b[0;34m[\u001b[0m\u001b[0mstop_early\u001b[0m\u001b[0;34m]\u001b[0m\u001b[0;34m)\u001b[0m\u001b[0;34m\u001b[0m\u001b[0;34m\u001b[0m\u001b[0m\n\u001b[0m\u001b[1;32m     31\u001b[0m \u001b[0mbest_hps\u001b[0m\u001b[0;34m=\u001b[0m\u001b[0mtuner\u001b[0m\u001b[0;34m.\u001b[0m\u001b[0mget_best_hyperparameters\u001b[0m\u001b[0;34m(\u001b[0m\u001b[0mnum_trials\u001b[0m\u001b[0;34m=\u001b[0m\u001b[0;36m1\u001b[0m\u001b[0;34m)\u001b[0m\u001b[0;34m[\u001b[0m\u001b[0;36m0\u001b[0m\u001b[0;34m]\u001b[0m\u001b[0;34m\u001b[0m\u001b[0;34m\u001b[0m\u001b[0m\n\u001b[1;32m     32\u001b[0m \u001b[0mtuner\u001b[0m\u001b[0;34m.\u001b[0m\u001b[0msearch_space_summary\u001b[0m\u001b[0;34m(\u001b[0m\u001b[0;34m)\u001b[0m\u001b[0;34m\u001b[0m\u001b[0;34m\u001b[0m\u001b[0m\n",
      "\u001b[0;32m~/CZ1016/base/lib/python3.8/site-packages/keras_tuner/engine/base_tuner.py\u001b[0m in \u001b[0;36msearch\u001b[0;34m(self, *fit_args, **fit_kwargs)\u001b[0m\n\u001b[1;32m    177\u001b[0m \u001b[0;34m\u001b[0m\u001b[0m\n\u001b[1;32m    178\u001b[0m             \u001b[0mself\u001b[0m\u001b[0;34m.\u001b[0m\u001b[0mon_trial_begin\u001b[0m\u001b[0;34m(\u001b[0m\u001b[0mtrial\u001b[0m\u001b[0;34m)\u001b[0m\u001b[0;34m\u001b[0m\u001b[0;34m\u001b[0m\u001b[0m\n\u001b[0;32m--> 179\u001b[0;31m             \u001b[0mresults\u001b[0m \u001b[0;34m=\u001b[0m \u001b[0mself\u001b[0m\u001b[0;34m.\u001b[0m\u001b[0mrun_trial\u001b[0m\u001b[0;34m(\u001b[0m\u001b[0mtrial\u001b[0m\u001b[0;34m,\u001b[0m \u001b[0;34m*\u001b[0m\u001b[0mfit_args\u001b[0m\u001b[0;34m,\u001b[0m \u001b[0;34m**\u001b[0m\u001b[0mfit_kwargs\u001b[0m\u001b[0;34m)\u001b[0m\u001b[0;34m\u001b[0m\u001b[0;34m\u001b[0m\u001b[0m\n\u001b[0m\u001b[1;32m    180\u001b[0m             \u001b[0;31m# `results` is None indicates user updated oracle in `run_trial()`.\u001b[0m\u001b[0;34m\u001b[0m\u001b[0;34m\u001b[0m\u001b[0;34m\u001b[0m\u001b[0m\n\u001b[1;32m    181\u001b[0m             \u001b[0;32mif\u001b[0m \u001b[0mresults\u001b[0m \u001b[0;32mis\u001b[0m \u001b[0;32mNone\u001b[0m\u001b[0;34m:\u001b[0m\u001b[0;34m\u001b[0m\u001b[0;34m\u001b[0m\u001b[0m\n",
      "\u001b[0;32m~/CZ1016/base/lib/python3.8/site-packages/keras_tuner/tuners/hyperband.py\u001b[0m in \u001b[0;36mrun_trial\u001b[0;34m(self, trial, *fit_args, **fit_kwargs)\u001b[0m\n\u001b[1;32m    382\u001b[0m             \u001b[0mfit_kwargs\u001b[0m\u001b[0;34m[\u001b[0m\u001b[0;34m\"epochs\"\u001b[0m\u001b[0;34m]\u001b[0m \u001b[0;34m=\u001b[0m \u001b[0mhp\u001b[0m\u001b[0;34m.\u001b[0m\u001b[0mvalues\u001b[0m\u001b[0;34m[\u001b[0m\u001b[0;34m\"tuner/epochs\"\u001b[0m\u001b[0;34m]\u001b[0m\u001b[0;34m\u001b[0m\u001b[0;34m\u001b[0m\u001b[0m\n\u001b[1;32m    383\u001b[0m             \u001b[0mfit_kwargs\u001b[0m\u001b[0;34m[\u001b[0m\u001b[0;34m\"initial_epoch\"\u001b[0m\u001b[0;34m]\u001b[0m \u001b[0;34m=\u001b[0m \u001b[0mhp\u001b[0m\u001b[0;34m.\u001b[0m\u001b[0mvalues\u001b[0m\u001b[0;34m[\u001b[0m\u001b[0;34m\"tuner/initial_epoch\"\u001b[0m\u001b[0;34m]\u001b[0m\u001b[0;34m\u001b[0m\u001b[0;34m\u001b[0m\u001b[0m\n\u001b[0;32m--> 384\u001b[0;31m         \u001b[0;32mreturn\u001b[0m \u001b[0msuper\u001b[0m\u001b[0;34m(\u001b[0m\u001b[0mHyperband\u001b[0m\u001b[0;34m,\u001b[0m \u001b[0mself\u001b[0m\u001b[0;34m)\u001b[0m\u001b[0;34m.\u001b[0m\u001b[0mrun_trial\u001b[0m\u001b[0;34m(\u001b[0m\u001b[0mtrial\u001b[0m\u001b[0;34m,\u001b[0m \u001b[0;34m*\u001b[0m\u001b[0mfit_args\u001b[0m\u001b[0;34m,\u001b[0m \u001b[0;34m**\u001b[0m\u001b[0mfit_kwargs\u001b[0m\u001b[0;34m)\u001b[0m\u001b[0;34m\u001b[0m\u001b[0;34m\u001b[0m\u001b[0m\n\u001b[0m\u001b[1;32m    385\u001b[0m \u001b[0;34m\u001b[0m\u001b[0m\n\u001b[1;32m    386\u001b[0m     \u001b[0;32mdef\u001b[0m \u001b[0m_build_model\u001b[0m\u001b[0;34m(\u001b[0m\u001b[0mself\u001b[0m\u001b[0;34m,\u001b[0m \u001b[0mhp\u001b[0m\u001b[0;34m)\u001b[0m\u001b[0;34m:\u001b[0m\u001b[0;34m\u001b[0m\u001b[0;34m\u001b[0m\u001b[0m\n",
      "\u001b[0;32m~/CZ1016/base/lib/python3.8/site-packages/keras_tuner/engine/tuner.py\u001b[0m in \u001b[0;36mrun_trial\u001b[0;34m(self, trial, *args, **kwargs)\u001b[0m\n\u001b[1;32m    292\u001b[0m             \u001b[0mcallbacks\u001b[0m\u001b[0;34m.\u001b[0m\u001b[0mappend\u001b[0m\u001b[0;34m(\u001b[0m\u001b[0mmodel_checkpoint\u001b[0m\u001b[0;34m)\u001b[0m\u001b[0;34m\u001b[0m\u001b[0;34m\u001b[0m\u001b[0m\n\u001b[1;32m    293\u001b[0m             \u001b[0mcopied_kwargs\u001b[0m\u001b[0;34m[\u001b[0m\u001b[0;34m\"callbacks\"\u001b[0m\u001b[0;34m]\u001b[0m \u001b[0;34m=\u001b[0m \u001b[0mcallbacks\u001b[0m\u001b[0;34m\u001b[0m\u001b[0;34m\u001b[0m\u001b[0m\n\u001b[0;32m--> 294\u001b[0;31m             \u001b[0mobj_value\u001b[0m \u001b[0;34m=\u001b[0m \u001b[0mself\u001b[0m\u001b[0;34m.\u001b[0m\u001b[0m_build_and_fit_model\u001b[0m\u001b[0;34m(\u001b[0m\u001b[0mtrial\u001b[0m\u001b[0;34m,\u001b[0m \u001b[0;34m*\u001b[0m\u001b[0margs\u001b[0m\u001b[0;34m,\u001b[0m \u001b[0;34m**\u001b[0m\u001b[0mcopied_kwargs\u001b[0m\u001b[0;34m)\u001b[0m\u001b[0;34m\u001b[0m\u001b[0;34m\u001b[0m\u001b[0m\n\u001b[0m\u001b[1;32m    295\u001b[0m \u001b[0;34m\u001b[0m\u001b[0m\n\u001b[1;32m    296\u001b[0m             \u001b[0mhistories\u001b[0m\u001b[0;34m.\u001b[0m\u001b[0mappend\u001b[0m\u001b[0;34m(\u001b[0m\u001b[0mobj_value\u001b[0m\u001b[0;34m)\u001b[0m\u001b[0;34m\u001b[0m\u001b[0;34m\u001b[0m\u001b[0m\n",
      "\u001b[0;32m~/CZ1016/base/lib/python3.8/site-packages/keras_tuner/engine/tuner.py\u001b[0m in \u001b[0;36m_build_and_fit_model\u001b[0;34m(self, trial, *args, **kwargs)\u001b[0m\n\u001b[1;32m    220\u001b[0m         \u001b[0mhp\u001b[0m \u001b[0;34m=\u001b[0m \u001b[0mtrial\u001b[0m\u001b[0;34m.\u001b[0m\u001b[0mhyperparameters\u001b[0m\u001b[0;34m\u001b[0m\u001b[0;34m\u001b[0m\u001b[0m\n\u001b[1;32m    221\u001b[0m         \u001b[0mmodel\u001b[0m \u001b[0;34m=\u001b[0m \u001b[0mself\u001b[0m\u001b[0;34m.\u001b[0m\u001b[0m_try_build\u001b[0m\u001b[0;34m(\u001b[0m\u001b[0mhp\u001b[0m\u001b[0;34m)\u001b[0m\u001b[0;34m\u001b[0m\u001b[0;34m\u001b[0m\u001b[0m\n\u001b[0;32m--> 222\u001b[0;31m         \u001b[0mresults\u001b[0m \u001b[0;34m=\u001b[0m \u001b[0mself\u001b[0m\u001b[0;34m.\u001b[0m\u001b[0mhypermodel\u001b[0m\u001b[0;34m.\u001b[0m\u001b[0mfit\u001b[0m\u001b[0;34m(\u001b[0m\u001b[0mhp\u001b[0m\u001b[0;34m,\u001b[0m \u001b[0mmodel\u001b[0m\u001b[0;34m,\u001b[0m \u001b[0;34m*\u001b[0m\u001b[0margs\u001b[0m\u001b[0;34m,\u001b[0m \u001b[0;34m**\u001b[0m\u001b[0mkwargs\u001b[0m\u001b[0;34m)\u001b[0m\u001b[0;34m\u001b[0m\u001b[0;34m\u001b[0m\u001b[0m\n\u001b[0m\u001b[1;32m    223\u001b[0m         return tuner_utils.convert_to_metrics_dict(\n\u001b[1;32m    224\u001b[0m             \u001b[0mresults\u001b[0m\u001b[0;34m,\u001b[0m \u001b[0mself\u001b[0m\u001b[0;34m.\u001b[0m\u001b[0moracle\u001b[0m\u001b[0;34m.\u001b[0m\u001b[0mobjective\u001b[0m\u001b[0;34m,\u001b[0m \u001b[0;34m\"HyperModel.fit()\"\u001b[0m\u001b[0;34m\u001b[0m\u001b[0;34m\u001b[0m\u001b[0m\n",
      "\u001b[0;32m~/CZ1016/base/lib/python3.8/site-packages/keras_tuner/engine/hypermodel.py\u001b[0m in \u001b[0;36mfit\u001b[0;34m(self, hp, model, *args, **kwargs)\u001b[0m\n\u001b[1;32m    135\u001b[0m             \u001b[0mIf\u001b[0m \u001b[0;32mreturn\u001b[0m \u001b[0ma\u001b[0m \u001b[0mfloat\u001b[0m\u001b[0;34m,\u001b[0m \u001b[0mit\u001b[0m \u001b[0mshould\u001b[0m \u001b[0mbe\u001b[0m \u001b[0mthe\u001b[0m\u001b[0;31m \u001b[0m\u001b[0;31m`\u001b[0m\u001b[0mobjective\u001b[0m\u001b[0;31m`\u001b[0m \u001b[0mvalue\u001b[0m\u001b[0;34m.\u001b[0m\u001b[0;34m\u001b[0m\u001b[0;34m\u001b[0m\u001b[0m\n\u001b[1;32m    136\u001b[0m         \"\"\"\n\u001b[0;32m--> 137\u001b[0;31m         \u001b[0;32mreturn\u001b[0m \u001b[0mmodel\u001b[0m\u001b[0;34m.\u001b[0m\u001b[0mfit\u001b[0m\u001b[0;34m(\u001b[0m\u001b[0;34m*\u001b[0m\u001b[0margs\u001b[0m\u001b[0;34m,\u001b[0m \u001b[0;34m**\u001b[0m\u001b[0mkwargs\u001b[0m\u001b[0;34m)\u001b[0m\u001b[0;34m\u001b[0m\u001b[0;34m\u001b[0m\u001b[0m\n\u001b[0m\u001b[1;32m    138\u001b[0m \u001b[0;34m\u001b[0m\u001b[0m\n\u001b[1;32m    139\u001b[0m \u001b[0;34m\u001b[0m\u001b[0m\n",
      "\u001b[0;32m~/CZ1016/base/lib/python3.8/site-packages/keras/utils/traceback_utils.py\u001b[0m in \u001b[0;36merror_handler\u001b[0;34m(*args, **kwargs)\u001b[0m\n\u001b[1;32m     62\u001b[0m     \u001b[0mfiltered_tb\u001b[0m \u001b[0;34m=\u001b[0m \u001b[0;32mNone\u001b[0m\u001b[0;34m\u001b[0m\u001b[0;34m\u001b[0m\u001b[0m\n\u001b[1;32m     63\u001b[0m     \u001b[0;32mtry\u001b[0m\u001b[0;34m:\u001b[0m\u001b[0;34m\u001b[0m\u001b[0;34m\u001b[0m\u001b[0m\n\u001b[0;32m---> 64\u001b[0;31m       \u001b[0;32mreturn\u001b[0m \u001b[0mfn\u001b[0m\u001b[0;34m(\u001b[0m\u001b[0;34m*\u001b[0m\u001b[0margs\u001b[0m\u001b[0;34m,\u001b[0m \u001b[0;34m**\u001b[0m\u001b[0mkwargs\u001b[0m\u001b[0;34m)\u001b[0m\u001b[0;34m\u001b[0m\u001b[0;34m\u001b[0m\u001b[0m\n\u001b[0m\u001b[1;32m     65\u001b[0m     \u001b[0;32mexcept\u001b[0m \u001b[0mException\u001b[0m \u001b[0;32mas\u001b[0m \u001b[0me\u001b[0m\u001b[0;34m:\u001b[0m  \u001b[0;31m# pylint: disable=broad-except\u001b[0m\u001b[0;34m\u001b[0m\u001b[0;34m\u001b[0m\u001b[0m\n\u001b[1;32m     66\u001b[0m       \u001b[0mfiltered_tb\u001b[0m \u001b[0;34m=\u001b[0m \u001b[0m_process_traceback_frames\u001b[0m\u001b[0;34m(\u001b[0m\u001b[0me\u001b[0m\u001b[0;34m.\u001b[0m\u001b[0m__traceback__\u001b[0m\u001b[0;34m)\u001b[0m\u001b[0;34m\u001b[0m\u001b[0;34m\u001b[0m\u001b[0m\n",
      "\u001b[0;32m~/CZ1016/base/lib/python3.8/site-packages/keras/engine/training.py\u001b[0m in \u001b[0;36mfit\u001b[0;34m(self, x, y, batch_size, epochs, verbose, callbacks, validation_split, validation_data, shuffle, class_weight, sample_weight, initial_epoch, steps_per_epoch, validation_steps, validation_batch_size, validation_freq, max_queue_size, workers, use_multiprocessing)\u001b[0m\n\u001b[1;32m   1214\u001b[0m                 _r=1):\n\u001b[1;32m   1215\u001b[0m               \u001b[0mcallbacks\u001b[0m\u001b[0;34m.\u001b[0m\u001b[0mon_train_batch_begin\u001b[0m\u001b[0;34m(\u001b[0m\u001b[0mstep\u001b[0m\u001b[0;34m)\u001b[0m\u001b[0;34m\u001b[0m\u001b[0;34m\u001b[0m\u001b[0m\n\u001b[0;32m-> 1216\u001b[0;31m               \u001b[0mtmp_logs\u001b[0m \u001b[0;34m=\u001b[0m \u001b[0mself\u001b[0m\u001b[0;34m.\u001b[0m\u001b[0mtrain_function\u001b[0m\u001b[0;34m(\u001b[0m\u001b[0miterator\u001b[0m\u001b[0;34m)\u001b[0m\u001b[0;34m\u001b[0m\u001b[0;34m\u001b[0m\u001b[0m\n\u001b[0m\u001b[1;32m   1217\u001b[0m               \u001b[0;32mif\u001b[0m \u001b[0mdata_handler\u001b[0m\u001b[0;34m.\u001b[0m\u001b[0mshould_sync\u001b[0m\u001b[0;34m:\u001b[0m\u001b[0;34m\u001b[0m\u001b[0;34m\u001b[0m\u001b[0m\n\u001b[1;32m   1218\u001b[0m                 \u001b[0mcontext\u001b[0m\u001b[0;34m.\u001b[0m\u001b[0masync_wait\u001b[0m\u001b[0;34m(\u001b[0m\u001b[0;34m)\u001b[0m\u001b[0;34m\u001b[0m\u001b[0;34m\u001b[0m\u001b[0m\n",
      "\u001b[0;32m~/CZ1016/base/lib/python3.8/site-packages/tensorflow/python/util/traceback_utils.py\u001b[0m in \u001b[0;36merror_handler\u001b[0;34m(*args, **kwargs)\u001b[0m\n\u001b[1;32m    148\u001b[0m     \u001b[0mfiltered_tb\u001b[0m \u001b[0;34m=\u001b[0m \u001b[0;32mNone\u001b[0m\u001b[0;34m\u001b[0m\u001b[0;34m\u001b[0m\u001b[0m\n\u001b[1;32m    149\u001b[0m     \u001b[0;32mtry\u001b[0m\u001b[0;34m:\u001b[0m\u001b[0;34m\u001b[0m\u001b[0;34m\u001b[0m\u001b[0m\n\u001b[0;32m--> 150\u001b[0;31m       \u001b[0;32mreturn\u001b[0m \u001b[0mfn\u001b[0m\u001b[0;34m(\u001b[0m\u001b[0;34m*\u001b[0m\u001b[0margs\u001b[0m\u001b[0;34m,\u001b[0m \u001b[0;34m**\u001b[0m\u001b[0mkwargs\u001b[0m\u001b[0;34m)\u001b[0m\u001b[0;34m\u001b[0m\u001b[0;34m\u001b[0m\u001b[0m\n\u001b[0m\u001b[1;32m    151\u001b[0m     \u001b[0;32mexcept\u001b[0m \u001b[0mException\u001b[0m \u001b[0;32mas\u001b[0m \u001b[0me\u001b[0m\u001b[0;34m:\u001b[0m\u001b[0;34m\u001b[0m\u001b[0;34m\u001b[0m\u001b[0m\n\u001b[1;32m    152\u001b[0m       \u001b[0mfiltered_tb\u001b[0m \u001b[0;34m=\u001b[0m \u001b[0m_process_traceback_frames\u001b[0m\u001b[0;34m(\u001b[0m\u001b[0me\u001b[0m\u001b[0;34m.\u001b[0m\u001b[0m__traceback__\u001b[0m\u001b[0;34m)\u001b[0m\u001b[0;34m\u001b[0m\u001b[0;34m\u001b[0m\u001b[0m\n",
      "\u001b[0;32m~/CZ1016/base/lib/python3.8/site-packages/tensorflow/python/eager/def_function.py\u001b[0m in \u001b[0;36m__call__\u001b[0;34m(self, *args, **kwds)\u001b[0m\n\u001b[1;32m    908\u001b[0m \u001b[0;34m\u001b[0m\u001b[0m\n\u001b[1;32m    909\u001b[0m       \u001b[0;32mwith\u001b[0m \u001b[0mOptionalXlaContext\u001b[0m\u001b[0;34m(\u001b[0m\u001b[0mself\u001b[0m\u001b[0;34m.\u001b[0m\u001b[0m_jit_compile\u001b[0m\u001b[0;34m)\u001b[0m\u001b[0;34m:\u001b[0m\u001b[0;34m\u001b[0m\u001b[0;34m\u001b[0m\u001b[0m\n\u001b[0;32m--> 910\u001b[0;31m         \u001b[0mresult\u001b[0m \u001b[0;34m=\u001b[0m \u001b[0mself\u001b[0m\u001b[0;34m.\u001b[0m\u001b[0m_call\u001b[0m\u001b[0;34m(\u001b[0m\u001b[0;34m*\u001b[0m\u001b[0margs\u001b[0m\u001b[0;34m,\u001b[0m \u001b[0;34m**\u001b[0m\u001b[0mkwds\u001b[0m\u001b[0;34m)\u001b[0m\u001b[0;34m\u001b[0m\u001b[0;34m\u001b[0m\u001b[0m\n\u001b[0m\u001b[1;32m    911\u001b[0m \u001b[0;34m\u001b[0m\u001b[0m\n\u001b[1;32m    912\u001b[0m       \u001b[0mnew_tracing_count\u001b[0m \u001b[0;34m=\u001b[0m \u001b[0mself\u001b[0m\u001b[0;34m.\u001b[0m\u001b[0mexperimental_get_tracing_count\u001b[0m\u001b[0;34m(\u001b[0m\u001b[0;34m)\u001b[0m\u001b[0;34m\u001b[0m\u001b[0;34m\u001b[0m\u001b[0m\n",
      "\u001b[0;32m~/CZ1016/base/lib/python3.8/site-packages/tensorflow/python/eager/def_function.py\u001b[0m in \u001b[0;36m_call\u001b[0;34m(self, *args, **kwds)\u001b[0m\n\u001b[1;32m    940\u001b[0m       \u001b[0;31m# In this case we have created variables on the first call, so we run the\u001b[0m\u001b[0;34m\u001b[0m\u001b[0;34m\u001b[0m\u001b[0;34m\u001b[0m\u001b[0m\n\u001b[1;32m    941\u001b[0m       \u001b[0;31m# defunned version which is guaranteed to never create variables.\u001b[0m\u001b[0;34m\u001b[0m\u001b[0;34m\u001b[0m\u001b[0;34m\u001b[0m\u001b[0m\n\u001b[0;32m--> 942\u001b[0;31m       \u001b[0;32mreturn\u001b[0m \u001b[0mself\u001b[0m\u001b[0;34m.\u001b[0m\u001b[0m_stateless_fn\u001b[0m\u001b[0;34m(\u001b[0m\u001b[0;34m*\u001b[0m\u001b[0margs\u001b[0m\u001b[0;34m,\u001b[0m \u001b[0;34m**\u001b[0m\u001b[0mkwds\u001b[0m\u001b[0;34m)\u001b[0m  \u001b[0;31m# pylint: disable=not-callable\u001b[0m\u001b[0;34m\u001b[0m\u001b[0;34m\u001b[0m\u001b[0m\n\u001b[0m\u001b[1;32m    943\u001b[0m     \u001b[0;32melif\u001b[0m \u001b[0mself\u001b[0m\u001b[0;34m.\u001b[0m\u001b[0m_stateful_fn\u001b[0m \u001b[0;32mis\u001b[0m \u001b[0;32mnot\u001b[0m \u001b[0;32mNone\u001b[0m\u001b[0;34m:\u001b[0m\u001b[0;34m\u001b[0m\u001b[0;34m\u001b[0m\u001b[0m\n\u001b[1;32m    944\u001b[0m       \u001b[0;31m# Release the lock early so that multiple threads can perform the call\u001b[0m\u001b[0;34m\u001b[0m\u001b[0;34m\u001b[0m\u001b[0;34m\u001b[0m\u001b[0m\n",
      "\u001b[0;32m~/CZ1016/base/lib/python3.8/site-packages/tensorflow/python/eager/function.py\u001b[0m in \u001b[0;36m__call__\u001b[0;34m(self, *args, **kwargs)\u001b[0m\n\u001b[1;32m   3128\u001b[0m       (graph_function,\n\u001b[1;32m   3129\u001b[0m        filtered_flat_args) = self._maybe_define_function(args, kwargs)\n\u001b[0;32m-> 3130\u001b[0;31m     return graph_function._call_flat(\n\u001b[0m\u001b[1;32m   3131\u001b[0m         filtered_flat_args, captured_inputs=graph_function.captured_inputs)  # pylint: disable=protected-access\n\u001b[1;32m   3132\u001b[0m \u001b[0;34m\u001b[0m\u001b[0m\n",
      "\u001b[0;32m~/CZ1016/base/lib/python3.8/site-packages/tensorflow/python/eager/function.py\u001b[0m in \u001b[0;36m_call_flat\u001b[0;34m(self, args, captured_inputs, cancellation_manager)\u001b[0m\n\u001b[1;32m   1957\u001b[0m         and executing_eagerly):\n\u001b[1;32m   1958\u001b[0m       \u001b[0;31m# No tape is watching; skip to running the function.\u001b[0m\u001b[0;34m\u001b[0m\u001b[0;34m\u001b[0m\u001b[0;34m\u001b[0m\u001b[0m\n\u001b[0;32m-> 1959\u001b[0;31m       return self._build_call_outputs(self._inference_function.call(\n\u001b[0m\u001b[1;32m   1960\u001b[0m           ctx, args, cancellation_manager=cancellation_manager))\n\u001b[1;32m   1961\u001b[0m     forward_backward = self._select_forward_and_backward_functions(\n",
      "\u001b[0;32m~/CZ1016/base/lib/python3.8/site-packages/tensorflow/python/eager/function.py\u001b[0m in \u001b[0;36mcall\u001b[0;34m(self, ctx, args, cancellation_manager)\u001b[0m\n\u001b[1;32m    596\u001b[0m       \u001b[0;32mwith\u001b[0m \u001b[0m_InterpolateFunctionError\u001b[0m\u001b[0;34m(\u001b[0m\u001b[0mself\u001b[0m\u001b[0;34m)\u001b[0m\u001b[0;34m:\u001b[0m\u001b[0;34m\u001b[0m\u001b[0;34m\u001b[0m\u001b[0m\n\u001b[1;32m    597\u001b[0m         \u001b[0;32mif\u001b[0m \u001b[0mcancellation_manager\u001b[0m \u001b[0;32mis\u001b[0m \u001b[0;32mNone\u001b[0m\u001b[0;34m:\u001b[0m\u001b[0;34m\u001b[0m\u001b[0;34m\u001b[0m\u001b[0m\n\u001b[0;32m--> 598\u001b[0;31m           outputs = execute.execute(\n\u001b[0m\u001b[1;32m    599\u001b[0m               \u001b[0mstr\u001b[0m\u001b[0;34m(\u001b[0m\u001b[0mself\u001b[0m\u001b[0;34m.\u001b[0m\u001b[0msignature\u001b[0m\u001b[0;34m.\u001b[0m\u001b[0mname\u001b[0m\u001b[0;34m)\u001b[0m\u001b[0;34m,\u001b[0m\u001b[0;34m\u001b[0m\u001b[0;34m\u001b[0m\u001b[0m\n\u001b[1;32m    600\u001b[0m               \u001b[0mnum_outputs\u001b[0m\u001b[0;34m=\u001b[0m\u001b[0mself\u001b[0m\u001b[0;34m.\u001b[0m\u001b[0m_num_outputs\u001b[0m\u001b[0;34m,\u001b[0m\u001b[0;34m\u001b[0m\u001b[0;34m\u001b[0m\u001b[0m\n",
      "\u001b[0;32m~/CZ1016/base/lib/python3.8/site-packages/tensorflow/python/eager/execute.py\u001b[0m in \u001b[0;36mquick_execute\u001b[0;34m(op_name, num_outputs, inputs, attrs, ctx, name)\u001b[0m\n\u001b[1;32m     56\u001b[0m   \u001b[0;32mtry\u001b[0m\u001b[0;34m:\u001b[0m\u001b[0;34m\u001b[0m\u001b[0;34m\u001b[0m\u001b[0m\n\u001b[1;32m     57\u001b[0m     \u001b[0mctx\u001b[0m\u001b[0;34m.\u001b[0m\u001b[0mensure_initialized\u001b[0m\u001b[0;34m(\u001b[0m\u001b[0;34m)\u001b[0m\u001b[0;34m\u001b[0m\u001b[0;34m\u001b[0m\u001b[0m\n\u001b[0;32m---> 58\u001b[0;31m     tensors = pywrap_tfe.TFE_Py_Execute(ctx._handle, device_name, op_name,\n\u001b[0m\u001b[1;32m     59\u001b[0m                                         inputs, attrs, num_outputs)\n\u001b[1;32m     60\u001b[0m   \u001b[0;32mexcept\u001b[0m \u001b[0mcore\u001b[0m\u001b[0;34m.\u001b[0m\u001b[0m_NotOkStatusException\u001b[0m \u001b[0;32mas\u001b[0m \u001b[0me\u001b[0m\u001b[0;34m:\u001b[0m\u001b[0;34m\u001b[0m\u001b[0;34m\u001b[0m\u001b[0m\n",
      "\u001b[0;31mKeyboardInterrupt\u001b[0m: "
     ]
    }
   ],
   "source": [
    "def m0(hp):\n",
    "    \n",
    "    vocab_size = 5000\n",
    "    embedding_size = hp.Int('emb',min_value=4,max_value=64,step=4)\n",
    "    #epochs=hp.Int('epoch',min_value=32,max_value=256,step=32)\n",
    "    learning_rate = hp.Float('learning',min_value=1e-4, max_value=2e-1, sampling='log')\n",
    "    decay_rate = learning_rate / 100\n",
    "    momentum = hp.Choice('mom',values=[0.7,0.8,0.9,0.99])\n",
    "\n",
    "    sgd = SGD(lr=learning_rate, momentum=momentum, decay=decay_rate, nesterov=False)\n",
    "    # Build model\n",
    "    model= Sequential()\n",
    "    model.add(Embedding(vocab_size, embedding_size, input_length=63))\n",
    "    model.add(Conv1D(filters=hp.Int('filt',min_value=32,max_value=128,step=32), kernel_size=3, padding='same', activation='relu'))\n",
    "    model.add(MaxPooling1D(pool_size=2))\n",
    "    #change up \n",
    "    model.add(Bidirectional(LSTM(hp.Int('neuron',min_value=32,max_value=256,step=32),kernel_regularizer=l2(0.05),recurrent_regularizer=l2(0.05))))\n",
    "    model.add(Dropout(hp.Float('dp',min_value=2e-3, max_value=2e-1, sampling='log')))\n",
    "    model.add(Dense(1, activation='sigmoid'))#softmax test later\n",
    "    tf.keras.utils.plot_model(model, show_shapes=True)\n",
    "    \n",
    "    model.compile(loss='binary_crossentropy', optimizer=sgd, #categorical_crossentropy\n",
    "               metrics=['accuracy',Precision(), Recall()])\n",
    "\n",
    "    return model\n",
    "\n",
    "tuner= kt.Hyperband(m0,objective='val_loss',max_epochs=10,factor=3,overwrite=True)\n",
    "stop_early=tf.keras.callbacks.EarlyStopping(monitor='val_loss',patience=10)\n",
    "\n",
    "tuner.search(X_train,y_train1,epochs=100,validation_split=0.1,callbacks=[stop_early])\n",
    "best_hps=tuner.get_best_hyperparameters(num_trials=1)[0]\n",
    "tuner.search_space_summary()\n",
    "print(f\"\"\"Optimal result: filter={best_hps.get('filt')},dropout={best_hps.get('dp')},number of neurons={best_hps.get('neuron')},momentum={best_hps.get('mom')},embedding={best_hps.get('emb')},learning rate={best_hps.get('learning')}\"\"\")"
   ]
  },
  {
   "cell_type": "code",
   "execution_count": 199,
   "metadata": {
    "scrolled": true
   },
   "outputs": [
    {
     "name": "stderr",
     "output_type": "stream",
     "text": [
      "/home/D190003/CZ1016/base/lib/python3.8/site-packages/keras/optimizer_v2/gradient_descent.py:102: UserWarning: The `lr` argument is deprecated, use `learning_rate` instead.\n"
     ]
    },
    {
     "name": "stdout",
     "output_type": "stream",
     "text": [
      "Epoch 1/20\n",
      "50/50 [==============================] - 5s 49ms/step - loss: 3.0162 - accuracy: 0.9403 - precision_13: 0.9403 - recall_13: 0.9403 - val_loss: 0.2834 - val_accuracy: 0.9429 - val_precision_13: 0.9429 - val_recall_13: 0.9429\n",
      "Epoch 2/20\n",
      "50/50 [==============================] - 1s 25ms/step - loss: 0.1946 - accuracy: 0.9543 - precision_13: 0.9543 - recall_13: 0.9543 - val_loss: 0.2198 - val_accuracy: 0.9429 - val_precision_13: 0.9429 - val_recall_13: 0.9429\n",
      "Epoch 3/20\n",
      "50/50 [==============================] - 1s 25ms/step - loss: 0.1906 - accuracy: 0.9543 - precision_13: 0.9543 - recall_13: 0.9543 - val_loss: 0.2234 - val_accuracy: 0.9429 - val_precision_13: 0.9429 - val_recall_13: 0.9429\n",
      "Epoch 4/20\n",
      "50/50 [==============================] - 1s 25ms/step - loss: 0.1866 - accuracy: 0.9543 - precision_13: 0.9543 - recall_13: 0.9543 - val_loss: 0.2218 - val_accuracy: 0.9429 - val_precision_13: 0.9429 - val_recall_13: 0.9429\n",
      "Epoch 5/20\n",
      "50/50 [==============================] - 1s 25ms/step - loss: 0.1871 - accuracy: 0.9543 - precision_13: 0.9543 - recall_13: 0.9543 - val_loss: 0.2262 - val_accuracy: 0.9429 - val_precision_13: 0.9429 - val_recall_13: 0.9429\n"
     ]
    }
   ],
   "source": [
    "batch_size = 64\n",
    "model=m0()\n",
    "stop_early=tf.keras.callbacks.EarlyStopping(monitor='val_loss',patience=3)\n",
    "history = model.fit(X_train, y_train,\n",
    "                      batch_size=batch_size, epochs=20,validation_split=0.1, verbose=1,callbacks=[stop_early])"
   ]
  },
  {
   "cell_type": "code",
   "execution_count": 109,
   "metadata": {},
   "outputs": [
    {
     "name": "stdout",
     "output_type": "stream",
     "text": [
      "Trial 1 Complete [00h 01m 47s]\n",
      "val_loss: 1.9730411767959595\n",
      "\n",
      "Best val_loss So Far: 1.9730411767959595\n",
      "Total elapsed time: 00h 01m 47s\n",
      "\n",
      "Search: Running Trial #2\n",
      "\n",
      "Value             |Best Value So Far |Hyperparameter\n",
      "40                |16                |emb\n",
      "0.034501          |0.00045153        |learning\n",
      "0.8               |0.8               |mom\n",
      "96                |128               |filt\n",
      "128               |64                |neuron\n",
      "0.0098921         |0.020737          |dp\n",
      "2                 |2                 |tuner/epochs\n",
      "0                 |0                 |tuner/initial_epoch\n",
      "2                 |2                 |tuner/bracket\n",
      "0                 |0                 |tuner/round\n",
      "\n"
     ]
    },
    {
     "name": "stderr",
     "output_type": "stream",
     "text": [
      "/home/D190003/CZ1016/base/lib/python3.8/site-packages/keras/optimizer_v2/gradient_descent.py:102: UserWarning: The `lr` argument is deprecated, use `learning_rate` instead.\n",
      "  super(SGD, self).__init__(name, **kwargs)\n"
     ]
    },
    {
     "name": "stdout",
     "output_type": "stream",
     "text": [
      "Epoch 1/2\n",
      "3683/3685 [============================>.] - ETA: 0s - loss: 1.2772 - accuracy: 0.4762 - precision: 0.5725 - recall: 0.1539"
     ]
    },
    {
     "ename": "KeyboardInterrupt",
     "evalue": "",
     "output_type": "error",
     "traceback": [
      "\u001b[0;31m---------------------------------------------------------------------------\u001b[0m",
      "\u001b[0;31mKeyboardInterrupt\u001b[0m                         Traceback (most recent call last)",
      "\u001b[0;32m/var/tmp/pbs.55940.dsaihn01/ipykernel_2678385/544748216.py\u001b[0m in \u001b[0;36m<module>\u001b[0;34m\u001b[0m\n\u001b[1;32m     28\u001b[0m \u001b[0mstop_early\u001b[0m\u001b[0;34m=\u001b[0m\u001b[0mtf\u001b[0m\u001b[0;34m.\u001b[0m\u001b[0mkeras\u001b[0m\u001b[0;34m.\u001b[0m\u001b[0mcallbacks\u001b[0m\u001b[0;34m.\u001b[0m\u001b[0mEarlyStopping\u001b[0m\u001b[0;34m(\u001b[0m\u001b[0mmonitor\u001b[0m\u001b[0;34m=\u001b[0m\u001b[0;34m'val_loss'\u001b[0m\u001b[0;34m,\u001b[0m\u001b[0mpatience\u001b[0m\u001b[0;34m=\u001b[0m\u001b[0;36m10\u001b[0m\u001b[0;34m)\u001b[0m\u001b[0;34m\u001b[0m\u001b[0;34m\u001b[0m\u001b[0m\n\u001b[1;32m     29\u001b[0m \u001b[0;34m\u001b[0m\u001b[0m\n\u001b[0;32m---> 30\u001b[0;31m \u001b[0mtuner\u001b[0m\u001b[0;34m.\u001b[0m\u001b[0msearch\u001b[0m\u001b[0;34m(\u001b[0m\u001b[0mX_train\u001b[0m\u001b[0;34m,\u001b[0m\u001b[0my_train\u001b[0m\u001b[0;34m,\u001b[0m\u001b[0mepochs\u001b[0m\u001b[0;34m=\u001b[0m\u001b[0;36m100\u001b[0m\u001b[0;34m,\u001b[0m\u001b[0mvalidation_split\u001b[0m\u001b[0;34m=\u001b[0m\u001b[0;36m0.1\u001b[0m\u001b[0;34m,\u001b[0m\u001b[0mcallbacks\u001b[0m\u001b[0;34m=\u001b[0m\u001b[0;34m[\u001b[0m\u001b[0mstop_early\u001b[0m\u001b[0;34m]\u001b[0m\u001b[0;34m)\u001b[0m\u001b[0;34m\u001b[0m\u001b[0;34m\u001b[0m\u001b[0m\n\u001b[0m\u001b[1;32m     31\u001b[0m \u001b[0mbest_hps\u001b[0m\u001b[0;34m=\u001b[0m\u001b[0mtuner\u001b[0m\u001b[0;34m.\u001b[0m\u001b[0mget_best_hyperparameters\u001b[0m\u001b[0;34m(\u001b[0m\u001b[0mnum_trials\u001b[0m\u001b[0;34m=\u001b[0m\u001b[0;36m1\u001b[0m\u001b[0;34m)\u001b[0m\u001b[0;34m[\u001b[0m\u001b[0;36m0\u001b[0m\u001b[0;34m]\u001b[0m\u001b[0;34m\u001b[0m\u001b[0;34m\u001b[0m\u001b[0m\n\u001b[1;32m     32\u001b[0m \u001b[0mtuner\u001b[0m\u001b[0;34m.\u001b[0m\u001b[0msearch_space_summary\u001b[0m\u001b[0;34m(\u001b[0m\u001b[0;34m)\u001b[0m\u001b[0;34m\u001b[0m\u001b[0;34m\u001b[0m\u001b[0m\n",
      "\u001b[0;32m~/CZ1016/base/lib/python3.8/site-packages/keras_tuner/engine/base_tuner.py\u001b[0m in \u001b[0;36msearch\u001b[0;34m(self, *fit_args, **fit_kwargs)\u001b[0m\n\u001b[1;32m    177\u001b[0m \u001b[0;34m\u001b[0m\u001b[0m\n\u001b[1;32m    178\u001b[0m             \u001b[0mself\u001b[0m\u001b[0;34m.\u001b[0m\u001b[0mon_trial_begin\u001b[0m\u001b[0;34m(\u001b[0m\u001b[0mtrial\u001b[0m\u001b[0;34m)\u001b[0m\u001b[0;34m\u001b[0m\u001b[0;34m\u001b[0m\u001b[0m\n\u001b[0;32m--> 179\u001b[0;31m             \u001b[0mresults\u001b[0m \u001b[0;34m=\u001b[0m \u001b[0mself\u001b[0m\u001b[0;34m.\u001b[0m\u001b[0mrun_trial\u001b[0m\u001b[0;34m(\u001b[0m\u001b[0mtrial\u001b[0m\u001b[0;34m,\u001b[0m \u001b[0;34m*\u001b[0m\u001b[0mfit_args\u001b[0m\u001b[0;34m,\u001b[0m \u001b[0;34m**\u001b[0m\u001b[0mfit_kwargs\u001b[0m\u001b[0;34m)\u001b[0m\u001b[0;34m\u001b[0m\u001b[0;34m\u001b[0m\u001b[0m\n\u001b[0m\u001b[1;32m    180\u001b[0m             \u001b[0;31m# `results` is None indicates user updated oracle in `run_trial()`.\u001b[0m\u001b[0;34m\u001b[0m\u001b[0;34m\u001b[0m\u001b[0;34m\u001b[0m\u001b[0m\n\u001b[1;32m    181\u001b[0m             \u001b[0;32mif\u001b[0m \u001b[0mresults\u001b[0m \u001b[0;32mis\u001b[0m \u001b[0;32mNone\u001b[0m\u001b[0;34m:\u001b[0m\u001b[0;34m\u001b[0m\u001b[0;34m\u001b[0m\u001b[0m\n",
      "\u001b[0;32m~/CZ1016/base/lib/python3.8/site-packages/keras_tuner/tuners/hyperband.py\u001b[0m in \u001b[0;36mrun_trial\u001b[0;34m(self, trial, *fit_args, **fit_kwargs)\u001b[0m\n\u001b[1;32m    382\u001b[0m             \u001b[0mfit_kwargs\u001b[0m\u001b[0;34m[\u001b[0m\u001b[0;34m\"epochs\"\u001b[0m\u001b[0;34m]\u001b[0m \u001b[0;34m=\u001b[0m \u001b[0mhp\u001b[0m\u001b[0;34m.\u001b[0m\u001b[0mvalues\u001b[0m\u001b[0;34m[\u001b[0m\u001b[0;34m\"tuner/epochs\"\u001b[0m\u001b[0;34m]\u001b[0m\u001b[0;34m\u001b[0m\u001b[0;34m\u001b[0m\u001b[0m\n\u001b[1;32m    383\u001b[0m             \u001b[0mfit_kwargs\u001b[0m\u001b[0;34m[\u001b[0m\u001b[0;34m\"initial_epoch\"\u001b[0m\u001b[0;34m]\u001b[0m \u001b[0;34m=\u001b[0m \u001b[0mhp\u001b[0m\u001b[0;34m.\u001b[0m\u001b[0mvalues\u001b[0m\u001b[0;34m[\u001b[0m\u001b[0;34m\"tuner/initial_epoch\"\u001b[0m\u001b[0;34m]\u001b[0m\u001b[0;34m\u001b[0m\u001b[0;34m\u001b[0m\u001b[0m\n\u001b[0;32m--> 384\u001b[0;31m         \u001b[0;32mreturn\u001b[0m \u001b[0msuper\u001b[0m\u001b[0;34m(\u001b[0m\u001b[0mHyperband\u001b[0m\u001b[0;34m,\u001b[0m \u001b[0mself\u001b[0m\u001b[0;34m)\u001b[0m\u001b[0;34m.\u001b[0m\u001b[0mrun_trial\u001b[0m\u001b[0;34m(\u001b[0m\u001b[0mtrial\u001b[0m\u001b[0;34m,\u001b[0m \u001b[0;34m*\u001b[0m\u001b[0mfit_args\u001b[0m\u001b[0;34m,\u001b[0m \u001b[0;34m**\u001b[0m\u001b[0mfit_kwargs\u001b[0m\u001b[0;34m)\u001b[0m\u001b[0;34m\u001b[0m\u001b[0;34m\u001b[0m\u001b[0m\n\u001b[0m\u001b[1;32m    385\u001b[0m \u001b[0;34m\u001b[0m\u001b[0m\n\u001b[1;32m    386\u001b[0m     \u001b[0;32mdef\u001b[0m \u001b[0m_build_model\u001b[0m\u001b[0;34m(\u001b[0m\u001b[0mself\u001b[0m\u001b[0;34m,\u001b[0m \u001b[0mhp\u001b[0m\u001b[0;34m)\u001b[0m\u001b[0;34m:\u001b[0m\u001b[0;34m\u001b[0m\u001b[0;34m\u001b[0m\u001b[0m\n",
      "\u001b[0;32m~/CZ1016/base/lib/python3.8/site-packages/keras_tuner/engine/tuner.py\u001b[0m in \u001b[0;36mrun_trial\u001b[0;34m(self, trial, *args, **kwargs)\u001b[0m\n\u001b[1;32m    292\u001b[0m             \u001b[0mcallbacks\u001b[0m\u001b[0;34m.\u001b[0m\u001b[0mappend\u001b[0m\u001b[0;34m(\u001b[0m\u001b[0mmodel_checkpoint\u001b[0m\u001b[0;34m)\u001b[0m\u001b[0;34m\u001b[0m\u001b[0;34m\u001b[0m\u001b[0m\n\u001b[1;32m    293\u001b[0m             \u001b[0mcopied_kwargs\u001b[0m\u001b[0;34m[\u001b[0m\u001b[0;34m\"callbacks\"\u001b[0m\u001b[0;34m]\u001b[0m \u001b[0;34m=\u001b[0m \u001b[0mcallbacks\u001b[0m\u001b[0;34m\u001b[0m\u001b[0;34m\u001b[0m\u001b[0m\n\u001b[0;32m--> 294\u001b[0;31m             \u001b[0mobj_value\u001b[0m \u001b[0;34m=\u001b[0m \u001b[0mself\u001b[0m\u001b[0;34m.\u001b[0m\u001b[0m_build_and_fit_model\u001b[0m\u001b[0;34m(\u001b[0m\u001b[0mtrial\u001b[0m\u001b[0;34m,\u001b[0m \u001b[0;34m*\u001b[0m\u001b[0margs\u001b[0m\u001b[0;34m,\u001b[0m \u001b[0;34m**\u001b[0m\u001b[0mcopied_kwargs\u001b[0m\u001b[0;34m)\u001b[0m\u001b[0;34m\u001b[0m\u001b[0;34m\u001b[0m\u001b[0m\n\u001b[0m\u001b[1;32m    295\u001b[0m \u001b[0;34m\u001b[0m\u001b[0m\n\u001b[1;32m    296\u001b[0m             \u001b[0mhistories\u001b[0m\u001b[0;34m.\u001b[0m\u001b[0mappend\u001b[0m\u001b[0;34m(\u001b[0m\u001b[0mobj_value\u001b[0m\u001b[0;34m)\u001b[0m\u001b[0;34m\u001b[0m\u001b[0;34m\u001b[0m\u001b[0m\n",
      "\u001b[0;32m~/CZ1016/base/lib/python3.8/site-packages/keras_tuner/engine/tuner.py\u001b[0m in \u001b[0;36m_build_and_fit_model\u001b[0;34m(self, trial, *args, **kwargs)\u001b[0m\n\u001b[1;32m    220\u001b[0m         \u001b[0mhp\u001b[0m \u001b[0;34m=\u001b[0m \u001b[0mtrial\u001b[0m\u001b[0;34m.\u001b[0m\u001b[0mhyperparameters\u001b[0m\u001b[0;34m\u001b[0m\u001b[0;34m\u001b[0m\u001b[0m\n\u001b[1;32m    221\u001b[0m         \u001b[0mmodel\u001b[0m \u001b[0;34m=\u001b[0m \u001b[0mself\u001b[0m\u001b[0;34m.\u001b[0m\u001b[0m_try_build\u001b[0m\u001b[0;34m(\u001b[0m\u001b[0mhp\u001b[0m\u001b[0;34m)\u001b[0m\u001b[0;34m\u001b[0m\u001b[0;34m\u001b[0m\u001b[0m\n\u001b[0;32m--> 222\u001b[0;31m         \u001b[0mresults\u001b[0m \u001b[0;34m=\u001b[0m \u001b[0mself\u001b[0m\u001b[0;34m.\u001b[0m\u001b[0mhypermodel\u001b[0m\u001b[0;34m.\u001b[0m\u001b[0mfit\u001b[0m\u001b[0;34m(\u001b[0m\u001b[0mhp\u001b[0m\u001b[0;34m,\u001b[0m \u001b[0mmodel\u001b[0m\u001b[0;34m,\u001b[0m \u001b[0;34m*\u001b[0m\u001b[0margs\u001b[0m\u001b[0;34m,\u001b[0m \u001b[0;34m**\u001b[0m\u001b[0mkwargs\u001b[0m\u001b[0;34m)\u001b[0m\u001b[0;34m\u001b[0m\u001b[0;34m\u001b[0m\u001b[0m\n\u001b[0m\u001b[1;32m    223\u001b[0m         return tuner_utils.convert_to_metrics_dict(\n\u001b[1;32m    224\u001b[0m             \u001b[0mresults\u001b[0m\u001b[0;34m,\u001b[0m \u001b[0mself\u001b[0m\u001b[0;34m.\u001b[0m\u001b[0moracle\u001b[0m\u001b[0;34m.\u001b[0m\u001b[0mobjective\u001b[0m\u001b[0;34m,\u001b[0m \u001b[0;34m\"HyperModel.fit()\"\u001b[0m\u001b[0;34m\u001b[0m\u001b[0;34m\u001b[0m\u001b[0m\n",
      "\u001b[0;32m~/CZ1016/base/lib/python3.8/site-packages/keras_tuner/engine/hypermodel.py\u001b[0m in \u001b[0;36mfit\u001b[0;34m(self, hp, model, *args, **kwargs)\u001b[0m\n\u001b[1;32m    135\u001b[0m             \u001b[0mIf\u001b[0m \u001b[0;32mreturn\u001b[0m \u001b[0ma\u001b[0m \u001b[0mfloat\u001b[0m\u001b[0;34m,\u001b[0m \u001b[0mit\u001b[0m \u001b[0mshould\u001b[0m \u001b[0mbe\u001b[0m \u001b[0mthe\u001b[0m\u001b[0;31m \u001b[0m\u001b[0;31m`\u001b[0m\u001b[0mobjective\u001b[0m\u001b[0;31m`\u001b[0m \u001b[0mvalue\u001b[0m\u001b[0;34m.\u001b[0m\u001b[0;34m\u001b[0m\u001b[0;34m\u001b[0m\u001b[0m\n\u001b[1;32m    136\u001b[0m         \"\"\"\n\u001b[0;32m--> 137\u001b[0;31m         \u001b[0;32mreturn\u001b[0m \u001b[0mmodel\u001b[0m\u001b[0;34m.\u001b[0m\u001b[0mfit\u001b[0m\u001b[0;34m(\u001b[0m\u001b[0;34m*\u001b[0m\u001b[0margs\u001b[0m\u001b[0;34m,\u001b[0m \u001b[0;34m**\u001b[0m\u001b[0mkwargs\u001b[0m\u001b[0;34m)\u001b[0m\u001b[0;34m\u001b[0m\u001b[0;34m\u001b[0m\u001b[0m\n\u001b[0m\u001b[1;32m    138\u001b[0m \u001b[0;34m\u001b[0m\u001b[0m\n\u001b[1;32m    139\u001b[0m \u001b[0;34m\u001b[0m\u001b[0m\n",
      "\u001b[0;32m~/CZ1016/base/lib/python3.8/site-packages/keras/utils/traceback_utils.py\u001b[0m in \u001b[0;36merror_handler\u001b[0;34m(*args, **kwargs)\u001b[0m\n\u001b[1;32m     62\u001b[0m     \u001b[0mfiltered_tb\u001b[0m \u001b[0;34m=\u001b[0m \u001b[0;32mNone\u001b[0m\u001b[0;34m\u001b[0m\u001b[0;34m\u001b[0m\u001b[0m\n\u001b[1;32m     63\u001b[0m     \u001b[0;32mtry\u001b[0m\u001b[0;34m:\u001b[0m\u001b[0;34m\u001b[0m\u001b[0;34m\u001b[0m\u001b[0m\n\u001b[0;32m---> 64\u001b[0;31m       \u001b[0;32mreturn\u001b[0m \u001b[0mfn\u001b[0m\u001b[0;34m(\u001b[0m\u001b[0;34m*\u001b[0m\u001b[0margs\u001b[0m\u001b[0;34m,\u001b[0m \u001b[0;34m**\u001b[0m\u001b[0mkwargs\u001b[0m\u001b[0;34m)\u001b[0m\u001b[0;34m\u001b[0m\u001b[0;34m\u001b[0m\u001b[0m\n\u001b[0m\u001b[1;32m     65\u001b[0m     \u001b[0;32mexcept\u001b[0m \u001b[0mException\u001b[0m \u001b[0;32mas\u001b[0m \u001b[0me\u001b[0m\u001b[0;34m:\u001b[0m  \u001b[0;31m# pylint: disable=broad-except\u001b[0m\u001b[0;34m\u001b[0m\u001b[0;34m\u001b[0m\u001b[0m\n\u001b[1;32m     66\u001b[0m       \u001b[0mfiltered_tb\u001b[0m \u001b[0;34m=\u001b[0m \u001b[0m_process_traceback_frames\u001b[0m\u001b[0;34m(\u001b[0m\u001b[0me\u001b[0m\u001b[0;34m.\u001b[0m\u001b[0m__traceback__\u001b[0m\u001b[0;34m)\u001b[0m\u001b[0;34m\u001b[0m\u001b[0;34m\u001b[0m\u001b[0m\n",
      "\u001b[0;32m~/CZ1016/base/lib/python3.8/site-packages/keras/engine/training.py\u001b[0m in \u001b[0;36mfit\u001b[0;34m(self, x, y, batch_size, epochs, verbose, callbacks, validation_split, validation_data, shuffle, class_weight, sample_weight, initial_epoch, steps_per_epoch, validation_steps, validation_batch_size, validation_freq, max_queue_size, workers, use_multiprocessing)\u001b[0m\n\u001b[1;32m   1265\u001b[0m           \u001b[0mepoch_logs\u001b[0m\u001b[0;34m.\u001b[0m\u001b[0mupdate\u001b[0m\u001b[0;34m(\u001b[0m\u001b[0mval_logs\u001b[0m\u001b[0;34m)\u001b[0m\u001b[0;34m\u001b[0m\u001b[0;34m\u001b[0m\u001b[0m\n\u001b[1;32m   1266\u001b[0m \u001b[0;34m\u001b[0m\u001b[0m\n\u001b[0;32m-> 1267\u001b[0;31m         \u001b[0mcallbacks\u001b[0m\u001b[0;34m.\u001b[0m\u001b[0mon_epoch_end\u001b[0m\u001b[0;34m(\u001b[0m\u001b[0mepoch\u001b[0m\u001b[0;34m,\u001b[0m \u001b[0mepoch_logs\u001b[0m\u001b[0;34m)\u001b[0m\u001b[0;34m\u001b[0m\u001b[0;34m\u001b[0m\u001b[0m\n\u001b[0m\u001b[1;32m   1268\u001b[0m         \u001b[0mtraining_logs\u001b[0m \u001b[0;34m=\u001b[0m \u001b[0mepoch_logs\u001b[0m\u001b[0;34m\u001b[0m\u001b[0;34m\u001b[0m\u001b[0m\n\u001b[1;32m   1269\u001b[0m         \u001b[0;32mif\u001b[0m \u001b[0mself\u001b[0m\u001b[0;34m.\u001b[0m\u001b[0mstop_training\u001b[0m\u001b[0;34m:\u001b[0m\u001b[0;34m\u001b[0m\u001b[0;34m\u001b[0m\u001b[0m\n",
      "\u001b[0;32m~/CZ1016/base/lib/python3.8/site-packages/keras/callbacks.py\u001b[0m in \u001b[0;36mon_epoch_end\u001b[0;34m(self, epoch, logs)\u001b[0m\n\u001b[1;32m    412\u001b[0m     \u001b[0mlogs\u001b[0m \u001b[0;34m=\u001b[0m \u001b[0mself\u001b[0m\u001b[0;34m.\u001b[0m\u001b[0m_process_logs\u001b[0m\u001b[0;34m(\u001b[0m\u001b[0mlogs\u001b[0m\u001b[0;34m)\u001b[0m\u001b[0;34m\u001b[0m\u001b[0;34m\u001b[0m\u001b[0m\n\u001b[1;32m    413\u001b[0m     \u001b[0;32mfor\u001b[0m \u001b[0mcallback\u001b[0m \u001b[0;32min\u001b[0m \u001b[0mself\u001b[0m\u001b[0;34m.\u001b[0m\u001b[0mcallbacks\u001b[0m\u001b[0;34m:\u001b[0m\u001b[0;34m\u001b[0m\u001b[0;34m\u001b[0m\u001b[0m\n\u001b[0;32m--> 414\u001b[0;31m       \u001b[0mcallback\u001b[0m\u001b[0;34m.\u001b[0m\u001b[0mon_epoch_end\u001b[0m\u001b[0;34m(\u001b[0m\u001b[0mepoch\u001b[0m\u001b[0;34m,\u001b[0m \u001b[0mlogs\u001b[0m\u001b[0;34m)\u001b[0m\u001b[0;34m\u001b[0m\u001b[0;34m\u001b[0m\u001b[0m\n\u001b[0m\u001b[1;32m    415\u001b[0m \u001b[0;34m\u001b[0m\u001b[0m\n\u001b[1;32m    416\u001b[0m   \u001b[0;32mdef\u001b[0m \u001b[0mon_train_batch_begin\u001b[0m\u001b[0;34m(\u001b[0m\u001b[0mself\u001b[0m\u001b[0;34m,\u001b[0m \u001b[0mbatch\u001b[0m\u001b[0;34m,\u001b[0m \u001b[0mlogs\u001b[0m\u001b[0;34m=\u001b[0m\u001b[0;32mNone\u001b[0m\u001b[0;34m)\u001b[0m\u001b[0;34m:\u001b[0m\u001b[0;34m\u001b[0m\u001b[0;34m\u001b[0m\u001b[0m\n",
      "\u001b[0;32m~/CZ1016/base/lib/python3.8/site-packages/keras_tuner/engine/tuner_utils.py\u001b[0m in \u001b[0;36mon_epoch_end\u001b[0;34m(self, epoch, logs)\u001b[0m\n\u001b[1;32m    206\u001b[0m         \u001b[0;32mif\u001b[0m \u001b[0mself\u001b[0m\u001b[0;34m.\u001b[0m\u001b[0mobjective\u001b[0m\u001b[0;34m.\u001b[0m\u001b[0mbetter_than\u001b[0m\u001b[0;34m(\u001b[0m\u001b[0mcurrent_value\u001b[0m\u001b[0;34m,\u001b[0m \u001b[0mself\u001b[0m\u001b[0;34m.\u001b[0m\u001b[0mbest_value\u001b[0m\u001b[0;34m)\u001b[0m\u001b[0;34m:\u001b[0m\u001b[0;34m\u001b[0m\u001b[0;34m\u001b[0m\u001b[0m\n\u001b[1;32m    207\u001b[0m             \u001b[0mself\u001b[0m\u001b[0;34m.\u001b[0m\u001b[0mbest_value\u001b[0m \u001b[0;34m=\u001b[0m \u001b[0mcurrent_value\u001b[0m\u001b[0;34m\u001b[0m\u001b[0;34m\u001b[0m\u001b[0m\n\u001b[0;32m--> 208\u001b[0;31m             \u001b[0mself\u001b[0m\u001b[0;34m.\u001b[0m\u001b[0mmodel\u001b[0m\u001b[0;34m.\u001b[0m\u001b[0msave_weights\u001b[0m\u001b[0;34m(\u001b[0m\u001b[0mself\u001b[0m\u001b[0;34m.\u001b[0m\u001b[0mfilepath\u001b[0m\u001b[0;34m)\u001b[0m\u001b[0;34m\u001b[0m\u001b[0;34m\u001b[0m\u001b[0m\n\u001b[0m\u001b[1;32m    209\u001b[0m \u001b[0;34m\u001b[0m\u001b[0m\n\u001b[1;32m    210\u001b[0m \u001b[0;34m\u001b[0m\u001b[0m\n",
      "\u001b[0;32m~/CZ1016/base/lib/python3.8/site-packages/keras/utils/traceback_utils.py\u001b[0m in \u001b[0;36merror_handler\u001b[0;34m(*args, **kwargs)\u001b[0m\n\u001b[1;32m     62\u001b[0m     \u001b[0mfiltered_tb\u001b[0m \u001b[0;34m=\u001b[0m \u001b[0;32mNone\u001b[0m\u001b[0;34m\u001b[0m\u001b[0;34m\u001b[0m\u001b[0m\n\u001b[1;32m     63\u001b[0m     \u001b[0;32mtry\u001b[0m\u001b[0;34m:\u001b[0m\u001b[0;34m\u001b[0m\u001b[0;34m\u001b[0m\u001b[0m\n\u001b[0;32m---> 64\u001b[0;31m       \u001b[0;32mreturn\u001b[0m \u001b[0mfn\u001b[0m\u001b[0;34m(\u001b[0m\u001b[0;34m*\u001b[0m\u001b[0margs\u001b[0m\u001b[0;34m,\u001b[0m \u001b[0;34m**\u001b[0m\u001b[0mkwargs\u001b[0m\u001b[0;34m)\u001b[0m\u001b[0;34m\u001b[0m\u001b[0;34m\u001b[0m\u001b[0m\n\u001b[0m\u001b[1;32m     65\u001b[0m     \u001b[0;32mexcept\u001b[0m \u001b[0mException\u001b[0m \u001b[0;32mas\u001b[0m \u001b[0me\u001b[0m\u001b[0;34m:\u001b[0m  \u001b[0;31m# pylint: disable=broad-except\u001b[0m\u001b[0;34m\u001b[0m\u001b[0;34m\u001b[0m\u001b[0m\n\u001b[1;32m     66\u001b[0m       \u001b[0mfiltered_tb\u001b[0m \u001b[0;34m=\u001b[0m \u001b[0m_process_traceback_frames\u001b[0m\u001b[0;34m(\u001b[0m\u001b[0me\u001b[0m\u001b[0;34m.\u001b[0m\u001b[0m__traceback__\u001b[0m\u001b[0;34m)\u001b[0m\u001b[0;34m\u001b[0m\u001b[0;34m\u001b[0m\u001b[0m\n",
      "\u001b[0;32m~/CZ1016/base/lib/python3.8/site-packages/keras/engine/training.py\u001b[0m in \u001b[0;36msave_weights\u001b[0;34m(self, filepath, overwrite, save_format, options)\u001b[0m\n\u001b[1;32m   2302\u001b[0m       \u001b[0;32melse\u001b[0m\u001b[0;34m:\u001b[0m\u001b[0;34m\u001b[0m\u001b[0;34m\u001b[0m\u001b[0m\n\u001b[1;32m   2303\u001b[0m         \u001b[0msession\u001b[0m \u001b[0;34m=\u001b[0m \u001b[0mbackend\u001b[0m\u001b[0;34m.\u001b[0m\u001b[0mget_session\u001b[0m\u001b[0;34m(\u001b[0m\u001b[0;34m)\u001b[0m\u001b[0;34m\u001b[0m\u001b[0;34m\u001b[0m\u001b[0m\n\u001b[0;32m-> 2304\u001b[0;31m       \u001b[0mself\u001b[0m\u001b[0;34m.\u001b[0m\u001b[0m_trackable_saver\u001b[0m\u001b[0;34m.\u001b[0m\u001b[0msave\u001b[0m\u001b[0;34m(\u001b[0m\u001b[0mfilepath\u001b[0m\u001b[0;34m,\u001b[0m \u001b[0msession\u001b[0m\u001b[0;34m=\u001b[0m\u001b[0msession\u001b[0m\u001b[0;34m,\u001b[0m \u001b[0moptions\u001b[0m\u001b[0;34m=\u001b[0m\u001b[0moptions\u001b[0m\u001b[0;34m)\u001b[0m\u001b[0;34m\u001b[0m\u001b[0;34m\u001b[0m\u001b[0m\n\u001b[0m\u001b[1;32m   2305\u001b[0m       \u001b[0;31m# Record this checkpoint so it's visible from tf.train.latest_checkpoint.\u001b[0m\u001b[0;34m\u001b[0m\u001b[0;34m\u001b[0m\u001b[0;34m\u001b[0m\u001b[0m\n\u001b[1;32m   2306\u001b[0m       tf.__internal__.train.update_checkpoint_state(\n",
      "\u001b[0;32m~/CZ1016/base/lib/python3.8/site-packages/tensorflow/python/training/tracking/util.py\u001b[0m in \u001b[0;36msave\u001b[0;34m(self, file_prefix, checkpoint_number, session, options)\u001b[0m\n\u001b[1;32m   1238\u001b[0m \u001b[0;34m\u001b[0m\u001b[0m\n\u001b[1;32m   1239\u001b[0m     \u001b[0mfile_io\u001b[0m\u001b[0;34m.\u001b[0m\u001b[0mrecursive_create_dir\u001b[0m\u001b[0;34m(\u001b[0m\u001b[0mos\u001b[0m\u001b[0;34m.\u001b[0m\u001b[0mpath\u001b[0m\u001b[0;34m.\u001b[0m\u001b[0mdirname\u001b[0m\u001b[0;34m(\u001b[0m\u001b[0mfile_prefix\u001b[0m\u001b[0;34m)\u001b[0m\u001b[0;34m)\u001b[0m\u001b[0;34m\u001b[0m\u001b[0;34m\u001b[0m\u001b[0m\n\u001b[0;32m-> 1240\u001b[0;31m     save_path, new_feed_additions = self._save_cached_when_graph_building(\n\u001b[0m\u001b[1;32m   1241\u001b[0m         file_prefix_tensor, object_graph_tensor, options)\n\u001b[1;32m   1242\u001b[0m     \u001b[0;32mif\u001b[0m \u001b[0mnew_feed_additions\u001b[0m\u001b[0;34m:\u001b[0m\u001b[0;34m\u001b[0m\u001b[0;34m\u001b[0m\u001b[0m\n",
      "\u001b[0;32m~/CZ1016/base/lib/python3.8/site-packages/tensorflow/python/training/tracking/util.py\u001b[0m in \u001b[0;36m_save_cached_when_graph_building\u001b[0;34m(self, file_prefix, object_graph_tensor, options)\u001b[0m\n\u001b[1;32m   1184\u001b[0m         or context.executing_eagerly() or ops.inside_function()):\n\u001b[1;32m   1185\u001b[0m       \u001b[0msaver\u001b[0m \u001b[0;34m=\u001b[0m \u001b[0mfunctional_saver\u001b[0m\u001b[0;34m.\u001b[0m\u001b[0mMultiDeviceSaver\u001b[0m\u001b[0;34m(\u001b[0m\u001b[0mnamed_saveable_objects\u001b[0m\u001b[0;34m)\u001b[0m\u001b[0;34m\u001b[0m\u001b[0;34m\u001b[0m\u001b[0m\n\u001b[0;32m-> 1186\u001b[0;31m       \u001b[0msave_op\u001b[0m \u001b[0;34m=\u001b[0m \u001b[0msaver\u001b[0m\u001b[0;34m.\u001b[0m\u001b[0msave\u001b[0m\u001b[0;34m(\u001b[0m\u001b[0mfile_prefix\u001b[0m\u001b[0;34m,\u001b[0m \u001b[0moptions\u001b[0m\u001b[0;34m=\u001b[0m\u001b[0moptions\u001b[0m\u001b[0;34m)\u001b[0m\u001b[0;34m\u001b[0m\u001b[0;34m\u001b[0m\u001b[0m\n\u001b[0m\u001b[1;32m   1187\u001b[0m       \u001b[0;32mwith\u001b[0m \u001b[0mops\u001b[0m\u001b[0;34m.\u001b[0m\u001b[0mdevice\u001b[0m\u001b[0;34m(\u001b[0m\u001b[0;34m\"/cpu:0\"\u001b[0m\u001b[0;34m)\u001b[0m\u001b[0;34m:\u001b[0m\u001b[0;34m\u001b[0m\u001b[0;34m\u001b[0m\u001b[0m\n\u001b[1;32m   1188\u001b[0m         \u001b[0;32mwith\u001b[0m \u001b[0mops\u001b[0m\u001b[0;34m.\u001b[0m\u001b[0mcontrol_dependencies\u001b[0m\u001b[0;34m(\u001b[0m\u001b[0;34m[\u001b[0m\u001b[0msave_op\u001b[0m\u001b[0;34m]\u001b[0m\u001b[0;34m)\u001b[0m\u001b[0;34m:\u001b[0m\u001b[0;34m\u001b[0m\u001b[0;34m\u001b[0m\u001b[0m\n",
      "\u001b[0;32m~/CZ1016/base/lib/python3.8/site-packages/tensorflow/python/training/saving/functional_saver.py\u001b[0m in \u001b[0;36msave\u001b[0;34m(self, file_prefix, options)\u001b[0m\n\u001b[1;32m    298\u001b[0m       \u001b[0mtf_function_save\u001b[0m\u001b[0;34m(\u001b[0m\u001b[0;34m)\u001b[0m\u001b[0;34m\u001b[0m\u001b[0;34m\u001b[0m\u001b[0m\n\u001b[1;32m    299\u001b[0m     \u001b[0;32melse\u001b[0m\u001b[0;34m:\u001b[0m\u001b[0;34m\u001b[0m\u001b[0;34m\u001b[0m\u001b[0m\n\u001b[0;32m--> 300\u001b[0;31m       \u001b[0;32mreturn\u001b[0m \u001b[0msave_fn\u001b[0m\u001b[0;34m(\u001b[0m\u001b[0;34m)\u001b[0m\u001b[0;34m\u001b[0m\u001b[0;34m\u001b[0m\u001b[0m\n\u001b[0m\u001b[1;32m    301\u001b[0m \u001b[0;34m\u001b[0m\u001b[0m\n\u001b[1;32m    302\u001b[0m   \u001b[0;32mdef\u001b[0m \u001b[0mrestore\u001b[0m\u001b[0;34m(\u001b[0m\u001b[0mself\u001b[0m\u001b[0;34m,\u001b[0m \u001b[0mfile_prefix\u001b[0m\u001b[0;34m,\u001b[0m \u001b[0moptions\u001b[0m\u001b[0;34m=\u001b[0m\u001b[0;32mNone\u001b[0m\u001b[0;34m)\u001b[0m\u001b[0;34m:\u001b[0m\u001b[0;34m\u001b[0m\u001b[0;34m\u001b[0m\u001b[0m\n",
      "\u001b[0;32m~/CZ1016/base/lib/python3.8/site-packages/tensorflow/python/training/saving/functional_saver.py\u001b[0m in \u001b[0;36msave_fn\u001b[0;34m()\u001b[0m\n\u001b[1;32m    272\u001b[0m           \u001b[0;31m# initial read operations should be placed on the SaveableObject's\u001b[0m\u001b[0;34m\u001b[0m\u001b[0;34m\u001b[0m\u001b[0;34m\u001b[0m\u001b[0m\n\u001b[1;32m    273\u001b[0m           \u001b[0;31m# device.\u001b[0m\u001b[0;34m\u001b[0m\u001b[0;34m\u001b[0m\u001b[0;34m\u001b[0m\u001b[0m\n\u001b[0;32m--> 274\u001b[0;31m           \u001b[0msharded_saves\u001b[0m\u001b[0;34m.\u001b[0m\u001b[0mappend\u001b[0m\u001b[0;34m(\u001b[0m\u001b[0msaver\u001b[0m\u001b[0;34m.\u001b[0m\u001b[0msave\u001b[0m\u001b[0;34m(\u001b[0m\u001b[0mshard_prefix\u001b[0m\u001b[0;34m,\u001b[0m \u001b[0moptions\u001b[0m\u001b[0;34m)\u001b[0m\u001b[0;34m)\u001b[0m\u001b[0;34m\u001b[0m\u001b[0;34m\u001b[0m\u001b[0m\n\u001b[0m\u001b[1;32m    275\u001b[0m \u001b[0;34m\u001b[0m\u001b[0m\n\u001b[1;32m    276\u001b[0m       \u001b[0;32mwith\u001b[0m \u001b[0mops\u001b[0m\u001b[0;34m.\u001b[0m\u001b[0mcontrol_dependencies\u001b[0m\u001b[0;34m(\u001b[0m\u001b[0msharded_saves\u001b[0m\u001b[0;34m)\u001b[0m\u001b[0;34m:\u001b[0m\u001b[0;34m\u001b[0m\u001b[0;34m\u001b[0m\u001b[0m\n",
      "\u001b[0;32m~/CZ1016/base/lib/python3.8/site-packages/tensorflow/python/training/saving/functional_saver.py\u001b[0m in \u001b[0;36msave\u001b[0;34m(self, file_prefix, options)\u001b[0m\n\u001b[1;32m     81\u001b[0m     \u001b[0msave_device\u001b[0m \u001b[0;34m=\u001b[0m \u001b[0moptions\u001b[0m\u001b[0;34m.\u001b[0m\u001b[0mexperimental_io_device\u001b[0m \u001b[0;32mor\u001b[0m \u001b[0;34m\"cpu:0\"\u001b[0m\u001b[0;34m\u001b[0m\u001b[0;34m\u001b[0m\u001b[0m\n\u001b[1;32m     82\u001b[0m     \u001b[0;32mwith\u001b[0m \u001b[0mops\u001b[0m\u001b[0;34m.\u001b[0m\u001b[0mdevice\u001b[0m\u001b[0;34m(\u001b[0m\u001b[0msave_device\u001b[0m\u001b[0;34m)\u001b[0m\u001b[0;34m:\u001b[0m\u001b[0;34m\u001b[0m\u001b[0;34m\u001b[0m\u001b[0m\n\u001b[0;32m---> 83\u001b[0;31m       \u001b[0;32mreturn\u001b[0m \u001b[0mio_ops\u001b[0m\u001b[0;34m.\u001b[0m\u001b[0msave_v2\u001b[0m\u001b[0;34m(\u001b[0m\u001b[0mfile_prefix\u001b[0m\u001b[0;34m,\u001b[0m \u001b[0mtensor_names\u001b[0m\u001b[0;34m,\u001b[0m \u001b[0mtensor_slices\u001b[0m\u001b[0;34m,\u001b[0m \u001b[0mtensors\u001b[0m\u001b[0;34m)\u001b[0m\u001b[0;34m\u001b[0m\u001b[0;34m\u001b[0m\u001b[0m\n\u001b[0m\u001b[1;32m     84\u001b[0m \u001b[0;34m\u001b[0m\u001b[0m\n\u001b[1;32m     85\u001b[0m   \u001b[0;32mdef\u001b[0m \u001b[0mrestore\u001b[0m\u001b[0;34m(\u001b[0m\u001b[0mself\u001b[0m\u001b[0;34m,\u001b[0m \u001b[0mfile_prefix\u001b[0m\u001b[0;34m,\u001b[0m \u001b[0moptions\u001b[0m\u001b[0;34m=\u001b[0m\u001b[0;32mNone\u001b[0m\u001b[0;34m)\u001b[0m\u001b[0;34m:\u001b[0m\u001b[0;34m\u001b[0m\u001b[0;34m\u001b[0m\u001b[0m\n",
      "\u001b[0;32m~/CZ1016/base/lib/python3.8/site-packages/tensorflow/python/ops/gen_io_ops.py\u001b[0m in \u001b[0;36msave_v2\u001b[0;34m(prefix, tensor_names, shape_and_slices, tensors, name)\u001b[0m\n\u001b[1;32m   1705\u001b[0m       \u001b[0;32mpass\u001b[0m\u001b[0;34m\u001b[0m\u001b[0;34m\u001b[0m\u001b[0m\n\u001b[1;32m   1706\u001b[0m     \u001b[0;32mtry\u001b[0m\u001b[0;34m:\u001b[0m\u001b[0;34m\u001b[0m\u001b[0;34m\u001b[0m\u001b[0m\n\u001b[0;32m-> 1707\u001b[0;31m       return save_v2_eager_fallback(\n\u001b[0m\u001b[1;32m   1708\u001b[0m           \u001b[0mprefix\u001b[0m\u001b[0;34m,\u001b[0m \u001b[0mtensor_names\u001b[0m\u001b[0;34m,\u001b[0m \u001b[0mshape_and_slices\u001b[0m\u001b[0;34m,\u001b[0m \u001b[0mtensors\u001b[0m\u001b[0;34m,\u001b[0m \u001b[0mname\u001b[0m\u001b[0;34m=\u001b[0m\u001b[0mname\u001b[0m\u001b[0;34m,\u001b[0m\u001b[0;34m\u001b[0m\u001b[0;34m\u001b[0m\u001b[0m\n\u001b[1;32m   1709\u001b[0m           ctx=_ctx)\n",
      "\u001b[0;32m~/CZ1016/base/lib/python3.8/site-packages/tensorflow/python/ops/gen_io_ops.py\u001b[0m in \u001b[0;36msave_v2_eager_fallback\u001b[0;34m(prefix, tensor_names, shape_and_slices, tensors, name, ctx)\u001b[0m\n\u001b[1;32m   1726\u001b[0m   \u001b[0m_inputs_flat\u001b[0m \u001b[0;34m=\u001b[0m \u001b[0;34m[\u001b[0m\u001b[0mprefix\u001b[0m\u001b[0;34m,\u001b[0m \u001b[0mtensor_names\u001b[0m\u001b[0;34m,\u001b[0m \u001b[0mshape_and_slices\u001b[0m\u001b[0;34m]\u001b[0m \u001b[0;34m+\u001b[0m \u001b[0mlist\u001b[0m\u001b[0;34m(\u001b[0m\u001b[0mtensors\u001b[0m\u001b[0;34m)\u001b[0m\u001b[0;34m\u001b[0m\u001b[0;34m\u001b[0m\u001b[0m\n\u001b[1;32m   1727\u001b[0m   \u001b[0m_attrs\u001b[0m \u001b[0;34m=\u001b[0m \u001b[0;34m(\u001b[0m\u001b[0;34m\"dtypes\"\u001b[0m\u001b[0;34m,\u001b[0m \u001b[0m_attr_dtypes\u001b[0m\u001b[0;34m)\u001b[0m\u001b[0;34m\u001b[0m\u001b[0;34m\u001b[0m\u001b[0m\n\u001b[0;32m-> 1728\u001b[0;31m   _result = _execute.execute(b\"SaveV2\", 0, inputs=_inputs_flat, attrs=_attrs,\n\u001b[0m\u001b[1;32m   1729\u001b[0m                              ctx=ctx, name=name)\n\u001b[1;32m   1730\u001b[0m   \u001b[0m_result\u001b[0m \u001b[0;34m=\u001b[0m \u001b[0;32mNone\u001b[0m\u001b[0;34m\u001b[0m\u001b[0;34m\u001b[0m\u001b[0m\n",
      "\u001b[0;32m~/CZ1016/base/lib/python3.8/site-packages/tensorflow/python/eager/execute.py\u001b[0m in \u001b[0;36mquick_execute\u001b[0;34m(op_name, num_outputs, inputs, attrs, ctx, name)\u001b[0m\n\u001b[1;32m     56\u001b[0m   \u001b[0;32mtry\u001b[0m\u001b[0;34m:\u001b[0m\u001b[0;34m\u001b[0m\u001b[0;34m\u001b[0m\u001b[0m\n\u001b[1;32m     57\u001b[0m     \u001b[0mctx\u001b[0m\u001b[0;34m.\u001b[0m\u001b[0mensure_initialized\u001b[0m\u001b[0;34m(\u001b[0m\u001b[0;34m)\u001b[0m\u001b[0;34m\u001b[0m\u001b[0;34m\u001b[0m\u001b[0m\n\u001b[0;32m---> 58\u001b[0;31m     tensors = pywrap_tfe.TFE_Py_Execute(ctx._handle, device_name, op_name,\n\u001b[0m\u001b[1;32m     59\u001b[0m                                         inputs, attrs, num_outputs)\n\u001b[1;32m     60\u001b[0m   \u001b[0;32mexcept\u001b[0m \u001b[0mcore\u001b[0m\u001b[0;34m.\u001b[0m\u001b[0m_NotOkStatusException\u001b[0m \u001b[0;32mas\u001b[0m \u001b[0me\u001b[0m\u001b[0;34m:\u001b[0m\u001b[0;34m\u001b[0m\u001b[0;34m\u001b[0m\u001b[0m\n",
      "\u001b[0;31mKeyboardInterrupt\u001b[0m: "
     ]
    }
   ],
   "source": [
    "def m0(hp):\n",
    "    \n",
    "    vocab_size = 5000\n",
    "    embedding_size = hp.Int('emb',min_value=4,max_value=64,step=4)\n",
    "    #epochs=hp.Int('epoch',min_value=32,max_value=256,step=32)\n",
    "    learning_rate = hp.Float('learning',min_value=1e-4, max_value=2e-1, sampling='log')\n",
    "    decay_rate = learning_rate / 100\n",
    "    momentum = hp.Choice('mom',values=[0.7,0.8,0.9,0.99])\n",
    "\n",
    "    sgd = SGD(lr=learning_rate, momentum=momentum, decay=decay_rate, nesterov=False)\n",
    "    # Build model\n",
    "    model= Sequential()\n",
    "    model.add(Embedding(vocab_size, embedding_size, input_length=63))\n",
    "    model.add(Conv1D(filters=hp.Int('filt',min_value=32,max_value=128,step=32), kernel_size=3, padding='same', activation='relu'))\n",
    "    model.add(MaxPooling1D(pool_size=2))\n",
    "    #change up \n",
    "    model.add(Bidirectional(LSTM(hp.Int('neuron',min_value=32,max_value=256,step=32),kernel_regularizer=l2(0.05),recurrent_regularizer=l2(0.05))))\n",
    "    model.add(Dropout(hp.Float('dp',min_value=2e-3, max_value=2e-1, sampling='log')))\n",
    "    model.add(Dense(2, activation='softmax'))\n",
    "    tf.keras.utils.plot_model(model, show_shapes=True)\n",
    "    \n",
    "    model.compile(loss='categorical_crossentropy', optimizer=sgd, \n",
    "               metrics=['accuracy',Precision(), Recall()])\n",
    "\n",
    "    return model\n",
    "\n",
    "tuner= kt.Hyperband(m0,objective='val_loss',max_epochs=10,factor=3,overwrite=True)\n",
    "stop_early=tf.keras.callbacks.EarlyStopping(monitor='val_loss',patience=10)\n",
    "\n",
    "tuner.search(X_train2,y_train2,epochs=100,validation_split=0.1,callbacks=[stop_early])\n",
    "best_hps=tuner.get_best_hyperparameters(num_trials=1)[0]\n",
    "tuner.search_space_summary()\n",
    "print(f\"\"\"Optimal result: filter={best_hps.get('filt')},dropout={best_hps.get('dp')},number of neurons={best_hps.get('neuron')},momentum={best_hps.get('mom')},embedding={best_hps.get('emb')},learning rate={best_hps.get('learning')}\"\"\")"
   ]
  },
  {
   "cell_type": "code",
   "execution_count": 8,
   "metadata": {},
   "outputs": [
    {
     "name": "stdout",
     "output_type": "stream",
     "text": [
      "Trial 30 Complete [00h 07m 50s]\n",
      "val_loss: 0.7671281099319458\n",
      "\n",
      "Best val_loss So Far: 0.22614696621894836\n",
      "Total elapsed time: 02h 50m 43s\n",
      "INFO:tensorflow:Oracle triggered exit\n",
      "Search space summary\n",
      "Default search space size: 6\n",
      "emb (Int)\n",
      "{'default': None, 'conditions': [], 'min_value': 4, 'max_value': 64, 'step': 4, 'sampling': None}\n",
      "learning (Float)\n",
      "{'default': 0.0001, 'conditions': [], 'min_value': 0.0001, 'max_value': 0.2, 'step': None, 'sampling': 'log'}\n",
      "mom (Choice)\n",
      "{'default': 0.7, 'conditions': [], 'values': [0.7, 0.8, 0.9, 0.99], 'ordered': True}\n",
      "filt (Int)\n",
      "{'default': None, 'conditions': [], 'min_value': 32, 'max_value': 128, 'step': 32, 'sampling': None}\n",
      "neuron (Int)\n",
      "{'default': None, 'conditions': [], 'min_value': 32, 'max_value': 256, 'step': 32, 'sampling': None}\n",
      "dp (Float)\n",
      "{'default': 0.002, 'conditions': [], 'min_value': 0.002, 'max_value': 0.2, 'step': None, 'sampling': 'log'}\n",
      "Optimal result: filter=96,dropout=0.0062533310294937165,number of neurons=64,momentum=0.99,embedding=52,learning rate=0.02379799980549095\n"
     ]
    }
   ],
   "source": [
    "def m0(hp):\n",
    "    \n",
    "    vocab_size = 5000\n",
    "    embedding_size = hp.Int('emb',min_value=4,max_value=64,step=4)\n",
    "    #epochs=hp.Int('epoch',min_value=32,max_value=256,step=32)\n",
    "    learning_rate = hp.Float('learning',min_value=1e-4, max_value=2e-1, sampling='log')\n",
    "    decay_rate = learning_rate / 100\n",
    "    momentum = hp.Choice('mom',values=[0.7,0.8,0.9,0.99])\n",
    "\n",
    "    sgd = SGD(lr=learning_rate, momentum=momentum, decay=decay_rate, nesterov=False)\n",
    "    # Build model\n",
    "    model= Sequential()\n",
    "    model.add(Embedding(vocab_size, embedding_size, input_length=63))\n",
    "    model.add(Conv1D(filters=hp.Int('filt',min_value=32,max_value=128,step=32), kernel_size=3, padding='same', activation='relu'))\n",
    "    model.add(MaxPooling1D(pool_size=2))\n",
    "    #change up \n",
    "    model.add(Bidirectional(LSTM(hp.Int('neuron',min_value=32,max_value=256,step=32),kernel_regularizer=l2(0.05),recurrent_regularizer=l2(0.05))))\n",
    "    model.add(Dropout(hp.Float('dp',min_value=2e-3, max_value=2e-1, sampling='log')))\n",
    "    model.add(Dense(3, activation='softmax'))\n",
    "    tf.keras.utils.plot_model(model, show_shapes=True)\n",
    "    \n",
    "    model.compile(loss='categorical_crossentropy', optimizer=sgd, \n",
    "               metrics=['accuracy',Precision(), Recall()])\n",
    "\n",
    "    return model\n",
    "\n",
    "tuner= kt.Hyperband(m0,objective='val_loss',max_epochs=10,factor=3,overwrite=True)\n",
    "stop_early=tf.keras.callbacks.EarlyStopping(monitor='val_loss',patience=10)\n",
    "\n",
    "tuner.search(X_train,y_train,epochs=100,validation_split=0.2,callbacks=[stop_early])\n",
    "best_hps=tuner.get_best_hyperparameters(num_trials=1)[0]\n",
    "tuner.search_space_summary()\n",
    "print(f\"\"\"Optimal result: filter={best_hps.get('filt')},dropout={best_hps.get('dp')},number of neurons={best_hps.get('neuron')},momentum={best_hps.get('mom')},embedding={best_hps.get('emb')},learning rate={best_hps.get('learning')}\"\"\")"
   ]
  },
  {
   "cell_type": "code",
   "execution_count": 9,
   "metadata": {},
   "outputs": [
    {
     "name": "stderr",
     "output_type": "stream",
     "text": [
      "/home/D190003/CZ1016/base/lib/python3.8/site-packages/keras/optimizer_v2/gradient_descent.py:102: UserWarning: The `lr` argument is deprecated, use `learning_rate` instead.\n",
      "  super(SGD, self).__init__(name, **kwargs)\n"
     ]
    },
    {
     "name": "stdout",
     "output_type": "stream",
     "text": [
      "Model: \"sequential_1\"\n",
      "_________________________________________________________________\n",
      " Layer (type)                Output Shape              Param #   \n",
      "=================================================================\n",
      " embedding_1 (Embedding)     (None, 63, 52)            260000    \n",
      "                                                                 \n",
      " conv1d_1 (Conv1D)           (None, 63, 96)            15072     \n",
      "                                                                 \n",
      " max_pooling1d_1 (MaxPooling  (None, 31, 96)           0         \n",
      " 1D)                                                             \n",
      "                                                                 \n",
      " bidirectional_1 (Bidirectio  (None, 128)              82432     \n",
      " nal)                                                            \n",
      "                                                                 \n",
      " dropout_1 (Dropout)         (None, 128)               0         \n",
      "                                                                 \n",
      " dense_1 (Dense)             (None, 3)                 387       \n",
      "                                                                 \n",
      "=================================================================\n",
      "Total params: 357,891\n",
      "Trainable params: 357,891\n",
      "Non-trainable params: 0\n",
      "_________________________________________________________________\n",
      "None\n",
      "Best model saved\n"
     ]
    }
   ],
   "source": [
    "model = tuner.hypermodel.build(best_hps)\n",
    "print(model.summary())\n",
    "# Save the model architecture & the weights\n",
    "model.save('tuned_model.h5')\n",
    "print('Best model saved')"
   ]
  },
  {
   "cell_type": "code",
   "execution_count": 111,
   "metadata": {},
   "outputs": [],
   "source": [
    "def ml():\n",
    "    \n",
    "    vocab_size = 5000\n",
    "    embedding_size = 52\n",
    "    #epochs=hp.Int('epoch',min_value=32,max_value=256,step=32)\n",
    "    learning_rate = 0.02\n",
    "    decay_rate = learning_rate / 100\n",
    "    momentum = 0.99\n",
    "\n",
    "    sgd = SGD(lr=learning_rate, momentum=momentum, decay=decay_rate, nesterov=False)\n",
    "    # Build model\n",
    "    model= Sequential()\n",
    "    model.add(Embedding(vocab_size, embedding_size, input_length=63))\n",
    "    model.add(Conv1D(filters=96, kernel_size=3, padding='same', activation='relu'))\n",
    "    model.add(MaxPooling1D(pool_size=2))\n",
    "    #change up \n",
    "    model.add(Bidirectional(LSTM(64,kernel_regularizer=l2(0.05),recurrent_regularizer=l2(0.05))))\n",
    "    model.add(Dropout(0.006))\n",
    "    model.add(Dense(1, activation='sigmoid'))\n",
    "    tf.keras.utils.plot_model(model, show_shapes=True)\n",
    "    \n",
    "    model.compile(loss='binary_crossentropy', optimizer=sgd, \n",
    "               metrics=['accuracy',Precision(), Recall()])\n",
    "\n",
    "    return model"
   ]
  },
  {
   "cell_type": "code",
   "execution_count": 122,
   "metadata": {},
   "outputs": [],
   "source": [
    "def mk():\n",
    "    \n",
    "    vocab_size = 5000\n",
    "    embedding_size = 52\n",
    "    #epochs=hp.Int('epoch',min_value=32,max_value=256,step=32)\n",
    "    learning_rate = 0.02\n",
    "    decay_rate = learning_rate / 100\n",
    "    momentum = 0.99\n",
    "\n",
    "    sgd = SGD(lr=learning_rate, momentum=momentum, decay=decay_rate, nesterov=False)\n",
    "    # Build model\n",
    "    model= Sequential()\n",
    "    model.add(Embedding(vocab_size, embedding_size, input_length=63))\n",
    "    model.add(Conv1D(filters=96, kernel_size=3, padding='same', activation='relu'))\n",
    "    model.add(MaxPooling1D(pool_size=2))\n",
    "    #change up \n",
    "    model.add(Bidirectional(LSTM(64,kernel_regularizer=l2(0.05),recurrent_regularizer=l2(0.05))))\n",
    "    model.add(Dropout(0.006))\n",
    "    model.add(Dense(2, activation='softmax'))\n",
    "    tf.keras.utils.plot_model(model, show_shapes=True)\n",
    "    \n",
    "    model.compile(loss='categorical_crossentropy', optimizer=sgd, \n",
    "               metrics=['accuracy',Precision(), Recall()])\n",
    "\n",
    "    return model"
   ]
  },
  {
   "cell_type": "code",
   "execution_count": 119,
   "metadata": {
    "scrolled": true
   },
   "outputs": [
    {
     "name": "stderr",
     "output_type": "stream",
     "text": [
      "/home/D190003/CZ1016/base/lib/python3.8/site-packages/keras/optimizer_v2/gradient_descent.py:102: UserWarning: The `lr` argument is deprecated, use `learning_rate` instead.\n",
      "  super(SGD, self).__init__(name, **kwargs)\n"
     ]
    },
    {
     "name": "stdout",
     "output_type": "stream",
     "text": [
      "Epoch 1/100\n",
      "1843/1843 [==============================] - 36s 18ms/step - loss: 1.1982 - accuracy: 0.6959 - precision_6: 0.5937 - recall_6: 0.2657 - val_loss: 0.5813 - val_accuracy: 0.7124 - val_precision_6: 0.7135 - val_recall_6: 0.1877\n",
      "Epoch 2/100\n",
      "1843/1843 [==============================] - 33s 18ms/step - loss: 0.4712 - accuracy: 0.8440 - precision_6: 0.7762 - recall_6: 0.7451 - val_loss: 0.2961 - val_accuracy: 0.9229 - val_precision_6: 0.8580 - val_recall_6: 0.9133\n",
      "Epoch 3/100\n",
      "1843/1843 [==============================] - 33s 18ms/step - loss: 0.2824 - accuracy: 0.9318 - precision_6: 0.8830 - recall_6: 0.9159 - val_loss: 0.2156 - val_accuracy: 0.9396 - val_precision_6: 0.8848 - val_recall_6: 0.9352\n",
      "Epoch 4/100\n",
      "1843/1843 [==============================] - 33s 18ms/step - loss: 0.2138 - accuracy: 0.9429 - precision_6: 0.9065 - recall_6: 0.9232 - val_loss: 0.1922 - val_accuracy: 0.9502 - val_precision_6: 0.9142 - val_recall_6: 0.9338\n",
      "Epoch 5/100\n",
      "1843/1843 [==============================] - 33s 18ms/step - loss: 0.1967 - accuracy: 0.9466 - precision_6: 0.9151 - recall_6: 0.9251 - val_loss: 0.1770 - val_accuracy: 0.9541 - val_precision_6: 0.9309 - val_recall_6: 0.9270\n",
      "Epoch 6/100\n",
      "1843/1843 [==============================] - 33s 18ms/step - loss: 0.1898 - accuracy: 0.9486 - precision_6: 0.9192 - recall_6: 0.9267 - val_loss: 0.1824 - val_accuracy: 0.9516 - val_precision_6: 0.9226 - val_recall_6: 0.9286\n",
      "Epoch 7/100\n",
      "1843/1843 [==============================] - 33s 18ms/step - loss: 0.1905 - accuracy: 0.9479 - precision_6: 0.9168 - recall_6: 0.9271 - val_loss: 0.1812 - val_accuracy: 0.9500 - val_precision_6: 0.9095 - val_recall_6: 0.9392\n",
      "Epoch 8/100\n",
      "1843/1843 [==============================] - 33s 18ms/step - loss: 0.1856 - accuracy: 0.9496 - precision_6: 0.9201 - recall_6: 0.9288 - val_loss: 0.1822 - val_accuracy: 0.9538 - val_precision_6: 0.9333 - val_recall_6: 0.9232\n",
      "Epoch 9/100\n",
      "1843/1843 [==============================] - 33s 18ms/step - loss: 0.1806 - accuracy: 0.9497 - precision_6: 0.9199 - recall_6: 0.9293 - val_loss: 0.1761 - val_accuracy: 0.9522 - val_precision_6: 0.9245 - val_recall_6: 0.9284\n",
      "Epoch 10/100\n",
      "1843/1843 [==============================] - 33s 18ms/step - loss: 0.1787 - accuracy: 0.9504 - precision_6: 0.9213 - recall_6: 0.9301 - val_loss: 0.1782 - val_accuracy: 0.9527 - val_precision_6: 0.9238 - val_recall_6: 0.9308\n",
      "Epoch 11/100\n",
      "1843/1843 [==============================] - 33s 18ms/step - loss: 0.1789 - accuracy: 0.9505 - precision_6: 0.9226 - recall_6: 0.9289 - val_loss: 0.1838 - val_accuracy: 0.9513 - val_precision_6: 0.9332 - val_recall_6: 0.9152\n",
      "Epoch 12/100\n",
      "1843/1843 [==============================] - 33s 18ms/step - loss: 0.1810 - accuracy: 0.9501 - precision_6: 0.9201 - recall_6: 0.9303 - val_loss: 0.1911 - val_accuracy: 0.9507 - val_precision_6: 0.9352 - val_recall_6: 0.9110\n",
      "Epoch 13/100\n",
      "1843/1843 [==============================] - 33s 18ms/step - loss: 0.1762 - accuracy: 0.9501 - precision_6: 0.9200 - recall_6: 0.9305 - val_loss: 0.1873 - val_accuracy: 0.9491 - val_precision_6: 0.9349 - val_recall_6: 0.9060\n",
      "Epoch 14/100\n",
      "1843/1843 [==============================] - 33s 18ms/step - loss: 0.1736 - accuracy: 0.9518 - precision_6: 0.9233 - recall_6: 0.9323 - val_loss: 0.1983 - val_accuracy: 0.9470 - val_precision_6: 0.9418 - val_recall_6: 0.8914\n",
      "Epoch 15/100\n",
      "1843/1843 [==============================] - 33s 18ms/step - loss: 0.1764 - accuracy: 0.9512 - precision_6: 0.9238 - recall_6: 0.9295 - val_loss: 0.1858 - val_accuracy: 0.9495 - val_precision_6: 0.9335 - val_recall_6: 0.9089\n",
      "Epoch 16/100\n",
      "1843/1843 [==============================] - 33s 18ms/step - loss: 0.1725 - accuracy: 0.9523 - precision_6: 0.9237 - recall_6: 0.9333 - val_loss: 0.1768 - val_accuracy: 0.9515 - val_precision_6: 0.9277 - val_recall_6: 0.9220\n",
      "Epoch 17/100\n",
      "1843/1843 [==============================] - 33s 18ms/step - loss: 0.1716 - accuracy: 0.9522 - precision_6: 0.9243 - recall_6: 0.9324 - val_loss: 0.1803 - val_accuracy: 0.9509 - val_precision_6: 0.9099 - val_recall_6: 0.9418\n",
      "Epoch 18/100\n",
      "1843/1843 [==============================] - 33s 18ms/step - loss: 0.1703 - accuracy: 0.9523 - precision_6: 0.9243 - recall_6: 0.9328 - val_loss: 0.1937 - val_accuracy: 0.9454 - val_precision_6: 0.9397 - val_recall_6: 0.8884\n",
      "Epoch 19/100\n",
      "1843/1843 [==============================] - 33s 18ms/step - loss: 0.1697 - accuracy: 0.9525 - precision_6: 0.9248 - recall_6: 0.9327 - val_loss: 0.1804 - val_accuracy: 0.9525 - val_precision_6: 0.9318 - val_recall_6: 0.9209\n"
     ]
    }
   ],
   "source": [
    "modela=mk()\n",
    "modelb=ml()\n",
    "batch_size = 64\n",
    "stop_early=tf.keras.callbacks.EarlyStopping(monitor='val_loss',patience=10)\n",
    "history = modelb.fit(X_train, y_train1,\n",
    "                      batch_size=batch_size, epochs=100,validation_split=0.1, verbose=1,callbacks=[stop_early])"
   ]
  },
  {
   "cell_type": "markdown",
   "metadata": {},
   "source": [
    "## Results of optimally tuned model<a class=\"anchor\" id=\"2.2\"></a>"
   ]
  },
  {
   "cell_type": "code",
   "execution_count": 120,
   "metadata": {},
   "outputs": [
    {
     "data": {
      "image/png": "[encoded data removed]",
      "text/plain": [
       "<Figure size 720x288 with 2 Axes>"
      ]
     },
     "metadata": {
      "needs_background": "light"
     },
     "output_type": "display_data"
    }
   ],
   "source": [
    "def plot_training_hist(history):\n",
    "    '''Function to plot history for accuracy and loss'''\n",
    "    \n",
    "    fig, ax = plt.subplots(1, 2, figsize=(10,4))\n",
    "    # first plot\n",
    "    ax[0].plot(history.history['accuracy'])\n",
    "    ax[0].plot(history.history['val_accuracy'])\n",
    "    ax[0].set_title('Model Accuracy')\n",
    "    ax[0].set_xlabel('epoch')\n",
    "    ax[0].set_ylabel('accuracy')\n",
    "    ax[0].legend(['train', 'validation'], loc='best')\n",
    "    # second plot\n",
    "    ax[1].plot(history.history['loss'])\n",
    "    ax[1].plot(history.history['val_loss'])\n",
    "    ax[1].set_title('Model Loss')\n",
    "    ax[1].set_xlabel('epoch')\n",
    "    ax[1].set_ylabel('loss')\n",
    "    ax[1].legend(['train', 'validation'], loc='best')\n",
    "    \n",
    "plot_training_hist(history)"
   ]
  },
  {
   "cell_type": "code",
   "execution_count": null,
   "metadata": {},
   "outputs": [],
   "source": [
    "plot_training_hist(history2)"
   ]
  },
  {
   "cell_type": "code",
   "execution_count": 71,
   "metadata": {},
   "outputs": [
    {
     "data": {
      "image/png": "[encoded data removed]",
      "text/plain": [
       "<Figure size 720x288 with 2 Axes>"
      ]
     },
     "metadata": {
      "needs_background": "light"
     },
     "output_type": "display_data"
    }
   ],
   "source": [
    "plot_training_hist(history3)"
   ]
  },
  {
   "cell_type": "code",
   "execution_count": 121,
   "metadata": {},
   "outputs": [
    {
     "name": "stdout",
     "output_type": "stream",
     "text": [
      "\n",
      "Accuracy  : 0.9472\n",
      "Precision : 0.9271\n",
      "Recall    : 0.9124\n",
      "F1 Score  : 0.9197\n"
     ]
    }
   ],
   "source": [
    "# Evaluate model on the test set\n",
    "loss, accuracy, precision, recall = modelb.evaluate(X_test, y_test1, verbose=0)\n",
    "# Print metrics\n",
    "print('')\n",
    "\n",
    "print('Accuracy  : {:.4f}'.format(accuracy))\n",
    "print('Precision : {:.4f}'.format(precision))\n",
    "print('Recall    : {:.4f}'.format(recall))\n",
    "print('F1 Score  : {:.4f}'.format(f1_score(precision, recall)))"
   ]
  },
  {
   "cell_type": "code",
   "execution_count": null,
   "metadata": {},
   "outputs": [],
   "source": [
    "# Evaluate model on the test set\n",
    "loss, accuracy, precision, recall = modela.evaluate(X_test2, y_test2, verbose=0)\n",
    "# Print metrics\n",
    "print('')\n",
    "\n",
    "print('Accuracy  : {:.4f}'.format(accuracy))\n",
    "print('Precision : {:.4f}'.format(precision))\n",
    "print('Recall    : {:.4f}'.format(recall))\n",
    "print('F1 Score  : {:.4f}'.format(f1_score(precision, recall)))"
   ]
  },
  {
   "cell_type": "code",
   "execution_count": 15,
   "metadata": {},
   "outputs": [
    {
     "name": "stdout",
     "output_type": "stream",
     "text": [
      "\n",
      "Accuracy  : 0.9168\n",
      "Precision : 0.9206\n",
      "Recall    : 0.9133\n",
      "F1 Score  : 0.9170\n"
     ]
    }
   ],
   "source": [
    "# Evaluate model on the test set\n",
    "loss, accuracy, precision, recall = model.evaluate(X_test, y_test, verbose=0)\n",
    "# Print metrics\n",
    "print('')\n",
    "\n",
    "print('Accuracy  : {:.4f}'.format(accuracy))\n",
    "print('Precision : {:.4f}'.format(precision))\n",
    "print('Recall    : {:.4f}'.format(recall))\n",
    "print('F1 Score  : {:.4f}'.format(f1_score(precision, recall)))"
   ]
  },
  {
   "cell_type": "code",
   "execution_count": 16,
   "metadata": {},
   "outputs": [
    {
     "data": {
      "image/png": "[encoded data removed]",
      "text/plain": [
       "<Figure size 576x432 with 2 Axes>"
      ]
     },
     "metadata": {
      "needs_background": "light"
     },
     "output_type": "display_data"
    }
   ],
   "source": [
    "from sklearn.metrics import confusion_matrix\n",
    "\n",
    "def plot_confusion_matrix(model, X_test, y_test):\n",
    "    '''Function to plot confusion matrix for the passed model and the data'''\n",
    "    \n",
    "    sentiment_classes = ['Negative', 'Neutral', 'Positive']\n",
    "    # use model to do the prediction\n",
    "    y_pred = model.predict(X_test)\n",
    "    # compute confusion matrix\n",
    "    cm = confusion_matrix(np.argmax(np.array(y_test),axis=1), np.argmax(y_pred, axis=1))\n",
    "    # plot confusion matrix\n",
    "    plt.figure(figsize=(8,6))\n",
    "    sns.heatmap(cm, cmap=plt.cm.Blues, annot=True, fmt='d', \n",
    "                xticklabels=sentiment_classes,\n",
    "                yticklabels=sentiment_classes)\n",
    "    plt.title('Confusion matrix', fontsize=16)\n",
    "    plt.xlabel('Actual label', fontsize=12)\n",
    "    plt.ylabel('Predicted label', fontsize=12)\n",
    "    \n",
    "plot_confusion_matrix(model, X_test, y_test)"
   ]
  },
  {
   "cell_type": "markdown",
   "metadata": {},
   "source": [
    "## Actual Training to create full model for sentiment analysis using full set of data<a class=\"anchor\" id=\"2.3\"></a>"
   ]
  },
  {
   "cell_type": "code",
   "execution_count": 18,
   "metadata": {},
   "outputs": [
    {
     "data": {
      "image/png": "[encoded data removed]",
      "text/plain": [
       "<IPython.core.display.Image object>"
      ]
     },
     "execution_count": 18,
     "metadata": {},
     "output_type": "execute_result"
    }
   ],
   "source": [
    "from keras.models import load_model\n",
    "\n",
    "# Load model\n",
    "model = load_model('tuned_model.h5')\n",
    "tf.keras.utils.plot_model(model, show_shapes=True)"
   ]
  },
  {
   "cell_type": "code",
   "execution_count": 19,
   "metadata": {
    "scrolled": true
   },
   "outputs": [
    {
     "name": "stdout",
     "output_type": "stream",
     "text": [
      "Epoch 1/100\n",
      "2925/2925 [==============================] - 52s 17ms/step - loss: 0.5667 - accuracy: 0.7656 - precision_1: 0.8220 - recall_1: 0.7041\n",
      "Epoch 2/100\n",
      "2925/2925 [==============================] - 50s 17ms/step - loss: 0.2734 - accuracy: 0.9110 - precision_1: 0.9225 - recall_1: 0.9001\n",
      "Epoch 3/100\n",
      "2925/2925 [==============================] - 50s 17ms/step - loss: 0.2370 - accuracy: 0.9256 - precision_1: 0.9349 - recall_1: 0.9169\n",
      "Epoch 4/100\n",
      "2925/2925 [==============================] - 50s 17ms/step - loss: 0.2190 - accuracy: 0.9325 - precision_1: 0.9407 - recall_1: 0.9249\n",
      "Epoch 5/100\n",
      "2925/2925 [==============================] - 50s 17ms/step - loss: 0.2048 - accuracy: 0.9375 - precision_1: 0.9446 - recall_1: 0.9311\n",
      "Epoch 6/100\n",
      "2925/2925 [==============================] - 50s 17ms/step - loss: 0.1948 - accuracy: 0.9404 - precision_1: 0.9468 - recall_1: 0.9346\n",
      "Epoch 7/100\n",
      "2925/2925 [==============================] - 50s 17ms/step - loss: 0.1865 - accuracy: 0.9433 - precision_1: 0.9488 - recall_1: 0.9378\n",
      "Epoch 8/100\n",
      "2925/2925 [==============================] - 50s 17ms/step - loss: 0.1769 - accuracy: 0.9462 - precision_1: 0.9514 - recall_1: 0.9416\n",
      "Epoch 9/100\n",
      "2925/2925 [==============================] - 50s 17ms/step - loss: 0.1684 - accuracy: 0.9492 - precision_1: 0.9541 - recall_1: 0.9448\n",
      "Epoch 10/100\n",
      "2925/2925 [==============================] - 50s 17ms/step - loss: 0.1609 - accuracy: 0.9512 - precision_1: 0.9561 - recall_1: 0.9472\n",
      "Epoch 11/100\n",
      "2925/2925 [==============================] - 50s 17ms/step - loss: 0.1542 - accuracy: 0.9536 - precision_1: 0.9582 - recall_1: 0.9497\n",
      "Epoch 12/100\n",
      "2925/2925 [==============================] - 50s 17ms/step - loss: 0.1471 - accuracy: 0.9558 - precision_1: 0.9601 - recall_1: 0.9520\n",
      "Epoch 13/100\n",
      "2925/2925 [==============================] - 50s 17ms/step - loss: 0.1407 - accuracy: 0.9582 - precision_1: 0.9620 - recall_1: 0.9547\n",
      "Epoch 14/100\n",
      "2925/2925 [==============================] - 50s 17ms/step - loss: 0.1342 - accuracy: 0.9598 - precision_1: 0.9636 - recall_1: 0.9564\n",
      "Epoch 15/100\n",
      "2925/2925 [==============================] - 50s 17ms/step - loss: 0.1278 - accuracy: 0.9618 - precision_1: 0.9654 - recall_1: 0.9589\n",
      "Epoch 16/100\n",
      "2925/2925 [==============================] - 50s 17ms/step - loss: 0.1215 - accuracy: 0.9636 - precision_1: 0.9669 - recall_1: 0.9605\n",
      "Epoch 17/100\n",
      "2925/2925 [==============================] - 50s 17ms/step - loss: 0.1155 - accuracy: 0.9659 - precision_1: 0.9689 - recall_1: 0.9632\n",
      "Epoch 18/100\n",
      "2925/2925 [==============================] - 50s 17ms/step - loss: 0.1090 - accuracy: 0.9677 - precision_1: 0.9705 - recall_1: 0.9651\n",
      "Epoch 19/100\n",
      "2925/2925 [==============================] - 50s 17ms/step - loss: 0.1037 - accuracy: 0.9690 - precision_1: 0.9717 - recall_1: 0.9665\n",
      "Epoch 20/100\n",
      "2925/2925 [==============================] - 50s 17ms/step - loss: 0.0990 - accuracy: 0.9706 - precision_1: 0.9732 - recall_1: 0.9685\n",
      "Epoch 21/100\n",
      "2925/2925 [==============================] - 50s 17ms/step - loss: 0.0922 - accuracy: 0.9729 - precision_1: 0.9752 - recall_1: 0.9708\n",
      "Epoch 22/100\n",
      "2925/2925 [==============================] - 50s 17ms/step - loss: 0.0899 - accuracy: 0.9733 - precision_1: 0.9753 - recall_1: 0.9712\n",
      "Epoch 23/100\n",
      "2925/2925 [==============================] - 50s 17ms/step - loss: 0.0882 - accuracy: 0.9738 - precision_1: 0.9758 - recall_1: 0.9720\n",
      "Epoch 24/100\n",
      "2925/2925 [==============================] - 50s 17ms/step - loss: 0.0819 - accuracy: 0.9758 - precision_1: 0.9777 - recall_1: 0.9742\n",
      "Epoch 25/100\n",
      "2925/2925 [==============================] - 50s 17ms/step - loss: 0.0743 - accuracy: 0.9780 - precision_1: 0.9798 - recall_1: 0.9766\n",
      "Epoch 26/100\n",
      "2925/2925 [==============================] - 50s 17ms/step - loss: 0.0696 - accuracy: 0.9794 - precision_1: 0.9810 - recall_1: 0.9780\n",
      "Epoch 27/100\n",
      "2925/2925 [==============================] - 50s 17ms/step - loss: 0.0646 - accuracy: 0.9810 - precision_1: 0.9825 - recall_1: 0.9797\n",
      "Epoch 28/100\n",
      "2925/2925 [==============================] - 50s 17ms/step - loss: 0.0604 - accuracy: 0.9824 - precision_1: 0.9837 - recall_1: 0.9812\n",
      "Epoch 29/100\n",
      "2925/2925 [==============================] - 50s 17ms/step - loss: 0.0563 - accuracy: 0.9836 - precision_1: 0.9848 - recall_1: 0.9825\n",
      "Epoch 30/100\n",
      "2925/2925 [==============================] - 50s 17ms/step - loss: 0.0537 - accuracy: 0.9842 - precision_1: 0.9852 - recall_1: 0.9832\n",
      "Epoch 31/100\n",
      "2925/2925 [==============================] - 50s 17ms/step - loss: 0.0522 - accuracy: 0.9844 - precision_1: 0.9855 - recall_1: 0.9834\n",
      "Epoch 32/100\n",
      "2925/2925 [==============================] - 50s 17ms/step - loss: 0.0483 - accuracy: 0.9859 - precision_1: 0.9867 - recall_1: 0.9849\n",
      "Epoch 33/100\n",
      "2925/2925 [==============================] - 50s 17ms/step - loss: 0.0430 - accuracy: 0.9875 - precision_1: 0.9883 - recall_1: 0.9868\n",
      "Epoch 34/100\n",
      "2925/2925 [==============================] - 50s 17ms/step - loss: 0.0417 - accuracy: 0.9883 - precision_1: 0.9890 - recall_1: 0.9876\n",
      "Epoch 35/100\n",
      "2925/2925 [==============================] - 50s 17ms/step - loss: 0.0381 - accuracy: 0.9891 - precision_1: 0.9898 - recall_1: 0.9884\n",
      "Epoch 36/100\n",
      "2925/2925 [==============================] - 50s 17ms/step - loss: 0.0376 - accuracy: 0.9889 - precision_1: 0.9896 - recall_1: 0.9883\n",
      "Epoch 37/100\n",
      "2925/2925 [==============================] - 50s 17ms/step - loss: 0.0354 - accuracy: 0.9896 - precision_1: 0.9902 - recall_1: 0.9889\n",
      "Epoch 38/100\n",
      "2925/2925 [==============================] - 50s 17ms/step - loss: 0.0330 - accuracy: 0.9907 - precision_1: 0.9913 - recall_1: 0.9901\n",
      "Epoch 39/100\n",
      "2925/2925 [==============================] - 50s 17ms/step - loss: 0.0324 - accuracy: 0.9907 - precision_1: 0.9913 - recall_1: 0.9902\n",
      "Epoch 40/100\n",
      "2925/2925 [==============================] - 50s 17ms/step - loss: 0.0286 - accuracy: 0.9918 - precision_1: 0.9924 - recall_1: 0.9914\n",
      "Epoch 41/100\n",
      "2925/2925 [==============================] - 50s 17ms/step - loss: 0.0273 - accuracy: 0.9921 - precision_1: 0.9926 - recall_1: 0.9916\n",
      "Epoch 42/100\n",
      "2925/2925 [==============================] - 50s 17ms/step - loss: 0.0284 - accuracy: 0.9916 - precision_1: 0.9921 - recall_1: 0.9911\n",
      "Epoch 43/100\n",
      "2925/2925 [==============================] - 50s 17ms/step - loss: 0.0251 - accuracy: 0.9929 - precision_1: 0.9933 - recall_1: 0.9925\n",
      "Epoch 44/100\n",
      "2925/2925 [==============================] - 50s 17ms/step - loss: 0.0222 - accuracy: 0.9938 - precision_1: 0.9942 - recall_1: 0.9934\n",
      "Epoch 45/100\n",
      "2925/2925 [==============================] - 50s 17ms/step - loss: 0.0219 - accuracy: 0.9940 - precision_1: 0.9943 - recall_1: 0.9937\n",
      "Epoch 46/100\n",
      "2925/2925 [==============================] - 50s 17ms/step - loss: 0.0216 - accuracy: 0.9940 - precision_1: 0.9943 - recall_1: 0.9937\n",
      "Epoch 47/100\n",
      "2925/2925 [==============================] - 50s 17ms/step - loss: 0.0183 - accuracy: 0.9950 - precision_1: 0.9952 - recall_1: 0.9947\n",
      "Epoch 48/100\n",
      "2925/2925 [==============================] - 50s 17ms/step - loss: 0.0168 - accuracy: 0.9956 - precision_1: 0.9958 - recall_1: 0.9953\n",
      "Epoch 49/100\n",
      "2925/2925 [==============================] - 50s 17ms/step - loss: 0.0235 - accuracy: 0.9933 - precision_1: 0.9936 - recall_1: 0.9930\n",
      "Epoch 50/100\n",
      "2925/2925 [==============================] - 50s 17ms/step - loss: 0.0165 - accuracy: 0.9955 - precision_1: 0.9957 - recall_1: 0.9953\n",
      "Epoch 51/100\n",
      "2925/2925 [==============================] - 50s 17ms/step - loss: 0.0134 - accuracy: 0.9966 - precision_1: 0.9967 - recall_1: 0.9964\n",
      "Epoch 52/100\n",
      "2925/2925 [==============================] - 50s 17ms/step - loss: 0.0116 - accuracy: 0.9971 - precision_1: 0.9972 - recall_1: 0.9970\n",
      "Epoch 53/100\n",
      "2925/2925 [==============================] - 50s 17ms/step - loss: 0.0112 - accuracy: 0.9972 - precision_1: 0.9974 - recall_1: 0.9971\n",
      "Epoch 54/100\n",
      "2925/2925 [==============================] - 50s 17ms/step - loss: 0.0121 - accuracy: 0.9969 - precision_1: 0.9970 - recall_1: 0.9967\n",
      "Epoch 55/100\n",
      "2925/2925 [==============================] - 50s 17ms/step - loss: 0.0102 - accuracy: 0.9975 - precision_1: 0.9976 - recall_1: 0.9973\n",
      "Epoch 56/100\n",
      "2925/2925 [==============================] - 50s 17ms/step - loss: 0.0089 - accuracy: 0.9979 - precision_1: 0.9980 - recall_1: 0.9978\n",
      "Epoch 57/100\n",
      "2925/2925 [==============================] - 50s 17ms/step - loss: 0.0081 - accuracy: 0.9982 - precision_1: 0.9983 - recall_1: 0.9980\n",
      "Epoch 58/100\n",
      "2925/2925 [==============================] - 50s 17ms/step - loss: 0.0076 - accuracy: 0.9982 - precision_1: 0.9983 - recall_1: 0.9981\n",
      "Epoch 59/100\n",
      "2925/2925 [==============================] - 50s 17ms/step - loss: 0.0072 - accuracy: 0.9983 - precision_1: 0.9984 - recall_1: 0.9982\n",
      "Epoch 60/100\n",
      "2925/2925 [==============================] - 50s 17ms/step - loss: 0.0070 - accuracy: 0.9983 - precision_1: 0.9984 - recall_1: 0.9983\n",
      "Epoch 61/100\n",
      "2925/2925 [==============================] - 50s 17ms/step - loss: 0.0066 - accuracy: 0.9985 - precision_1: 0.9985 - recall_1: 0.9983\n",
      "Epoch 62/100\n",
      "2925/2925 [==============================] - 50s 17ms/step - loss: 0.0062 - accuracy: 0.9985 - precision_1: 0.9986 - recall_1: 0.9984\n",
      "Epoch 63/100\n",
      "2925/2925 [==============================] - 50s 17ms/step - loss: 0.0060 - accuracy: 0.9985 - precision_1: 0.9986 - recall_1: 0.9985\n",
      "Epoch 64/100\n",
      "2925/2925 [==============================] - 50s 17ms/step - loss: 0.0057 - accuracy: 0.9986 - precision_1: 0.9987 - recall_1: 0.9985\n",
      "Epoch 65/100\n",
      "2925/2925 [==============================] - 50s 17ms/step - loss: 0.0054 - accuracy: 0.9987 - precision_1: 0.9988 - recall_1: 0.9986\n",
      "Epoch 66/100\n",
      "2925/2925 [==============================] - 50s 17ms/step - loss: 0.0052 - accuracy: 0.9988 - precision_1: 0.9989 - recall_1: 0.9987\n",
      "Epoch 67/100\n",
      "2925/2925 [==============================] - 50s 17ms/step - loss: 0.0051 - accuracy: 0.9987 - precision_1: 0.9988 - recall_1: 0.9987\n",
      "Epoch 68/100\n",
      "2925/2925 [==============================] - 50s 17ms/step - loss: 0.0049 - accuracy: 0.9988 - precision_1: 0.9989 - recall_1: 0.9987\n",
      "Epoch 69/100\n",
      "2925/2925 [==============================] - 50s 17ms/step - loss: 0.0048 - accuracy: 0.9988 - precision_1: 0.9989 - recall_1: 0.9987\n",
      "Epoch 70/100\n",
      "2925/2925 [==============================] - 50s 17ms/step - loss: 0.0046 - accuracy: 0.9988 - precision_1: 0.9989 - recall_1: 0.9988\n",
      "Epoch 71/100\n",
      "2925/2925 [==============================] - 50s 17ms/step - loss: 0.0045 - accuracy: 0.9988 - precision_1: 0.9989 - recall_1: 0.9988\n",
      "Epoch 72/100\n",
      "2925/2925 [==============================] - 50s 17ms/step - loss: 0.0043 - accuracy: 0.9989 - precision_1: 0.9990 - recall_1: 0.9988\n",
      "Epoch 73/100\n",
      "2925/2925 [==============================] - 50s 17ms/step - loss: 0.0046 - accuracy: 0.9989 - precision_1: 0.9989 - recall_1: 0.9988\n",
      "Epoch 74/100\n",
      "2925/2925 [==============================] - 50s 17ms/step - loss: 0.0045 - accuracy: 0.9989 - precision_1: 0.9989 - recall_1: 0.9988\n",
      "Epoch 75/100\n",
      "2925/2925 [==============================] - 50s 17ms/step - loss: 0.0045 - accuracy: 0.9988 - precision_1: 0.9989 - recall_1: 0.9988\n",
      "Epoch 76/100\n",
      "2925/2925 [==============================] - 50s 17ms/step - loss: 0.0053 - accuracy: 0.9987 - precision_1: 0.9987 - recall_1: 0.9986\n",
      "Epoch 77/100\n",
      "2925/2925 [==============================] - 50s 17ms/step - loss: 0.0063 - accuracy: 0.9983 - precision_1: 0.9984 - recall_1: 0.9983\n"
     ]
    }
   ],
   "source": [
    "# # Compile model\n",
    "# model.compile(loss='categorical_crossentropy', optimizer=sgd, \n",
    "#                metrics=['accuracy','val_loss', Precision(), Recall()])\n",
    "\n",
    "# # Train model\n",
    "y = pd.get_dummies(die['category'])\n",
    "X =sequences\n",
    "batch_size = 64\n",
    "stop_early=tf.keras.callbacks.EarlyStopping(monitor='loss',patience=5)\n",
    "history = model.fit(X, y,\n",
    "                      batch_size=batch_size, epochs=100, verbose=1,callbacks=[stop_early])"
   ]
  },
  {
   "cell_type": "code",
   "execution_count": 10,
   "metadata": {},
   "outputs": [
    {
     "data": {
      "text/plain": [
       "array([[1, 0, 0],\n",
       "       [0, 1, 0],\n",
       "       [0, 0, 1],\n",
       "       ...,\n",
       "       [1, 0, 0],\n",
       "       [1, 0, 0],\n",
       "       [1, 0, 0]], dtype=uint8)"
      ]
     },
     "execution_count": 10,
     "metadata": {},
     "output_type": "execute_result"
    }
   ],
   "source": [
    "y = pd.get_dummies(die['category']).to_numpy()\n",
    "y"
   ]
  },
  {
   "cell_type": "code",
   "execution_count": 12,
   "metadata": {},
   "outputs": [
    {
     "data": {
      "text/plain": [
       "array([[  41,    1,  351, ...,    0,    0,    0],\n",
       "       [ 315,   16,    2, ...,    0,    0,    0],\n",
       "       [  25,   53,   39, ...,    0,    0,    0],\n",
       "       ...,\n",
       "       [1446,  981, 2450, ...,    0,    0,    0],\n",
       "       [1031,  903,   58, ...,    0,    0,    0],\n",
       "       [ 903,   63, 1380, ...,    0,    0,    0]], dtype=int32)"
      ]
     },
     "execution_count": 12,
     "metadata": {},
     "output_type": "execute_result"
    }
   ],
   "source": [
    "X =sequences\n",
    "X"
   ]
  },
  {
   "cell_type": "code",
   "execution_count": 130,
   "metadata": {},
   "outputs": [
    {
     "name": "stdout",
     "output_type": "stream",
     "text": [
      "Best model saved\n"
     ]
    }
   ],
   "source": [
    "# Save the model architecture & the weights\n",
    "modelb.save('opinio.h5')\n",
    "print('Best model saved')"
   ]
  },
  {
   "cell_type": "markdown",
   "metadata": {},
   "source": [
    "# Testing Model<a class=\"anchor\" id=\"three\"></a>\n",
    "[Contents Page](#m)"
   ]
  },
  {
   "cell_type": "code",
   "execution_count": 143,
   "metadata": {},
   "outputs": [],
   "source": [
    "from keras.models import load_model\n",
    "\n",
    "# Load model\n",
    "model = load_model('opinio.h5')\n",
    "\n",
    "def predict_class(text):\n",
    "    '''Function to predict sentiment class of the passed text'''\n",
    "    \n",
    "    sentiment_classes = ['opinionated','neutral']\n",
    "    max_len=63\n",
    "    \n",
    "    # Transforms text to a sequence of integers using a tokenizer object\n",
    "    xt = tokenizer.texts_to_sequences(text)\n",
    "    # Pad sequences to the same length\n",
    "    xt = pad_sequences(xt, padding='post', maxlen=max_len)\n",
    "    # Do the prediction using the loaded model\n",
    "    yt = model.predict(xt)#.argmax(axis=1)\n",
    "    # Print the predicted sentiment\n",
    "    print(yt[0][0])\n",
    "    if yt[0][0]<0.5:\n",
    "        print('The predicted sentiment is', sentiment_classes[0])\n",
    "    else:\n",
    "        print('The predicted sentiment is', sentiment_classes[1])\n"
   ]
  },
  {
   "cell_type": "code",
   "execution_count": 144,
   "metadata": {},
   "outputs": [
    {
     "name": "stdout",
     "output_type": "stream",
     "text": [
      "0.9664272\n",
      "The predicted sentiment is neutral\n"
     ]
    }
   ],
   "source": [
    "predict_class(['I have exams'])"
   ]
  },
  {
   "cell_type": "code",
   "execution_count": 145,
   "metadata": {},
   "outputs": [
    {
     "name": "stdout",
     "output_type": "stream",
     "text": [
      "0.020236313\n",
      "The predicted sentiment is opinionated\n"
     ]
    }
   ],
   "source": [
    "predict_class(['I hate exams'])"
   ]
  },
  {
   "cell_type": "code",
   "execution_count": null,
   "metadata": {},
   "outputs": [],
   "source": []
  },
  {
   "cell_type": "code",
   "execution_count": 22,
   "metadata": {},
   "outputs": [
    {
     "name": "stdout",
     "output_type": "stream",
     "text": [
      "The predicted sentiment is negative\n"
     ]
    },
    {
     "data": {
      "text/plain": [
       "'negative'"
      ]
     },
     "execution_count": 22,
     "metadata": {},
     "output_type": "execute_result"
    }
   ],
   "source": [
    "predict_class(['I hate exams'])"
   ]
  },
  {
   "cell_type": "code",
   "execution_count": 24,
   "metadata": {},
   "outputs": [
    {
     "name": "stdout",
     "output_type": "stream",
     "text": [
      "The predicted sentiment is neutral\n"
     ]
    },
    {
     "data": {
      "text/plain": [
       "'neutral'"
      ]
     },
     "execution_count": 24,
     "metadata": {},
     "output_type": "execute_result"
    }
   ],
   "source": [
    "predict_class(['I am kinda hungry'])"
   ]
  },
  {
   "cell_type": "code",
   "execution_count": 26,
   "metadata": {},
   "outputs": [
    {
     "name": "stdout",
     "output_type": "stream",
     "text": [
      "The predicted sentiment is neutral\n"
     ]
    },
    {
     "data": {
      "text/plain": [
       "'neutral'"
      ]
     },
     "execution_count": 26,
     "metadata": {},
     "output_type": "execute_result"
    }
   ],
   "source": [
    "predict_class(['The Hope is me'])"
   ]
  },
  {
   "cell_type": "code",
   "execution_count": 27,
   "metadata": {},
   "outputs": [
    {
     "name": "stdout",
     "output_type": "stream",
     "text": [
      "The predicted sentiment is positive\n"
     ]
    },
    {
     "data": {
      "text/plain": [
       "'positive'"
      ]
     },
     "execution_count": 27,
     "metadata": {},
     "output_type": "execute_result"
    }
   ],
   "source": [
    "predict_class(['The people are excited about the future'])"
   ]
  }
 ],
 "metadata": {
  "kernelspec": {
   "display_name": "Python 3 (ipykernel)",
   "language": "python",
   "name": "python3"
  },
  "language_info": {
   "codemirror_mode": {
    "name": "ipython",
    "version": 3
   },
   "file_extension": ".py",
   "mimetype": "text/x-python",
   "name": "python",
   "nbconvert_exporter": "python",
   "pygments_lexer": "ipython3",
   "version": "3.8.5"
  },
  "papermill": {
   "default_parameters": {},
   "duration": 36.897585,
   "end_time": "2021-02-02T22:54:47.243365",
   "environment_variables": {},
   "exception": null,
   "input_path": "__notebook__.ipynb",
   "output_path": "__notebook__.ipynb",
   "parameters": {},
   "start_time": "2021-02-02T22:54:10.345780",
   "version": "2.2.2"
  }
 },
 "nbformat": 4,
 "nbformat_minor": 4
}
