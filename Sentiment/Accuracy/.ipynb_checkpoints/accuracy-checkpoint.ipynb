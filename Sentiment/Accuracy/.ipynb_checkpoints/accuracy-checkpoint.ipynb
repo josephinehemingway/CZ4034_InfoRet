{
 "cells": [
  {
   "cell_type": "code",
   "execution_count": 1,
   "id": "974b203a",
   "metadata": {},
   "outputs": [],
   "source": [
    "import numpy as np\n",
    "import pandas as pd\n",
    "from sklearn.metrics import precision_recall_fscore_support, accuracy_score"
   ]
  },
  {
   "cell_type": "markdown",
   "id": "e60a0840",
   "metadata": {},
   "source": [
    "<h1> Raw Text"
   ]
  },
  {
   "cell_type": "code",
   "execution_count": 2,
   "id": "306e3bdd",
   "metadata": {},
   "outputs": [
    {
     "data": {
      "text/html": [
       "<div>\n",
       "<style scoped>\n",
       "    .dataframe tbody tr th:only-of-type {\n",
       "        vertical-align: middle;\n",
       "    }\n",
       "\n",
       "    .dataframe tbody tr th {\n",
       "        vertical-align: top;\n",
       "    }\n",
       "\n",
       "    .dataframe thead th {\n",
       "        text-align: right;\n",
       "    }\n",
       "</style>\n",
       "<table border=\"1\" class=\"dataframe\">\n",
       "  <thead>\n",
       "    <tr style=\"text-align: right;\">\n",
       "      <th></th>\n",
       "      <th>Unnamed: 0</th>\n",
       "      <th>text</th>\n",
       "      <th>label</th>\n",
       "      <th>cleaned_text</th>\n",
       "      <th>stem</th>\n",
       "      <th>pred</th>\n",
       "      <th>pred_opi</th>\n",
       "    </tr>\n",
       "  </thead>\n",
       "  <tbody>\n",
       "    <tr>\n",
       "      <th>0</th>\n",
       "      <td>0</td>\n",
       "      <td>Mmmm yes, forward thinking, like underground t...</td>\n",
       "      <td>-1</td>\n",
       "      <td>mmmm yes forward thinking like underground tub...</td>\n",
       "      <td>mmmm ye forward think like underground tube ca...</td>\n",
       "      <td>0</td>\n",
       "      <td>1</td>\n",
       "    </tr>\n",
       "    <tr>\n",
       "      <th>1</th>\n",
       "      <td>1</td>\n",
       "      <td>Probably not. It's like if attaching horse to ...</td>\n",
       "      <td>0</td>\n",
       "      <td>probably like attaching horse automobile would...</td>\n",
       "      <td>probabl like attach hors automobil would save ...</td>\n",
       "      <td>0</td>\n",
       "      <td>na</td>\n",
       "    </tr>\n",
       "    <tr>\n",
       "      <th>2</th>\n",
       "      <td>2</td>\n",
       "      <td>Cool in any decade ever! A rocket going to spa...</td>\n",
       "      <td>1</td>\n",
       "      <td>cool decade ever rocket going space come would...</td>\n",
       "      <td>cool decad ever rocket go space come would imp...</td>\n",
       "      <td>1</td>\n",
       "      <td>1</td>\n",
       "    </tr>\n",
       "    <tr>\n",
       "      <th>3</th>\n",
       "      <td>3</td>\n",
       "      <td>He is on of the most famous people out there, ...</td>\n",
       "      <td>1</td>\n",
       "      <td>famous people like steve jobs never used among...</td>\n",
       "      <td>famou peopl like steve job never use among peo...</td>\n",
       "      <td>1</td>\n",
       "      <td>1</td>\n",
       "    </tr>\n",
       "    <tr>\n",
       "      <th>4</th>\n",
       "      <td>4</td>\n",
       "      <td>The **average** rent for an apartment in Los A...</td>\n",
       "      <td>1</td>\n",
       "      <td>average rent apartment los angeles 2786 month ...</td>\n",
       "      <td>averag rent apart lo angel 2786 month tesla lo...</td>\n",
       "      <td>1</td>\n",
       "      <td>0</td>\n",
       "    </tr>\n",
       "    <tr>\n",
       "      <th>...</th>\n",
       "      <td>...</td>\n",
       "      <td>...</td>\n",
       "      <td>...</td>\n",
       "      <td>...</td>\n",
       "      <td>...</td>\n",
       "      <td>...</td>\n",
       "      <td>...</td>\n",
       "    </tr>\n",
       "    <tr>\n",
       "      <th>998</th>\n",
       "      <td>595</td>\n",
       "      <td>@elonmusk Finish Neuralink so humans can compete.</td>\n",
       "      <td>0</td>\n",
       "      <td>elonmusk finish neuralink humans compete</td>\n",
       "      <td>elonmusk finish neuralink human compet</td>\n",
       "      <td>0</td>\n",
       "      <td>na</td>\n",
       "    </tr>\n",
       "    <tr>\n",
       "      <th>999</th>\n",
       "      <td>596</td>\n",
       "      <td>I hated every minute of training, but I said, ...</td>\n",
       "      <td>1</td>\n",
       "      <td>hated every minute training said dont quit suf...</td>\n",
       "      <td>hate everi minut train said dont quit suffer l...</td>\n",
       "      <td>1</td>\n",
       "      <td>1</td>\n",
       "    </tr>\n",
       "    <tr>\n",
       "      <th>1000</th>\n",
       "      <td>597</td>\n",
       "      <td>Wth is this @elonmusk 😭😭 https://t.co/hbXL3WZpMf</td>\n",
       "      <td>-1</td>\n",
       "      <td>wth elonmusk loudlycryingface loudlycryingface</td>\n",
       "      <td>wth elonmusk loudlycryingfac loudlycryingfac</td>\n",
       "      <td>0</td>\n",
       "      <td>1</td>\n",
       "    </tr>\n",
       "    <tr>\n",
       "      <th>1001</th>\n",
       "      <td>598</td>\n",
       "      <td>@DerpyMudkip02 @DasNaga1 @JoeBiden @MichelleOb...</td>\n",
       "      <td>0</td>\n",
       "      <td>derpymudkip02 dasnaga1 joebiden michelleobama ...</td>\n",
       "      <td>derpymudkip02 dasnaga1 joebiden michelleobama ...</td>\n",
       "      <td>0</td>\n",
       "      <td>na</td>\n",
       "    </tr>\n",
       "    <tr>\n",
       "      <th>1002</th>\n",
       "      <td>599</td>\n",
       "      <td>@elonmusk What can go wrong?</td>\n",
       "      <td>-1</td>\n",
       "      <td>elonmusk go wrong</td>\n",
       "      <td>elonmusk go wrong</td>\n",
       "      <td>1</td>\n",
       "      <td>0</td>\n",
       "    </tr>\n",
       "  </tbody>\n",
       "</table>\n",
       "<p>1003 rows × 7 columns</p>\n",
       "</div>"
      ],
      "text/plain": [
       "      Unnamed: 0                                               text  label  \\\n",
       "0              0  Mmmm yes, forward thinking, like underground t...     -1   \n",
       "1              1  Probably not. It's like if attaching horse to ...      0   \n",
       "2              2  Cool in any decade ever! A rocket going to spa...      1   \n",
       "3              3  He is on of the most famous people out there, ...      1   \n",
       "4              4  The **average** rent for an apartment in Los A...      1   \n",
       "...          ...                                                ...    ...   \n",
       "998          595  @elonmusk Finish Neuralink so humans can compete.      0   \n",
       "999          596  I hated every minute of training, but I said, ...      1   \n",
       "1000         597   Wth is this @elonmusk 😭😭 https://t.co/hbXL3WZpMf     -1   \n",
       "1001         598  @DerpyMudkip02 @DasNaga1 @JoeBiden @MichelleOb...      0   \n",
       "1002         599                       @elonmusk What can go wrong?     -1   \n",
       "\n",
       "                                           cleaned_text  \\\n",
       "0     mmmm yes forward thinking like underground tub...   \n",
       "1     probably like attaching horse automobile would...   \n",
       "2     cool decade ever rocket going space come would...   \n",
       "3     famous people like steve jobs never used among...   \n",
       "4     average rent apartment los angeles 2786 month ...   \n",
       "...                                                 ...   \n",
       "998            elonmusk finish neuralink humans compete   \n",
       "999   hated every minute training said dont quit suf...   \n",
       "1000     wth elonmusk loudlycryingface loudlycryingface   \n",
       "1001  derpymudkip02 dasnaga1 joebiden michelleobama ...   \n",
       "1002                                  elonmusk go wrong   \n",
       "\n",
       "                                                   stem  pred pred_opi  \n",
       "0     mmmm ye forward think like underground tube ca...     0        1  \n",
       "1     probabl like attach hors automobil would save ...     0       na  \n",
       "2     cool decad ever rocket go space come would imp...     1        1  \n",
       "3     famou peopl like steve job never use among peo...     1        1  \n",
       "4     averag rent apart lo angel 2786 month tesla lo...     1        0  \n",
       "...                                                 ...   ...      ...  \n",
       "998              elonmusk finish neuralink human compet     0       na  \n",
       "999   hate everi minut train said dont quit suffer l...     1        1  \n",
       "1000       wth elonmusk loudlycryingfac loudlycryingfac     0        1  \n",
       "1001  derpymudkip02 dasnaga1 joebiden michelleobama ...     0       na  \n",
       "1002                                  elonmusk go wrong     1        0  \n",
       "\n",
       "[1003 rows x 7 columns]"
      ]
     },
     "execution_count": 2,
     "metadata": {},
     "output_type": "execute_result"
    }
   ],
   "source": [
    "text = pd.read_csv('df_text_predictions.csv', header=0)\n",
    "text"
   ]
  },
  {
   "cell_type": "code",
   "execution_count": 3,
   "id": "30eb77e6",
   "metadata": {},
   "outputs": [
    {
     "data": {
      "text/plain": [
       "array([1, 0, 1, ..., 1, 0, 1], dtype=int64)"
      ]
     },
     "execution_count": 3,
     "metadata": {},
     "output_type": "execute_result"
    }
   ],
   "source": [
    "y_true = text.copy()\n",
    "y_true['label'] = y_true['label'].replace([-1, 1], 1)\n",
    "\n",
    "y_true = y_true[\"label\"].to_numpy()\n",
    "y_true"
   ]
  },
  {
   "cell_type": "code",
   "execution_count": 4,
   "id": "ad81188e",
   "metadata": {},
   "outputs": [
    {
     "data": {
      "text/plain": [
       "array([0, 0, 1, ..., 0, 0, 1], dtype=int64)"
      ]
     },
     "execution_count": 4,
     "metadata": {},
     "output_type": "execute_result"
    }
   ],
   "source": [
    "y_pred = text['pred'].to_numpy()\n",
    "y_pred"
   ]
  },
  {
   "cell_type": "code",
   "execution_count": 5,
   "id": "f96f310f",
   "metadata": {},
   "outputs": [
    {
     "name": "stdout",
     "output_type": "stream",
     "text": [
      "\n",
      "precision = 0.6000, recall = 0.4854, F1 = 0.5366, accuracy = 0.5713\n",
      "\n"
     ]
    }
   ],
   "source": [
    "report_lr = precision_recall_fscore_support(y_true, y_pred, average='binary')\n",
    "print (\"\\nprecision = %0.4f, recall = %0.4f, F1 = %0.4f, accuracy = %0.4f\\n\" % \\\n",
    "           (report_lr[0], report_lr[1], report_lr[2], accuracy_score(y_true, y_pred)))"
   ]
  },
  {
   "cell_type": "markdown",
   "id": "2d93e981",
   "metadata": {},
   "source": [
    "<h3> Opiniated"
   ]
  },
  {
   "cell_type": "code",
   "execution_count": 13,
   "id": "f9d0c95e",
   "metadata": {
    "scrolled": true
   },
   "outputs": [],
   "source": [
    "y_true = text.copy()\n",
    "#y_true['label'] = y_true['label'].replace([-1], 2)\n",
    "y_true = y_true[\"label\"].to_numpy()\n",
    "y_true = y_true[y_true != 0]\n",
    "y_true[y_true == -1] = 0"
   ]
  },
  {
   "cell_type": "code",
   "execution_count": 14,
   "id": "254732b4",
   "metadata": {},
   "outputs": [
    {
     "name": "stderr",
     "output_type": "stream",
     "text": [
      "C:\\Users\\Trevor\\AppData\\Local\\Temp\\ipykernel_3004\\2928068629.py:4: DeprecationWarning: `np.int` is a deprecated alias for the builtin `int`. To silence this warning, use `int` by itself. Doing this will not modify any behavior and is safe. When replacing `np.int`, you may wish to use e.g. `np.int64` or `np.int32` to specify the precision. If you wish to review your current use, check the release note link for additional information.\n",
      "Deprecated in NumPy 1.20; for more details and guidance: https://numpy.org/devdocs/release/1.20.0-notes.html#deprecations\n",
      "  y_pred = y_pred.astype(np.int)\n"
     ]
    },
    {
     "data": {
      "text/plain": [
       "array([1, 1, 1, 0, 0, 0, 1, 0, 1, 0, 1, 1, 0, 1, 0, 0, 1, 0, 1, 1, 0, 0,\n",
       "       0, 1, 1, 1, 0, 0, 1, 0, 1, 1, 0, 1, 0, 1, 0, 1, 1, 1, 1, 1, 1, 1,\n",
       "       1, 0, 1, 0, 1, 1, 0, 1, 0, 1, 1, 1, 1, 1, 1, 1, 0, 0, 0, 1, 0, 0,\n",
       "       1, 0, 0, 1, 1, 0, 0, 1, 1, 1, 0, 0, 0, 0, 1, 0, 0, 1, 1, 0, 0, 1,\n",
       "       1, 0, 0, 1, 1, 1, 1, 1, 0, 1, 1, 1, 1, 0, 1, 0, 1, 1, 1, 0, 1, 0,\n",
       "       1, 0, 0, 1, 1, 1, 1, 0, 1, 1, 1, 0, 0, 1, 1, 1, 1, 1, 0, 0, 1, 0,\n",
       "       0, 0, 0, 0, 1, 1, 0, 1, 0, 1, 1, 0, 1, 1, 1, 0, 1, 1, 1, 1, 1, 1,\n",
       "       1, 1, 1, 1, 0, 1, 1, 1, 1, 0, 1, 0, 0, 1, 0, 0, 1, 0, 0, 0, 1, 0,\n",
       "       0, 1, 0, 0, 0, 0, 1, 0, 0, 1, 1, 1, 0, 1, 1, 0, 0, 1, 1, 1, 1, 1,\n",
       "       1, 1, 0, 1, 0, 0, 1, 1, 1, 0, 0, 1, 1, 1, 1, 0, 0, 1, 1, 1, 0, 0,\n",
       "       1, 0, 0, 0, 0, 1, 0, 0, 0, 1, 0, 1, 1, 1, 1, 0, 1, 1, 1, 0, 0, 1,\n",
       "       1, 1, 1, 1, 0, 0, 1, 1, 1, 1, 1, 0, 1, 1, 1, 1, 0, 1, 1, 1, 1, 1,\n",
       "       1, 0, 1, 1, 1, 1, 1, 1, 0, 1, 1, 1, 1, 0, 1, 1, 1, 1, 0, 1, 1, 0,\n",
       "       1, 1, 1, 0, 1, 0, 0, 0, 1, 0, 0, 0, 1, 0, 0, 0, 1, 0, 1, 0, 0, 1,\n",
       "       0, 1, 1, 0, 0, 1, 1, 0, 0, 0, 1, 1, 0, 1, 1, 1, 0, 1, 1, 1, 1, 1,\n",
       "       1, 1, 0, 0, 1, 0, 1, 1, 1, 0, 0, 1, 1, 0, 0, 0, 1, 1, 1, 0, 1, 1,\n",
       "       1, 0, 1, 0, 0, 1, 0, 0, 0, 1, 1, 1, 1, 0, 0, 1, 1, 0, 1, 0, 1, 0,\n",
       "       1, 1, 1, 1, 1, 1, 0, 0, 1, 1, 1, 1, 1, 1, 0, 1, 1, 1, 1, 1, 1, 0,\n",
       "       1, 1, 1, 1, 1, 0, 1, 0, 0, 1, 0, 1, 1, 0, 1, 1, 1, 0, 1, 0, 1, 1,\n",
       "       1, 1, 1, 0, 1, 0, 1, 0, 1, 0, 1, 1, 0, 1, 1, 1, 0, 0, 0, 0, 0, 1,\n",
       "       1, 1, 1, 1, 1, 1, 0, 0, 0, 1, 1, 0, 1, 1, 1, 1, 1, 0, 1, 0, 0, 0,\n",
       "       1, 1, 1, 0, 0, 1, 1, 1, 1, 1, 1, 0, 1, 1, 0, 0, 0, 0, 1, 1, 0, 1,\n",
       "       1, 1, 1, 0, 1, 0, 1, 0, 0, 0, 0, 1, 1, 1, 1, 1, 1, 1, 0, 0, 0, 1,\n",
       "       1, 1, 0, 1, 1, 1, 0])"
      ]
     },
     "execution_count": 14,
     "metadata": {},
     "output_type": "execute_result"
    }
   ],
   "source": [
    "y_pred = text.copy()\n",
    "y_pred = y_pred[\"pred_opi\"].to_numpy()\n",
    "y_pred = y_pred[y_pred != 'na']\n",
    "y_pred = y_pred.astype(np.int)\n",
    "y_pred"
   ]
  },
  {
   "cell_type": "code",
   "execution_count": 15,
   "id": "6c14bd55",
   "metadata": {},
   "outputs": [
    {
     "name": "stdout",
     "output_type": "stream",
     "text": [
      "\n",
      "precision = 0.4824, recall = 0.7056, F1 = 0.5731, accuracy = 0.5614\n",
      "\n"
     ]
    }
   ],
   "source": [
    "report_lr = precision_recall_fscore_support(y_true, y_pred, average='binary')\n",
    "print (\"\\nprecision = %0.4f, recall = %0.4f, F1 = %0.4f, accuracy = %0.4f\\n\" % \\\n",
    "           (report_lr[0], report_lr[1], report_lr[2], accuracy_score(y_true, y_pred)))"
   ]
  },
  {
   "cell_type": "code",
   "execution_count": null,
   "id": "813108bf",
   "metadata": {},
   "outputs": [],
   "source": []
  },
  {
   "cell_type": "code",
   "execution_count": null,
   "id": "cea20321",
   "metadata": {},
   "outputs": [],
   "source": []
  },
  {
   "cell_type": "code",
   "execution_count": null,
   "id": "6a669523",
   "metadata": {},
   "outputs": [],
   "source": []
  },
  {
   "cell_type": "markdown",
   "id": "94687610",
   "metadata": {},
   "source": [
    "<h1> Cleaned text"
   ]
  },
  {
   "cell_type": "code",
   "execution_count": 16,
   "id": "1779195b",
   "metadata": {},
   "outputs": [
    {
     "name": "stdout",
     "output_type": "stream",
     "text": [
      "\n",
      "precision = 0.6294, recall = 0.5595, F1 = 0.5924, accuracy = 0.6062\n",
      "\n"
     ]
    }
   ],
   "source": [
    "text = pd.read_csv('df_cleaned_text_predictions.csv', header=0)\n",
    "y_true = text.copy()\n",
    "y_true['label'] = y_true['label'].replace([-1, 1], 1)\n",
    "y_true = y_true[\"label\"].to_numpy()\n",
    "y_pred = text['pred'].to_numpy()\n",
    "precision_recall_fscore_support(y_true, y_pred)\n",
    "report_lr = precision_recall_fscore_support(y_true, y_pred, average='binary')\n",
    "print (\"\\nprecision = %0.4f, recall = %0.4f, F1 = %0.4f, accuracy = %0.4f\\n\" % \\\n",
    "           (report_lr[0], report_lr[1], report_lr[2], accuracy_score(y_true, y_pred)))"
   ]
  },
  {
   "cell_type": "markdown",
   "id": "479eed31",
   "metadata": {},
   "source": [
    "<h3> Opiniated"
   ]
  },
  {
   "cell_type": "code",
   "execution_count": 17,
   "id": "78b1e604",
   "metadata": {},
   "outputs": [
    {
     "name": "stdout",
     "output_type": "stream",
     "text": [
      "\n",
      "precision = 0.5174, recall = 0.6963, F1 = 0.5936, accuracy = 0.6023\n",
      "\n"
     ]
    },
    {
     "name": "stderr",
     "output_type": "stream",
     "text": [
      "C:\\Users\\Trevor\\AppData\\Local\\Temp\\ipykernel_3004\\3531696895.py:10: DeprecationWarning: `np.int` is a deprecated alias for the builtin `int`. To silence this warning, use `int` by itself. Doing this will not modify any behavior and is safe. When replacing `np.int`, you may wish to use e.g. `np.int64` or `np.int32` to specify the precision. If you wish to review your current use, check the release note link for additional information.\n",
      "Deprecated in NumPy 1.20; for more details and guidance: https://numpy.org/devdocs/release/1.20.0-notes.html#deprecations\n",
      "  y_pred = y_pred.astype(np.int)\n"
     ]
    }
   ],
   "source": [
    "y_true = text.copy()\n",
    "#y_true['label'] = y_true['label'].replace([-1], 2)\n",
    "y_true = y_true[\"label\"].to_numpy()\n",
    "y_true = y_true[y_true != 0]\n",
    "y_true[y_true == -1] = 0\n",
    "#y_true\n",
    "y_pred = text.copy()\n",
    "y_pred = y_pred[\"pred_opi\"].to_numpy()\n",
    "y_pred = y_pred[y_pred != 'na']\n",
    "y_pred = y_pred.astype(np.int)\n",
    "#y_pred\n",
    "report_lr = precision_recall_fscore_support(y_true, y_pred, average='binary')\n",
    "print (\"\\nprecision = %0.4f, recall = %0.4f, F1 = %0.4f, accuracy = %0.4f\\n\" % \\\n",
    "           (report_lr[0], report_lr[1], report_lr[2], accuracy_score(y_true, y_pred)))"
   ]
  },
  {
   "cell_type": "code",
   "execution_count": null,
   "id": "dc8c28ad",
   "metadata": {},
   "outputs": [],
   "source": []
  },
  {
   "cell_type": "code",
   "execution_count": null,
   "id": "de4f66b5",
   "metadata": {},
   "outputs": [],
   "source": []
  },
  {
   "cell_type": "markdown",
   "id": "ce5ab3c6",
   "metadata": {},
   "source": [
    "<h1> Stemmed text"
   ]
  },
  {
   "cell_type": "code",
   "execution_count": 18,
   "id": "3248f583",
   "metadata": {},
   "outputs": [
    {
     "name": "stdout",
     "output_type": "stream",
     "text": [
      "\n",
      "precision = 0.6186, recall = 0.6862, F1 = 0.6506, accuracy = 0.6231\n",
      "\n"
     ]
    }
   ],
   "source": [
    "text = pd.read_csv('df_stemmed_text_predictions.csv', header=0)\n",
    "y_true = text.copy()\n",
    "y_true['label'] = y_true['label'].replace([-1, 1], 1)\n",
    "y_true = y_true[\"label\"].to_numpy()\n",
    "y_pred = text['pred'].to_numpy()\n",
    "precision_recall_fscore_support(y_true, y_pred)\n",
    "report_lr = precision_recall_fscore_support(y_true, y_pred, average='binary')\n",
    "print (\"\\nprecision = %0.4f, recall = %0.4f, F1 = %0.4f, accuracy = %0.4f\\n\" % \\\n",
    "           (report_lr[0], report_lr[1], report_lr[2], accuracy_score(y_true, y_pred)))"
   ]
  },
  {
   "cell_type": "markdown",
   "id": "3a6557a7",
   "metadata": {},
   "source": [
    "<h3> Opiniated"
   ]
  },
  {
   "cell_type": "code",
   "execution_count": 19,
   "id": "f06bfcac",
   "metadata": {},
   "outputs": [
    {
     "name": "stdout",
     "output_type": "stream",
     "text": [
      "\n",
      "precision = 0.5362, recall = 0.6916, F1 = 0.6041, accuracy = 0.6218\n",
      "\n"
     ]
    },
    {
     "name": "stderr",
     "output_type": "stream",
     "text": [
      "C:\\Users\\Trevor\\AppData\\Local\\Temp\\ipykernel_3004\\3531696895.py:10: DeprecationWarning: `np.int` is a deprecated alias for the builtin `int`. To silence this warning, use `int` by itself. Doing this will not modify any behavior and is safe. When replacing `np.int`, you may wish to use e.g. `np.int64` or `np.int32` to specify the precision. If you wish to review your current use, check the release note link for additional information.\n",
      "Deprecated in NumPy 1.20; for more details and guidance: https://numpy.org/devdocs/release/1.20.0-notes.html#deprecations\n",
      "  y_pred = y_pred.astype(np.int)\n"
     ]
    }
   ],
   "source": [
    "y_true = text.copy()\n",
    "#y_true['label'] = y_true['label'].replace([-1], 2)\n",
    "y_true = y_true[\"label\"].to_numpy()\n",
    "y_true = y_true[y_true != 0]\n",
    "y_true[y_true == -1] = 0\n",
    "#y_true\n",
    "y_pred = text.copy()\n",
    "y_pred = y_pred[\"pred_opi\"].to_numpy()\n",
    "y_pred = y_pred[y_pred != 'na']\n",
    "y_pred = y_pred.astype(np.int)\n",
    "#y_pred\n",
    "report_lr = precision_recall_fscore_support(y_true, y_pred, average='binary')\n",
    "print (\"\\nprecision = %0.4f, recall = %0.4f, F1 = %0.4f, accuracy = %0.4f\\n\" % \\\n",
    "           (report_lr[0], report_lr[1], report_lr[2], accuracy_score(y_true, y_pred)))"
   ]
  },
  {
   "cell_type": "code",
   "execution_count": null,
   "id": "726ae474",
   "metadata": {},
   "outputs": [],
   "source": []
  },
  {
   "cell_type": "code",
   "execution_count": null,
   "id": "b841314a",
   "metadata": {},
   "outputs": [],
   "source": []
  }
 ],
 "metadata": {
  "kernelspec": {
   "display_name": "Python 3 (ipykernel)",
   "language": "python",
   "name": "python3"
  },
  "language_info": {
   "codemirror_mode": {
    "name": "ipython",
    "version": 3
   },
   "file_extension": ".py",
   "mimetype": "text/x-python",
   "name": "python",
   "nbconvert_exporter": "python",
   "pygments_lexer": "ipython3",
   "version": "3.9.12"
  }
 },
 "nbformat": 4,
 "nbformat_minor": 5
}
